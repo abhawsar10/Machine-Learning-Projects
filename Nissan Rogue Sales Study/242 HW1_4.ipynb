{
 "cells": [
  {
   "cell_type": "markdown",
   "id": "0dd38aea",
   "metadata": {},
   "source": [
    "# INDENG 242 HW1 Ankit Bhawsar 3038588568 Q4\n"
   ]
  },
  {
   "cell_type": "markdown",
   "id": "847fec8f",
   "metadata": {},
   "source": [
    "## Import Necessary Libraries"
   ]
  },
  {
   "cell_type": "code",
   "execution_count": 1,
   "id": "c47f9a0b",
   "metadata": {},
   "outputs": [],
   "source": [
    "import pandas as pd\n",
    "import numpy as np\n",
    "import matplotlib.pyplot as plt\n",
    "import warnings\n",
    "warnings.simplefilter(\"ignore\", UserWarning)\n",
    "from sklearn.linear_model import LinearRegression\n",
    "from sklearn.model_selection import train_test_split\n",
    "import statsmodels.api as sm\n",
    "import statsmodels.formula.api as smf\n",
    "from statsmodels.stats.outliers_influence import variance_inflation_factor"
   ]
  },
  {
   "cell_type": "markdown",
   "id": "32ce7815",
   "metadata": {},
   "source": [
    "## Import Dataset and Print Head"
   ]
  },
  {
   "cell_type": "code",
   "execution_count": 2,
   "id": "6f1dadae",
   "metadata": {},
   "outputs": [
    {
     "name": "stdout",
     "output_type": "stream",
     "text": [
      "<class 'pandas.core.frame.DataFrame'>\n",
      "RangeIndex: 162 entries, 0 to 161\n",
      "Data columns (total 8 columns):\n",
      " #   Column        Non-Null Count  Dtype  \n",
      "---  ------        --------------  -----  \n",
      " 0   MonthNumeric  162 non-null    int64  \n",
      " 1   MonthFactor   162 non-null    object \n",
      " 2   Year          162 non-null    int64  \n",
      " 3   RogueSales    162 non-null    int64  \n",
      " 4   Unemployment  162 non-null    float64\n",
      " 5   RogueQueries  162 non-null    int64  \n",
      " 6   CPIAll        162 non-null    float64\n",
      " 7   CPIEnergy     162 non-null    float64\n",
      "dtypes: float64(3), int64(4), object(1)\n",
      "memory usage: 10.2+ KB\n"
     ]
    },
    {
     "data": {
      "text/html": [
       "<div>\n",
       "<style scoped>\n",
       "    .dataframe tbody tr th:only-of-type {\n",
       "        vertical-align: middle;\n",
       "    }\n",
       "\n",
       "    .dataframe tbody tr th {\n",
       "        vertical-align: top;\n",
       "    }\n",
       "\n",
       "    .dataframe thead th {\n",
       "        text-align: right;\n",
       "    }\n",
       "</style>\n",
       "<table border=\"1\" class=\"dataframe\">\n",
       "  <thead>\n",
       "    <tr style=\"text-align: right;\">\n",
       "      <th></th>\n",
       "      <th>MonthNumeric</th>\n",
       "      <th>MonthFactor</th>\n",
       "      <th>Year</th>\n",
       "      <th>RogueSales</th>\n",
       "      <th>Unemployment</th>\n",
       "      <th>RogueQueries</th>\n",
       "      <th>CPIAll</th>\n",
       "      <th>CPIEnergy</th>\n",
       "    </tr>\n",
       "  </thead>\n",
       "  <tbody>\n",
       "    <tr>\n",
       "      <th>0</th>\n",
       "      <td>1</td>\n",
       "      <td>January</td>\n",
       "      <td>2008</td>\n",
       "      <td>5435</td>\n",
       "      <td>5.0</td>\n",
       "      <td>18</td>\n",
       "      <td>212.174</td>\n",
       "      <td>226.775</td>\n",
       "    </tr>\n",
       "    <tr>\n",
       "      <th>1</th>\n",
       "      <td>2</td>\n",
       "      <td>February</td>\n",
       "      <td>2008</td>\n",
       "      <td>5223</td>\n",
       "      <td>4.9</td>\n",
       "      <td>11</td>\n",
       "      <td>212.687</td>\n",
       "      <td>229.731</td>\n",
       "    </tr>\n",
       "    <tr>\n",
       "      <th>2</th>\n",
       "      <td>3</td>\n",
       "      <td>March</td>\n",
       "      <td>2008</td>\n",
       "      <td>6873</td>\n",
       "      <td>5.1</td>\n",
       "      <td>18</td>\n",
       "      <td>213.448</td>\n",
       "      <td>233.349</td>\n",
       "    </tr>\n",
       "    <tr>\n",
       "      <th>3</th>\n",
       "      <td>4</td>\n",
       "      <td>April</td>\n",
       "      <td>2008</td>\n",
       "      <td>5814</td>\n",
       "      <td>5.0</td>\n",
       "      <td>17</td>\n",
       "      <td>213.942</td>\n",
       "      <td>234.778</td>\n",
       "    </tr>\n",
       "    <tr>\n",
       "      <th>4</th>\n",
       "      <td>5</td>\n",
       "      <td>May</td>\n",
       "      <td>2008</td>\n",
       "      <td>7467</td>\n",
       "      <td>5.4</td>\n",
       "      <td>17</td>\n",
       "      <td>215.208</td>\n",
       "      <td>243.924</td>\n",
       "    </tr>\n",
       "  </tbody>\n",
       "</table>\n",
       "</div>"
      ],
      "text/plain": [
       "   MonthNumeric MonthFactor  Year  RogueSales  Unemployment  RogueQueries  \\\n",
       "0             1     January  2008        5435           5.0            18   \n",
       "1             2    February  2008        5223           4.9            11   \n",
       "2             3       March  2008        6873           5.1            18   \n",
       "3             4       April  2008        5814           5.0            17   \n",
       "4             5         May  2008        7467           5.4            17   \n",
       "\n",
       "    CPIAll  CPIEnergy  \n",
       "0  212.174    226.775  \n",
       "1  212.687    229.731  \n",
       "2  213.448    233.349  \n",
       "3  213.942    234.778  \n",
       "4  215.208    243.924  "
      ]
     },
     "execution_count": 2,
     "metadata": {},
     "output_type": "execute_result"
    }
   ],
   "source": [
    "rogue_data = pd.read_csv(\"Rogue_242.csv\")\n",
    "rogue_data.info()\n",
    "rogue_data.head()"
   ]
  },
  {
   "cell_type": "markdown",
   "id": "9b7f63af",
   "metadata": {},
   "source": [
    "## Convert Categorical Variables into Binary Dummy Variables\n",
    "\n",
    "Store column names in col variable.\n"
   ]
  },
  {
   "cell_type": "code",
   "execution_count": 3,
   "id": "96b62966",
   "metadata": {},
   "outputs": [],
   "source": [
    "rogue_data = pd.get_dummies(rogue_data, columns = ['MonthFactor'],drop_first = True)\n",
    "rogue_data.drop(columns='MonthNumeric',inplace=True)"
   ]
  },
  {
   "cell_type": "code",
   "execution_count": 4,
   "id": "daf365eb",
   "metadata": {},
   "outputs": [
    {
     "data": {
      "text/html": [
       "<div>\n",
       "<style scoped>\n",
       "    .dataframe tbody tr th:only-of-type {\n",
       "        vertical-align: middle;\n",
       "    }\n",
       "\n",
       "    .dataframe tbody tr th {\n",
       "        vertical-align: top;\n",
       "    }\n",
       "\n",
       "    .dataframe thead th {\n",
       "        text-align: right;\n",
       "    }\n",
       "</style>\n",
       "<table border=\"1\" class=\"dataframe\">\n",
       "  <thead>\n",
       "    <tr style=\"text-align: right;\">\n",
       "      <th></th>\n",
       "      <th>Year</th>\n",
       "      <th>RogueSales</th>\n",
       "      <th>Unemployment</th>\n",
       "      <th>RogueQueries</th>\n",
       "      <th>CPIAll</th>\n",
       "      <th>CPIEnergy</th>\n",
       "      <th>MonthFactor_August</th>\n",
       "      <th>MonthFactor_Decemeber</th>\n",
       "      <th>MonthFactor_February</th>\n",
       "      <th>MonthFactor_January</th>\n",
       "      <th>MonthFactor_July</th>\n",
       "      <th>MonthFactor_June</th>\n",
       "      <th>MonthFactor_March</th>\n",
       "      <th>MonthFactor_May</th>\n",
       "      <th>MonthFactor_November</th>\n",
       "      <th>MonthFactor_October</th>\n",
       "      <th>MonthFactor_Septeber</th>\n",
       "    </tr>\n",
       "  </thead>\n",
       "  <tbody>\n",
       "    <tr>\n",
       "      <th>0</th>\n",
       "      <td>2008</td>\n",
       "      <td>5435</td>\n",
       "      <td>5.0</td>\n",
       "      <td>18</td>\n",
       "      <td>212.174</td>\n",
       "      <td>226.775</td>\n",
       "      <td>0</td>\n",
       "      <td>0</td>\n",
       "      <td>0</td>\n",
       "      <td>1</td>\n",
       "      <td>0</td>\n",
       "      <td>0</td>\n",
       "      <td>0</td>\n",
       "      <td>0</td>\n",
       "      <td>0</td>\n",
       "      <td>0</td>\n",
       "      <td>0</td>\n",
       "    </tr>\n",
       "    <tr>\n",
       "      <th>1</th>\n",
       "      <td>2008</td>\n",
       "      <td>5223</td>\n",
       "      <td>4.9</td>\n",
       "      <td>11</td>\n",
       "      <td>212.687</td>\n",
       "      <td>229.731</td>\n",
       "      <td>0</td>\n",
       "      <td>0</td>\n",
       "      <td>1</td>\n",
       "      <td>0</td>\n",
       "      <td>0</td>\n",
       "      <td>0</td>\n",
       "      <td>0</td>\n",
       "      <td>0</td>\n",
       "      <td>0</td>\n",
       "      <td>0</td>\n",
       "      <td>0</td>\n",
       "    </tr>\n",
       "    <tr>\n",
       "      <th>2</th>\n",
       "      <td>2008</td>\n",
       "      <td>6873</td>\n",
       "      <td>5.1</td>\n",
       "      <td>18</td>\n",
       "      <td>213.448</td>\n",
       "      <td>233.349</td>\n",
       "      <td>0</td>\n",
       "      <td>0</td>\n",
       "      <td>0</td>\n",
       "      <td>0</td>\n",
       "      <td>0</td>\n",
       "      <td>0</td>\n",
       "      <td>1</td>\n",
       "      <td>0</td>\n",
       "      <td>0</td>\n",
       "      <td>0</td>\n",
       "      <td>0</td>\n",
       "    </tr>\n",
       "    <tr>\n",
       "      <th>3</th>\n",
       "      <td>2008</td>\n",
       "      <td>5814</td>\n",
       "      <td>5.0</td>\n",
       "      <td>17</td>\n",
       "      <td>213.942</td>\n",
       "      <td>234.778</td>\n",
       "      <td>0</td>\n",
       "      <td>0</td>\n",
       "      <td>0</td>\n",
       "      <td>0</td>\n",
       "      <td>0</td>\n",
       "      <td>0</td>\n",
       "      <td>0</td>\n",
       "      <td>0</td>\n",
       "      <td>0</td>\n",
       "      <td>0</td>\n",
       "      <td>0</td>\n",
       "    </tr>\n",
       "    <tr>\n",
       "      <th>4</th>\n",
       "      <td>2008</td>\n",
       "      <td>7467</td>\n",
       "      <td>5.4</td>\n",
       "      <td>17</td>\n",
       "      <td>215.208</td>\n",
       "      <td>243.924</td>\n",
       "      <td>0</td>\n",
       "      <td>0</td>\n",
       "      <td>0</td>\n",
       "      <td>0</td>\n",
       "      <td>0</td>\n",
       "      <td>0</td>\n",
       "      <td>0</td>\n",
       "      <td>1</td>\n",
       "      <td>0</td>\n",
       "      <td>0</td>\n",
       "      <td>0</td>\n",
       "    </tr>\n",
       "  </tbody>\n",
       "</table>\n",
       "</div>"
      ],
      "text/plain": [
       "   Year  RogueSales  Unemployment  RogueQueries   CPIAll  CPIEnergy  \\\n",
       "0  2008        5435           5.0            18  212.174    226.775   \n",
       "1  2008        5223           4.9            11  212.687    229.731   \n",
       "2  2008        6873           5.1            18  213.448    233.349   \n",
       "3  2008        5814           5.0            17  213.942    234.778   \n",
       "4  2008        7467           5.4            17  215.208    243.924   \n",
       "\n",
       "   MonthFactor_August  MonthFactor_Decemeber  MonthFactor_February  \\\n",
       "0                   0                      0                     0   \n",
       "1                   0                      0                     1   \n",
       "2                   0                      0                     0   \n",
       "3                   0                      0                     0   \n",
       "4                   0                      0                     0   \n",
       "\n",
       "   MonthFactor_January  MonthFactor_July  MonthFactor_June  MonthFactor_March  \\\n",
       "0                    1                 0                 0                  0   \n",
       "1                    0                 0                 0                  0   \n",
       "2                    0                 0                 0                  1   \n",
       "3                    0                 0                 0                  0   \n",
       "4                    0                 0                 0                  0   \n",
       "\n",
       "   MonthFactor_May  MonthFactor_November  MonthFactor_October  \\\n",
       "0                0                     0                    0   \n",
       "1                0                     0                    0   \n",
       "2                0                     0                    0   \n",
       "3                0                     0                    0   \n",
       "4                1                     0                    0   \n",
       "\n",
       "   MonthFactor_Septeber  \n",
       "0                     0  \n",
       "1                     0  \n",
       "2                     0  \n",
       "3                     0  \n",
       "4                     0  "
      ]
     },
     "execution_count": 4,
     "metadata": {},
     "output_type": "execute_result"
    }
   ],
   "source": [
    "rogue_data.head()"
   ]
  },
  {
   "cell_type": "markdown",
   "id": "3794361d",
   "metadata": {},
   "source": [
    "## Split Dataset into Train and Test in ratio 75%-25% while preserving chronological order\n",
    "For this problem we have to split the dataset into training and testing set in chronological order, and then populate X_train, y_train, X_test, y_test variables."
   ]
  },
  {
   "cell_type": "markdown",
   "id": "acc29a71",
   "metadata": {},
   "source": [
    "## Q 4 (a) (i)\n",
    "\n",
    "**It is important to maintain chronological order when using time-series data because it is possible that the more recent data is more important to the model than less recent data. i.e. the latest data gets more weightage than the older data.**\n",
    "\n",
    "**Applying this to our case, we want our model to predict Nissan Rogue sales for the future which means more recent data, say from the 2020s is more relevant to us than say data from 2008. This is why we dont split the data randomly**"
   ]
  },
  {
   "cell_type": "code",
   "execution_count": 5,
   "id": "af5821a1",
   "metadata": {},
   "outputs": [
    {
     "name": "stdout",
     "output_type": "stream",
     "text": [
      "Train Shape=  (120, 17)\n",
      "Test Shape=  (42, 17)\n"
     ]
    },
    {
     "data": {
      "text/html": [
       "<div>\n",
       "<style scoped>\n",
       "    .dataframe tbody tr th:only-of-type {\n",
       "        vertical-align: middle;\n",
       "    }\n",
       "\n",
       "    .dataframe tbody tr th {\n",
       "        vertical-align: top;\n",
       "    }\n",
       "\n",
       "    .dataframe thead th {\n",
       "        text-align: right;\n",
       "    }\n",
       "</style>\n",
       "<table border=\"1\" class=\"dataframe\">\n",
       "  <thead>\n",
       "    <tr style=\"text-align: right;\">\n",
       "      <th></th>\n",
       "      <th>Year</th>\n",
       "      <th>RogueSales</th>\n",
       "      <th>Unemployment</th>\n",
       "      <th>RogueQueries</th>\n",
       "      <th>CPIAll</th>\n",
       "      <th>CPIEnergy</th>\n",
       "      <th>MonthFactor_August</th>\n",
       "      <th>MonthFactor_Decemeber</th>\n",
       "      <th>MonthFactor_February</th>\n",
       "      <th>MonthFactor_January</th>\n",
       "      <th>MonthFactor_July</th>\n",
       "      <th>MonthFactor_June</th>\n",
       "      <th>MonthFactor_March</th>\n",
       "      <th>MonthFactor_May</th>\n",
       "      <th>MonthFactor_November</th>\n",
       "      <th>MonthFactor_October</th>\n",
       "      <th>MonthFactor_Septeber</th>\n",
       "    </tr>\n",
       "  </thead>\n",
       "  <tbody>\n",
       "    <tr>\n",
       "      <th>120</th>\n",
       "      <td>2018</td>\n",
       "      <td>36184</td>\n",
       "      <td>4.0</td>\n",
       "      <td>72</td>\n",
       "      <td>248.721</td>\n",
       "      <td>217.273</td>\n",
       "      <td>0</td>\n",
       "      <td>0</td>\n",
       "      <td>0</td>\n",
       "      <td>1</td>\n",
       "      <td>0</td>\n",
       "      <td>0</td>\n",
       "      <td>0</td>\n",
       "      <td>0</td>\n",
       "      <td>0</td>\n",
       "      <td>0</td>\n",
       "      <td>0</td>\n",
       "    </tr>\n",
       "    <tr>\n",
       "      <th>121</th>\n",
       "      <td>2018</td>\n",
       "      <td>38119</td>\n",
       "      <td>4.1</td>\n",
       "      <td>72</td>\n",
       "      <td>249.300</td>\n",
       "      <td>219.765</td>\n",
       "      <td>0</td>\n",
       "      <td>0</td>\n",
       "      <td>1</td>\n",
       "      <td>0</td>\n",
       "      <td>0</td>\n",
       "      <td>0</td>\n",
       "      <td>0</td>\n",
       "      <td>0</td>\n",
       "      <td>0</td>\n",
       "      <td>0</td>\n",
       "      <td>0</td>\n",
       "    </tr>\n",
       "    <tr>\n",
       "      <th>122</th>\n",
       "      <td>2018</td>\n",
       "      <td>42151</td>\n",
       "      <td>4.0</td>\n",
       "      <td>71</td>\n",
       "      <td>249.517</td>\n",
       "      <td>216.492</td>\n",
       "      <td>0</td>\n",
       "      <td>0</td>\n",
       "      <td>0</td>\n",
       "      <td>0</td>\n",
       "      <td>0</td>\n",
       "      <td>0</td>\n",
       "      <td>1</td>\n",
       "      <td>0</td>\n",
       "      <td>0</td>\n",
       "      <td>0</td>\n",
       "      <td>0</td>\n",
       "    </tr>\n",
       "    <tr>\n",
       "      <th>123</th>\n",
       "      <td>2018</td>\n",
       "      <td>23331</td>\n",
       "      <td>4.0</td>\n",
       "      <td>72</td>\n",
       "      <td>250.275</td>\n",
       "      <td>219.424</td>\n",
       "      <td>0</td>\n",
       "      <td>0</td>\n",
       "      <td>0</td>\n",
       "      <td>0</td>\n",
       "      <td>0</td>\n",
       "      <td>0</td>\n",
       "      <td>0</td>\n",
       "      <td>0</td>\n",
       "      <td>0</td>\n",
       "      <td>0</td>\n",
       "      <td>0</td>\n",
       "    </tr>\n",
       "    <tr>\n",
       "      <th>124</th>\n",
       "      <td>2018</td>\n",
       "      <td>38413</td>\n",
       "      <td>3.8</td>\n",
       "      <td>79</td>\n",
       "      <td>250.786</td>\n",
       "      <td>220.770</td>\n",
       "      <td>0</td>\n",
       "      <td>0</td>\n",
       "      <td>0</td>\n",
       "      <td>0</td>\n",
       "      <td>0</td>\n",
       "      <td>0</td>\n",
       "      <td>0</td>\n",
       "      <td>1</td>\n",
       "      <td>0</td>\n",
       "      <td>0</td>\n",
       "      <td>0</td>\n",
       "    </tr>\n",
       "  </tbody>\n",
       "</table>\n",
       "</div>"
      ],
      "text/plain": [
       "     Year  RogueSales  Unemployment  RogueQueries   CPIAll  CPIEnergy  \\\n",
       "120  2018       36184           4.0            72  248.721    217.273   \n",
       "121  2018       38119           4.1            72  249.300    219.765   \n",
       "122  2018       42151           4.0            71  249.517    216.492   \n",
       "123  2018       23331           4.0            72  250.275    219.424   \n",
       "124  2018       38413           3.8            79  250.786    220.770   \n",
       "\n",
       "     MonthFactor_August  MonthFactor_Decemeber  MonthFactor_February  \\\n",
       "120                   0                      0                     0   \n",
       "121                   0                      0                     1   \n",
       "122                   0                      0                     0   \n",
       "123                   0                      0                     0   \n",
       "124                   0                      0                     0   \n",
       "\n",
       "     MonthFactor_January  MonthFactor_July  MonthFactor_June  \\\n",
       "120                    1                 0                 0   \n",
       "121                    0                 0                 0   \n",
       "122                    0                 0                 0   \n",
       "123                    0                 0                 0   \n",
       "124                    0                 0                 0   \n",
       "\n",
       "     MonthFactor_March  MonthFactor_May  MonthFactor_November  \\\n",
       "120                  0                0                     0   \n",
       "121                  0                0                     0   \n",
       "122                  1                0                     0   \n",
       "123                  0                0                     0   \n",
       "124                  0                1                     0   \n",
       "\n",
       "     MonthFactor_October  MonthFactor_Septeber  \n",
       "120                    0                     0  \n",
       "121                    0                     0  \n",
       "122                    0                     0  \n",
       "123                    0                     0  \n",
       "124                    0                     0  "
      ]
     },
     "execution_count": 5,
     "metadata": {},
     "output_type": "execute_result"
    }
   ],
   "source": [
    "rogue_train = rogue_data[rogue_data['Year']<=2017]\n",
    "rogue_test = rogue_data[rogue_data['Year']>2017]\n",
    "\n",
    "print(\"Train Shape= \",rogue_train.shape)\n",
    "print(\"Test Shape= \",rogue_test.shape)\n",
    "\n",
    "rogue_test.head()"
   ]
  },
  {
   "cell_type": "code",
   "execution_count": 6,
   "id": "65c51b82",
   "metadata": {},
   "outputs": [
    {
     "name": "stdout",
     "output_type": "stream",
     "text": [
      "X Train Shape=  (120, 16)\n",
      "y Train Shape=  (120,)\n",
      "X Test Shape=  (42, 16)\n",
      "y Test Shape=  (42,)\n"
     ]
    }
   ],
   "source": [
    "X_train = rogue_train.drop(columns=[\"RogueSales\"])\n",
    "X_test = rogue_test.drop(columns=[\"RogueSales\"])\n",
    "\n",
    "y_train = rogue_train['RogueSales']\n",
    "y_test = rogue_test['RogueSales']\n",
    "\n",
    "print(\"X Train Shape= \",X_train.shape)\n",
    "print(\"y Train Shape= \",y_train.shape)\n",
    "print(\"X Test Shape= \",X_test.shape)\n",
    "print(\"y Test Shape= \",y_test.shape)\n",
    "\n",
    "y_test.reset_index(drop=True,inplace=True)\n",
    "X_test.reset_index(drop=True,inplace=True)\n"
   ]
  },
  {
   "cell_type": "markdown",
   "id": "bcac5e3d",
   "metadata": {},
   "source": [
    "### Fit Simple Linear Regression Model to Data\n"
   ]
  },
  {
   "cell_type": "code",
   "execution_count": 7,
   "id": "177c17f3",
   "metadata": {},
   "outputs": [
    {
     "name": "stdout",
     "output_type": "stream",
     "text": [
      "R_squared: 0.9033906803790014\n",
      "\n",
      "Features: ['Year' 'Unemployment' 'RogueQueries' 'CPIAll' 'CPIEnergy'\n",
      " 'MonthFactor_August' 'MonthFactor_Decemeber' 'MonthFactor_February'\n",
      " 'MonthFactor_January' 'MonthFactor_July' 'MonthFactor_June'\n",
      " 'MonthFactor_March' 'MonthFactor_May' 'MonthFactor_November'\n",
      " 'MonthFactor_October' 'MonthFactor_Septeber']\n",
      "\n",
      "Intercept: -109149.49947215345\n",
      "\n",
      "Coefficients: [   20.17119267  -174.52546053   230.11703206   401.65281232\n",
      "   -71.35843825  2951.29263128  3210.7673643   2450.4934264\n",
      " -1112.07651339  1799.43947741  1321.2679001   4656.84536934\n",
      "  2801.40527045   722.36306006    90.79395546  1706.47435034]\n"
     ]
    }
   ],
   "source": [
    "simple_model = LinearRegression()\n",
    "simple_model.fit(X=X_train,y=y_train)\n",
    "\n",
    "R_squared = simple_model.score(X_train, y_train)\n",
    "print('R_squared:', R_squared)\n",
    "print()\n",
    "\n",
    "intercept = simple_model.intercept_\n",
    "coefficients = simple_model.coef_\n",
    "features = simple_model.feature_names_in_\n",
    "\n",
    "print('Features:', features)\n",
    "print()\n",
    "print('Intercept:', intercept)\n",
    "print()\n",
    "print('Coefficients:', coefficients)"
   ]
  },
  {
   "cell_type": "markdown",
   "id": "3a7c6f76",
   "metadata": {},
   "source": [
    "## Q 4 (a) (ii)\n",
    "\n",
    "**Above we see the intercept and different coefficients assigned by the model while fitting the data.**\n",
    "\n",
    "**We know the linear regression model is as follows:**\n",
    "\n",
    "**Z = intercept + coeff_1(x1) + coeff_2(x2) + ... + coeff_p(xp)**\n",
    "\n",
    "**We can rewrite the above equation for our model as:**\n",
    "\n",
    "**Z = -109149.49947215345 + 20.17119267(x1) -174.52546053(x2) + 230.11703206(x3) + ... + 1706.47435034(x16)**\n",
    "\n",
    "**or**\n",
    "\n",
    "**Z = -109149.49947215345 + 20.17119267(Year) -174.52546053(Unemployment) + 230.11703206(CPIEnergy) + ... + 1706.47435034(MonthFactor_Septeber)**\n",
    "\n",
    "**This means that the dependent variable Z will change by a factor coefficient(i) if independent variable (i) changes by 1.**\n",
    "\n",
    "**ex: if values of Unemployment increases or decreases by 1, RogueSales will decrease or increase by a factor of 174 respectively.**\n",
    "\n",
    "---\n",
    "\n"
   ]
  },
  {
   "cell_type": "markdown",
   "id": "ac998cc5",
   "metadata": {},
   "source": [
    "\n",
    "### Finding Predictions of X_test data"
   ]
  },
  {
   "cell_type": "code",
   "execution_count": 8,
   "id": "8b157e93",
   "metadata": {},
   "outputs": [
    {
     "data": {
      "text/plain": [
       "array([30709.44247814, 34309.29162211, 36623.69390769, 32292.19546122,\n",
       "       36848.52117744, 35453.72422995, 36875.74662076, 37538.83516005,\n",
       "       33685.12104266, 32489.89588217, 34168.50785297, 37140.05110784,\n",
       "       33235.18270509, 37361.39130827, 41136.07341381, 35290.73535165,\n",
       "       39713.983669  , 38921.10449708, 40221.96783883, 40014.52290478,\n",
       "       38526.00198035, 35259.10874754, 37789.01889725, 39216.5023818 ,\n",
       "       36089.03675364, 40534.64858357, 37968.63215901, 29154.01200294,\n",
       "       37477.50252152, 40262.01378231, 42065.06162822, 42386.49776435,\n",
       "       39473.82622957, 39898.9538307 , 41801.52412159, 45097.86041171,\n",
       "       40397.31685372, 44921.74566304, 48188.4239337 , 44349.36582655,\n",
       "       46975.09982756, 47133.87322867])"
      ]
     },
     "execution_count": 8,
     "metadata": {},
     "output_type": "execute_result"
    }
   ],
   "source": [
    "y_pred = simple_model.predict(X_test)\n",
    "y_pred"
   ]
  },
  {
   "cell_type": "markdown",
   "id": "ce45bcdf",
   "metadata": {},
   "source": [
    "\n",
    "### Function to calculate Out-of-Sample R^2 Value\n",
    "\n",
    "We write our own function to find Out of Sample R^2 value."
   ]
  },
  {
   "cell_type": "code",
   "execution_count": 9,
   "id": "c4fe51cc",
   "metadata": {},
   "outputs": [],
   "source": [
    "def OutOfSample_r2(y_test,y_pred,y_train):\n",
    "    \n",
    "    avg = np.mean(y_train)\n",
    "    RSS = np.sum((y_test - y_pred)**2)\n",
    "    TSS = np.sum((y_test - avg )**2)\n",
    "\n",
    "    return 1-(RSS/TSS)\n"
   ]
  },
  {
   "cell_type": "code",
   "execution_count": 10,
   "id": "a791bebe",
   "metadata": {},
   "outputs": [
    {
     "name": "stdout",
     "output_type": "stream",
     "text": [
      "0.06652804670167667\n"
     ]
    }
   ],
   "source": [
    "print(OutOfSample_r2(y_test,y_pred,y_train))"
   ]
  },
  {
   "cell_type": "markdown",
   "id": "ecfe5154",
   "metadata": {},
   "source": [
    "## Q 4 (a) (iii)\n",
    "\n",
    "**<ins>Out of Sample R2</ins>**\n",
    "\n",
    "**OSR^2 is a metric similar to R^2 but based on unseen (test) data. This gives us an estimate of how close our model fits to previously unseen data. If R^2 value is high but OSR^2 value is low it means our model has overfitted the training the data and producers a very high error on testing data.**\n",
    "\n",
    "**Formula for OSR^2 is given as:**\n",
    "\n",
    "**OSR^2 = 1 - (RSS/TSS)**\n",
    "\n",
    "**where RSS is the residual sum of squares, which is the sum of squares of the deviations of predicted test values (y_pred) from actual test values (y_test)**\n",
    "\n",
    "**where TSS is total sum of squares, which is the sum of squares of deviations of actual test values (y_test) from the output of our baseline model, which in our case predicts the average of training data.**\n",
    "\n",
    "**We can observe that our Out-of-Sample R^2 value is only 0.06 which means our model is performing very badly. This is because our model is trained on data split keeping the chronological constant. The model is not robust enough to predict the future sales of cars. In the next sections, we use random sampling to produce much better performance.\n",
    "\n",
    "---\n"
   ]
  },
  {
   "cell_type": "markdown",
   "id": "e251990e",
   "metadata": {},
   "source": [
    "\n",
    "## Now Splitting the Dataset Randomly"
   ]
  },
  {
   "cell_type": "code",
   "execution_count": 11,
   "id": "7368d862",
   "metadata": {},
   "outputs": [
    {
     "name": "stdout",
     "output_type": "stream",
     "text": [
      "0    2016\n",
      "1    2019\n",
      "2    2016\n",
      "3    2010\n",
      "4    2013\n",
      "Name: Year, dtype: int64\n",
      "0    2014\n",
      "1    2012\n",
      "2    2017\n",
      "3    2009\n",
      "4    2012\n",
      "Name: Year, dtype: int64\n"
     ]
    }
   ],
   "source": [
    "rogue_train, rogue_test = train_test_split(rogue_data, test_size = 0.25, random_state = 4040)\n",
    "\n",
    "X_train = rogue_train.drop(columns=[\"RogueSales\"])\n",
    "X_test = rogue_test.drop(columns=[\"RogueSales\"])\n",
    "y_train = rogue_train['RogueSales']\n",
    "y_test = rogue_test['RogueSales']\n",
    "\n",
    "\n",
    "X_train.reset_index(drop=True,inplace=True)\n",
    "y_train.reset_index(drop=True,inplace=True)\n",
    "X_test.reset_index(drop=True,inplace=True)\n",
    "y_test.reset_index(drop=True,inplace=True)\n",
    "\n",
    "\n",
    "print(X_train['Year'].head())\n",
    "print(X_test['Year'].head())"
   ]
  },
  {
   "cell_type": "code",
   "execution_count": 12,
   "id": "70c88804",
   "metadata": {},
   "outputs": [
    {
     "name": "stdout",
     "output_type": "stream",
     "text": [
      "R_squared: 0.8508501554635496\n",
      "\n",
      "Features: ['Year' 'Unemployment' 'RogueQueries' 'CPIAll' 'CPIEnergy'\n",
      " 'MonthFactor_August' 'MonthFactor_Decemeber' 'MonthFactor_February'\n",
      " 'MonthFactor_January' 'MonthFactor_July' 'MonthFactor_June'\n",
      " 'MonthFactor_March' 'MonthFactor_May' 'MonthFactor_November'\n",
      " 'MonthFactor_October' 'MonthFactor_Septeber']\n",
      "\n",
      "Intercept: -13939453.362845039\n",
      "\n",
      "Coefficients: [ 7116.73147492 -1348.27898317   205.13106456 -1707.92323989\n",
      "   109.25530042  5884.3178172   7830.30712773  2299.75444868\n",
      " -3825.90080336  2587.25788059  4075.04960516  3151.89092469\n",
      "  3401.27166118  3566.85358299  3445.19554033  4011.57920585]\n"
     ]
    }
   ],
   "source": [
    "simple_model = LinearRegression()\n",
    "simple_model.fit(X=X_train,y=y_train)\n",
    "\n",
    "R_squared = simple_model.score(X_train, y_train)\n",
    "print('R_squared:', R_squared)\n",
    "print()\n",
    "\n",
    "intercept = simple_model.intercept_\n",
    "coefficients = simple_model.coef_\n",
    "features = simple_model.feature_names_in_\n",
    "\n",
    "print('Features:', features)\n",
    "print()\n",
    "print('Intercept:', intercept)\n",
    "print()\n",
    "print('Coefficients:', coefficients)"
   ]
  },
  {
   "cell_type": "code",
   "execution_count": 13,
   "id": "3e472d56",
   "metadata": {},
   "outputs": [
    {
     "data": {
      "text/plain": [
       "array([23201.75701819,  8792.89625369, 31620.73742402,  5005.76283776,\n",
       "       11379.5111842 , 12062.97131286, 10172.55231177, 22656.49070006,\n",
       "       26603.02418649, 31877.22819295, 27502.26247391, 28009.82042625,\n",
       "        9995.37170922, 23761.78285549, 26375.17598934, 27631.58455396,\n",
       "        7436.67694237, 31930.84956139, 28670.91125873, 19084.51234805,\n",
       "        7713.30966697, 29686.42515455, 32390.97419478, 27906.67108793,\n",
       "       27950.45594922, 32498.78736091, 18240.63841612, 28158.36756012,\n",
       "       29355.92577103, 33566.82277402, 12519.81574141, 15161.51177488,\n",
       "       11853.28144753, 13029.35037271, 10958.17212092,  7136.68432578,\n",
       "       21479.29477861, 12631.60838542, 27421.74315641, 31660.54685949,\n",
       "       10739.32722487])"
      ]
     },
     "execution_count": 13,
     "metadata": {},
     "output_type": "execute_result"
    }
   ],
   "source": [
    "y_pred = simple_model.predict(X_test)\n",
    "y_pred"
   ]
  },
  {
   "cell_type": "code",
   "execution_count": 14,
   "id": "1e849fa0",
   "metadata": {},
   "outputs": [
    {
     "name": "stdout",
     "output_type": "stream",
     "text": [
      "0.8416318359772264\n"
     ]
    }
   ],
   "source": [
    "print(OutOfSample_r2(y_test,y_pred,y_train))"
   ]
  },
  {
   "cell_type": "markdown",
   "id": "e232b71d",
   "metadata": {},
   "source": [
    "\n",
    "---\n",
    "\n",
    "### Calculate VIF for each explanatory variable\n",
    "\n",
    "## Q4 (b) (i)\n",
    "\n",
    "\n",
    "**Variance Inflation Factor:**\n",
    "\n",
    "**VIF is a metric used to identify colliniarity between the independent features of a model. Linear regression models assume independent variables are completely independent from each other. This is so that the actual effect of each feature on the dependent variable can be captured.**\n",
    "\n",
    "**VIF of a variable (i) is defined as the the ratio of overall variance and variance of a model that contains only variable (i). So a very high VIF means that variable is highly collinear.**\n",
    "\n",
    "**Formula: VIF = 1/(1 - r(i)^2)**\n",
    "\n",
    "**Where r(i)^2 is the r^2 value of regressing the ith variable on other variables.**\n",
    "\n",
    "**So if r^2 == 0, there is no relation between variable and other variables,  VIF = 1, i.e. there is no collinearity.**\n",
    "\n",
    "**Practically any VIF from 1-5 is acceptable.**\n"
   ]
  },
  {
   "cell_type": "code",
   "execution_count": 15,
   "id": "a0ea183a",
   "metadata": {},
   "outputs": [
    {
     "data": {
      "text/plain": [
       "Year            81.242317\n",
       "Unemployment     1.706625\n",
       "RogueQueries    16.647399\n",
       "CPIAll          91.997053\n",
       "CPIEnergy        2.716457\n",
       "dtype: float64"
      ]
     },
     "execution_count": 15,
     "metadata": {},
     "output_type": "execute_result"
    }
   ],
   "source": [
    "def VIF(df, columns):\n",
    "    \n",
    "    values = sm.add_constant(df[columns]).values\n",
    "    num_columns = len(columns)+1\n",
    "    vif = [variance_inflation_factor(values, i) for i in range(num_columns)]\n",
    "    \n",
    "    return pd.Series(vif[1:], index=columns)\n",
    "\n",
    "\n",
    "### Function to calculate Out-of-Sample R^2 Value\n",
    "VIF(X_train,['Year','Unemployment','RogueQueries','CPIAll','CPIEnergy'])"
   ]
  },
  {
   "cell_type": "markdown",
   "id": "a71b3b1a",
   "metadata": {},
   "source": [
    "\n",
    "\n",
    "## Q4 (b) (ii)\n",
    "\n",
    "\n",
    "**Since VIF of some variables is very high, we try dropping them**\n"
   ]
  },
  {
   "cell_type": "code",
   "execution_count": 16,
   "id": "6058c23b",
   "metadata": {},
   "outputs": [
    {
     "name": "stdout",
     "output_type": "stream",
     "text": [
      "Year            11.929895\n",
      "Unemployment     1.646086\n",
      "RogueQueries    13.837601\n",
      "CPIEnergy        1.102315\n",
      "dtype: float64\n"
     ]
    }
   ],
   "source": [
    "print(VIF(X_train,['Year','Unemployment','RogueQueries','CPIEnergy']))"
   ]
  },
  {
   "cell_type": "code",
   "execution_count": 17,
   "id": "8c3996aa",
   "metadata": {},
   "outputs": [
    {
     "name": "stdout",
     "output_type": "stream",
     "text": [
      "Year            1.402770\n",
      "Unemployment    1.296848\n",
      "CPIEnergy       1.095436\n",
      "dtype: float64\n"
     ]
    }
   ],
   "source": [
    "print(VIF(X_train,['Year','Unemployment','CPIEnergy']))"
   ]
  },
  {
   "cell_type": "code",
   "execution_count": 18,
   "id": "f979b652",
   "metadata": {},
   "outputs": [],
   "source": [
    "X_train = rogue_train.drop(columns=[\"RogueSales\"])\n",
    "X_test = rogue_test.drop(columns=[\"RogueSales\"])\n",
    "\n",
    "y_train = rogue_train['RogueSales']\n",
    "y_test = rogue_test['RogueSales']\n",
    "\n",
    "X_train = X_train.drop(columns=['RogueQueries','CPIAll'])\n",
    "X_test = X_test.drop(columns=['RogueQueries','CPIAll'])\n"
   ]
  },
  {
   "cell_type": "code",
   "execution_count": 19,
   "id": "557a5d38",
   "metadata": {},
   "outputs": [
    {
     "name": "stdout",
     "output_type": "stream",
     "text": [
      "R_squared: 0.8089941136468248\n",
      "\n",
      "Features: ['Year' 'Unemployment' 'CPIEnergy' 'MonthFactor_August'\n",
      " 'MonthFactor_Decemeber' 'MonthFactor_February' 'MonthFactor_January'\n",
      " 'MonthFactor_July' 'MonthFactor_June' 'MonthFactor_March'\n",
      " 'MonthFactor_May' 'MonthFactor_November' 'MonthFactor_October'\n",
      " 'MonthFactor_Septeber']\n",
      "\n",
      "Intercept: -2853777.2079107673\n",
      "\n",
      "Coefficients: [ 1435.73487035 -1807.04548265   -44.47771681  4811.81029675\n",
      "  3454.9147893   3879.16322683 -1690.09754024  2936.46309123\n",
      "  3430.43194339  4230.75691726  3146.71261028   267.38554311\n",
      "   124.7771686   1032.26880732]\n"
     ]
    }
   ],
   "source": [
    "simple_model = LinearRegression()\n",
    "simple_model.fit(X=X_train,y=y_train)\n",
    "\n",
    "R_squared = simple_model.score(X_train, y_train)\n",
    "print('R_squared:', R_squared)\n",
    "print()\n",
    "\n",
    "intercept = simple_model.intercept_\n",
    "coefficients = simple_model.coef_\n",
    "features = simple_model.feature_names_in_\n",
    "\n",
    "print('Features:', features)\n",
    "print()\n",
    "print('Intercept:', intercept)\n",
    "print()\n",
    "print('Coefficients:', coefficients)"
   ]
  },
  {
   "cell_type": "code",
   "execution_count": 20,
   "id": "8be0d163",
   "metadata": {},
   "outputs": [
    {
     "data": {
      "text/plain": [
       "array([18448.68609375,  9564.12201311, 28667.00736703,  4918.31171838,\n",
       "       12651.47000732, 12495.3120953 ,  8658.48236764, 23143.79081477,\n",
       "       24953.67402048, 30231.39176899, 25547.31648543, 26548.09999186,\n",
       "        6582.36994144, 21435.83790831, 26876.39541216, 26709.1096694 ,\n",
       "        7197.94896486, 30909.2655748 , 27990.47258048, 16775.15337474,\n",
       "        9312.47214126, 26752.20902199, 29996.35469184, 27093.32100161,\n",
       "       25545.55919359, 32717.57610954, 18462.03688303, 27843.01735386,\n",
       "       26116.58531978, 31617.28600552, 13216.55358494, 15255.4899886 ,\n",
       "       13814.40596814, 13041.85025703,  9431.12841137,  6842.77120952,\n",
       "       21408.29874005,  8597.0494746 , 27754.46797389, 34445.1485122 ,\n",
       "       13985.14175365])"
      ]
     },
     "execution_count": 20,
     "metadata": {},
     "output_type": "execute_result"
    }
   ],
   "source": [
    "y_pred = simple_model.predict(X_test)\n",
    "y_pred"
   ]
  },
  {
   "cell_type": "code",
   "execution_count": 21,
   "id": "729c2e55",
   "metadata": {},
   "outputs": [
    {
     "name": "stdout",
     "output_type": "stream",
     "text": [
      "0.7776575428457726\n"
     ]
    }
   ],
   "source": [
    "print(OutOfSample_r2(y_test,y_pred,y_train))"
   ]
  },
  {
   "cell_type": "markdown",
   "id": "a3e9a4e8",
   "metadata": {},
   "source": [
    "## Q4 (b) (iii)\n",
    "\n",
    "**The two variables were dropped because they had extremely high collinearity. For example, the RogueQueries column was dropped because it is obvious that it will have collinearity with the Year column because internet usage in 2008 will be significantly lower than that in 2022. This means these two columns provide basically the same information to the model and one of them can be dropped.**\n",
    "\n",
    "**As we can see the OSR^2 value of this new improved model (0.77) is slightly lower than that using all features (0.84). But now we have a model that is perfectly suited to use all the information provided without worrying about one variable skewing the data of another variable.**\n",
    "\n",
    "**We can also see from the display below that:**\n",
    "\n",
    "**Coefficient of 'Year' has decreased, meaning its significance has decreased, coefficient of 'Unemployment' has decreased, meaning its significance has decreased,etc**\n"
   ]
  },
  {
   "cell_type": "raw",
   "id": "238640ee",
   "metadata": {},
   "source": [
    "=======================================\n",
    "Previous Model:\n",
    "R_squared: 0.8508501554635496\n",
    "\n",
    "Features: ['Year' 'Unemployment' 'RogueQueries' 'CPIAll' 'CPIEnergy'\n",
    " 'MonthFactor_August' 'MonthFactor_Decemeber' 'MonthFactor_February'\n",
    " 'MonthFactor_January' 'MonthFactor_July' 'MonthFactor_June'\n",
    " 'MonthFactor_March' 'MonthFactor_May' 'MonthFactor_November'\n",
    " 'MonthFactor_October' 'MonthFactor_Septeber']\n",
    "\n",
    "Intercept: -13939453.362845039\n",
    "\n",
    "Coefficients: [ 7116.73147492 -1348.27898317   205.13106456 -1707.92323989\n",
    "   109.25530042  5884.3178172   7830.30712773  2299.75444868\n",
    " -3825.90080336  2587.25788059  4075.04960516  3151.89092469\n",
    "  3401.27166118  3566.85358299  3445.19554033  4011.57920585]\n",
    "  \n",
    "=======================================\n",
    "VIF-Improved Model:\n",
    "\n",
    "R_squared: 0.8089941136468248\n",
    "\n",
    "Features: ['Year' 'Unemployment' 'CPIEnergy' 'MonthFactor_August'\n",
    " 'MonthFactor_Decemeber' 'MonthFactor_February' 'MonthFactor_January'\n",
    " 'MonthFactor_July' 'MonthFactor_June' 'MonthFactor_March'\n",
    " 'MonthFactor_May' 'MonthFactor_November' 'MonthFactor_October'\n",
    " 'MonthFactor_Septeber']\n",
    "\n",
    "Intercept: -2853777.2079107673\n",
    "\n",
    "Coefficients: [ 1435.73487035 -1807.04548265   -44.47771681  4811.81029675\n",
    "  3454.9147893   3879.16322683 -1690.09754024  2936.46309123\n",
    "  3430.43194339  4230.75691726  3146.71261028   267.38554311\n",
    "   124.7771686   1032.26880732]"
   ]
  }
 ],
 "metadata": {
  "kernelspec": {
   "display_name": "Python 3 (ipykernel)",
   "language": "python",
   "name": "python3"
  },
  "language_info": {
   "codemirror_mode": {
    "name": "ipython",
    "version": 3
   },
   "file_extension": ".py",
   "mimetype": "text/x-python",
   "name": "python",
   "nbconvert_exporter": "python",
   "pygments_lexer": "ipython3",
   "version": "3.9.12"
  }
 },
 "nbformat": 4,
 "nbformat_minor": 5
}
