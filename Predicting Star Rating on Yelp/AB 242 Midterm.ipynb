{
 "cells": [
  {
   "cell_type": "markdown",
   "id": "4e8892c2",
   "metadata": {},
   "source": [
    "   # INDENG 242 Midterm Ankit Nitinkumar Bhawsar 3038588568\n"
   ]
  },
  {
   "cell_type": "markdown",
   "id": "b4927cd2",
   "metadata": {},
   "source": [
    "### Import Necessary Libraries\n"
   ]
  },
  {
   "cell_type": "code",
   "execution_count": 1,
   "id": "d160df8b",
   "metadata": {},
   "outputs": [],
   "source": [
    "import numpy as np\n",
    "import pandas as pd\n",
    "import os\n",
    "from sklearn.model_selection import train_test_split\n",
    "import matplotlib.pyplot as plt\n",
    "\n",
    "from sklearn.tree import plot_tree\n",
    "import statsmodels.formula.api as smf\n",
    "\n",
    "from sklearn.tree import DecisionTreeRegressor\n",
    "from sklearn.model_selection import GridSearchCV\n",
    "\n",
    "\n",
    "from sklearn.ensemble import RandomForestRegressor\n",
    "\n",
    "import time"
   ]
  },
  {
   "cell_type": "markdown",
   "id": "dff21f3a",
   "metadata": {},
   "source": [
    "### Import Training and Testing Yelp Datasets\n",
    "\n",
    "I also printed some information and the head of the training data set."
   ]
  },
  {
   "cell_type": "code",
   "execution_count": 108,
   "id": "90133717",
   "metadata": {},
   "outputs": [
    {
     "name": "stdout",
     "output_type": "stream",
     "text": [
      "<class 'pandas.core.frame.DataFrame'>\n",
      "RangeIndex: 6272 entries, 0 to 6271\n",
      "Data columns (total 13 columns):\n",
      " #   Column                      Non-Null Count  Dtype  \n",
      "---  ------                      --------------  -----  \n",
      " 0   stars                       6272 non-null   float64\n",
      " 1   review_count                6272 non-null   int64  \n",
      " 2   GoodForKids                 6272 non-null   object \n",
      " 3   Alcohol                     6272 non-null   object \n",
      " 4   BusinessAcceptsCreditCards  6272 non-null   object \n",
      " 5   WiFi                        6272 non-null   object \n",
      " 6   BikeParking                 6272 non-null   object \n",
      " 7   ByAppointmentOnly           6272 non-null   object \n",
      " 8   WheelechairAccessible       6272 non-null   object \n",
      " 9   OutdoorSeating              6272 non-null   object \n",
      " 10  RestaurantsReservations     6272 non-null   object \n",
      " 11  DogsAllowed                 6272 non-null   object \n",
      " 12  Caters                      6272 non-null   object \n",
      "dtypes: float64(1), int64(1), object(11)\n",
      "memory usage: 637.1+ KB\n"
     ]
    },
    {
     "data": {
      "text/html": [
       "<div>\n",
       "<style scoped>\n",
       "    .dataframe tbody tr th:only-of-type {\n",
       "        vertical-align: middle;\n",
       "    }\n",
       "\n",
       "    .dataframe tbody tr th {\n",
       "        vertical-align: top;\n",
       "    }\n",
       "\n",
       "    .dataframe thead th {\n",
       "        text-align: right;\n",
       "    }\n",
       "</style>\n",
       "<table border=\"1\" class=\"dataframe\">\n",
       "  <thead>\n",
       "    <tr style=\"text-align: right;\">\n",
       "      <th></th>\n",
       "      <th>stars</th>\n",
       "      <th>review_count</th>\n",
       "      <th>GoodForKids</th>\n",
       "      <th>Alcohol</th>\n",
       "      <th>BusinessAcceptsCreditCards</th>\n",
       "      <th>WiFi</th>\n",
       "      <th>BikeParking</th>\n",
       "      <th>ByAppointmentOnly</th>\n",
       "      <th>WheelechairAccessible</th>\n",
       "      <th>OutdoorSeating</th>\n",
       "      <th>RestaurantsReservations</th>\n",
       "      <th>DogsAllowed</th>\n",
       "      <th>Caters</th>\n",
       "    </tr>\n",
       "  </thead>\n",
       "  <tbody>\n",
       "    <tr>\n",
       "      <th>0</th>\n",
       "      <td>4.5</td>\n",
       "      <td>153</td>\n",
       "      <td>FALSE</td>\n",
       "      <td>'beer_and_wine'</td>\n",
       "      <td>TRUE</td>\n",
       "      <td>'free'</td>\n",
       "      <td>FALSE</td>\n",
       "      <td>(Missing)</td>\n",
       "      <td>(Missing)</td>\n",
       "      <td>FALSE</td>\n",
       "      <td>TRUE</td>\n",
       "      <td>FALSE</td>\n",
       "      <td>FALSE</td>\n",
       "    </tr>\n",
       "    <tr>\n",
       "      <th>1</th>\n",
       "      <td>3.5</td>\n",
       "      <td>19</td>\n",
       "      <td>TRUE</td>\n",
       "      <td>(Missing)</td>\n",
       "      <td>TRUE</td>\n",
       "      <td>'free'</td>\n",
       "      <td>(Missing)</td>\n",
       "      <td>(Missing)</td>\n",
       "      <td>(Missing)</td>\n",
       "      <td>(Missing)</td>\n",
       "      <td>FALSE</td>\n",
       "      <td>(Missing)</td>\n",
       "      <td>(Missing)</td>\n",
       "    </tr>\n",
       "    <tr>\n",
       "      <th>2</th>\n",
       "      <td>4.5</td>\n",
       "      <td>3</td>\n",
       "      <td>TRUE</td>\n",
       "      <td>'full_bar'</td>\n",
       "      <td>TRUE</td>\n",
       "      <td>(Missing)</td>\n",
       "      <td>(Missing)</td>\n",
       "      <td>(Missing)</td>\n",
       "      <td>(Missing)</td>\n",
       "      <td>TRUE</td>\n",
       "      <td>(Missing)</td>\n",
       "      <td>(Missing)</td>\n",
       "      <td>(Missing)</td>\n",
       "    </tr>\n",
       "    <tr>\n",
       "      <th>3</th>\n",
       "      <td>4.0</td>\n",
       "      <td>775</td>\n",
       "      <td>TRUE</td>\n",
       "      <td>'none'</td>\n",
       "      <td>TRUE</td>\n",
       "      <td>'free'</td>\n",
       "      <td>TRUE</td>\n",
       "      <td>FALSE</td>\n",
       "      <td>(Missing)</td>\n",
       "      <td>TRUE</td>\n",
       "      <td>TRUE</td>\n",
       "      <td>(Missing)</td>\n",
       "      <td>TRUE</td>\n",
       "    </tr>\n",
       "    <tr>\n",
       "      <th>4</th>\n",
       "      <td>3.5</td>\n",
       "      <td>24</td>\n",
       "      <td>TRUE</td>\n",
       "      <td>'full_bar'</td>\n",
       "      <td>TRUE</td>\n",
       "      <td>'free'</td>\n",
       "      <td>(Missing)</td>\n",
       "      <td>(Missing)</td>\n",
       "      <td>(Missing)</td>\n",
       "      <td>FALSE</td>\n",
       "      <td>TRUE</td>\n",
       "      <td>(Missing)</td>\n",
       "      <td>(Missing)</td>\n",
       "    </tr>\n",
       "  </tbody>\n",
       "</table>\n",
       "</div>"
      ],
      "text/plain": [
       "   stars  review_count GoodForKids          Alcohol  \\\n",
       "0    4.5           153       FALSE  'beer_and_wine'   \n",
       "1    3.5            19        TRUE        (Missing)   \n",
       "2    4.5             3        TRUE       'full_bar'   \n",
       "3    4.0           775        TRUE           'none'   \n",
       "4    3.5            24        TRUE       'full_bar'   \n",
       "\n",
       "  BusinessAcceptsCreditCards       WiFi BikeParking ByAppointmentOnly  \\\n",
       "0                       TRUE     'free'       FALSE         (Missing)   \n",
       "1                       TRUE     'free'   (Missing)         (Missing)   \n",
       "2                       TRUE  (Missing)   (Missing)         (Missing)   \n",
       "3                       TRUE     'free'        TRUE             FALSE   \n",
       "4                       TRUE     'free'   (Missing)         (Missing)   \n",
       "\n",
       "  WheelechairAccessible OutdoorSeating RestaurantsReservations DogsAllowed  \\\n",
       "0             (Missing)          FALSE                    TRUE       FALSE   \n",
       "1             (Missing)      (Missing)                   FALSE   (Missing)   \n",
       "2             (Missing)           TRUE               (Missing)   (Missing)   \n",
       "3             (Missing)           TRUE                    TRUE   (Missing)   \n",
       "4             (Missing)          FALSE                    TRUE   (Missing)   \n",
       "\n",
       "      Caters  \n",
       "0      FALSE  \n",
       "1  (Missing)  \n",
       "2  (Missing)  \n",
       "3       TRUE  \n",
       "4  (Missing)  "
      ]
     },
     "execution_count": 108,
     "metadata": {},
     "output_type": "execute_result"
    }
   ],
   "source": [
    "path = os.getcwd() + \"/yelp242_train.csv\"\n",
    "yelp_train = pd.read_csv(path)\n",
    "path = os.getcwd() + \"/yelp242_test.csv\"\n",
    "yelp_test = pd.read_csv(path)\n",
    "\n",
    "yelp_train.info()\n",
    "\n",
    "yelp_train.head()"
   ]
  },
  {
   "cell_type": "markdown",
   "id": "3d36d823",
   "metadata": {},
   "source": [
    "#### The Training and Testing dataset sizes can be printed as:\n"
   ]
  },
  {
   "cell_type": "code",
   "execution_count": 109,
   "id": "57e63dc5",
   "metadata": {},
   "outputs": [
    {
     "data": {
      "text/plain": [
       "((6272, 13), (2688, 13))"
      ]
     },
     "execution_count": 109,
     "metadata": {},
     "output_type": "execute_result"
    }
   ],
   "source": [
    "yelp_train.shape, yelp_test.shape"
   ]
  },
  {
   "cell_type": "markdown",
   "id": "78cf526d",
   "metadata": {},
   "source": [
    "---\n",
    "\n",
    "### Q3) 1) (a)\n",
    "\n",
    "The modeling technique described to handle missing values is not very reasonable. Adding missing variables as categorical variables basically misleades the model into thinking absent/missing values have significance and hence model assigns them weightage.\n",
    "\n",
    "There are usually 3 reasonable ways to handle missing values:\n",
    "1. Delete obsevations with missing values if your dataset is large enough.\n",
    "2. Replace missing values with mode of the feature over all other observations.\n",
    "3. Create another model for predicting missing values.\n",
    "\n",
    "---\n"
   ]
  },
  {
   "cell_type": "markdown",
   "id": "04be33ce",
   "metadata": {},
   "source": [
    "# Linear Regression\n",
    "\n",
    "\n",
    "Now, I have built a R-style coding format statsmodel.\n",
    "\n",
    "For each of the categorical variables, I have used (Missing) as the reference level to be incorporated into the intercept term."
   ]
  },
  {
   "cell_type": "code",
   "execution_count": 5,
   "id": "c958c9f4",
   "metadata": {},
   "outputs": [
    {
     "name": "stdout",
     "output_type": "stream",
     "text": [
      "                            OLS Regression Results                            \n",
      "==============================================================================\n",
      "Dep. Variable:                  stars   R-squared:                       0.173\n",
      "Model:                            OLS   Adj. R-squared:                  0.170\n",
      "Method:                 Least Squares   F-statistic:                     52.33\n",
      "Date:                Wed, 19 Oct 2022   Prob (F-statistic):          2.45e-235\n",
      "Time:                        22:26:51   Log-Likelihood:                -7220.7\n",
      "No. Observations:                6272   AIC:                         1.449e+04\n",
      "Df Residuals:                    6246   BIC:                         1.467e+04\n",
      "Df Model:                          25                                         \n",
      "Covariance Type:            nonrobust                                         \n",
      "============================================================================================================================================\n",
      "                                                                               coef    std err          t      P>|t|      [0.025      0.975]\n",
      "--------------------------------------------------------------------------------------------------------------------------------------------\n",
      "Intercept                                                                    3.3413      0.039     85.518      0.000       3.265       3.418\n",
      "C(GoodForKids, Treatment(reference='(Missing)'))[T.FALSE]                   -0.0329      0.046     -0.720      0.472      -0.123       0.057\n",
      "C(GoodForKids, Treatment(reference='(Missing)'))[T.TRUE]                    -0.1325      0.035     -3.757      0.000      -0.202      -0.063\n",
      "C(Alcohol, Treatment(reference='(Missing)'))[T.'beer_and_wine']              0.1925      0.047      4.110      0.000       0.101       0.284\n",
      "C(Alcohol, Treatment(reference='(Missing)'))[T.'full_bar']                   0.1173      0.043      2.698      0.007       0.032       0.203\n",
      "C(Alcohol, Treatment(reference='(Missing)'))[T.'none']                       0.0921      0.039      2.363      0.018       0.016       0.169\n",
      "C(BusinessAcceptsCreditCards, Treatment(reference='(Missing)'))[T.FALSE]     0.6324      0.087      7.257      0.000       0.462       0.803\n",
      "C(BusinessAcceptsCreditCards, Treatment(reference='(Missing)'))[T.TRUE]      0.1338      0.046      2.897      0.004       0.043       0.224\n",
      "C(WiFi, Treatment(reference='(Missing)'))[T.'free']                          0.0685      0.034      1.998      0.046       0.001       0.136\n",
      "C(WiFi, Treatment(reference='(Missing)'))[T.'no']                            0.0858      0.033      2.594      0.009       0.021       0.151\n",
      "C(WiFi, Treatment(reference='(Missing)'))[T.'paid']                         -0.2794      0.103     -2.701      0.007      -0.482      -0.077\n",
      "C(BikeParking, Treatment(reference='(Missing)'))[T.FALSE]                   -0.1784      0.032     -5.608      0.000      -0.241      -0.116\n",
      "C(BikeParking, Treatment(reference='(Missing)'))[T.TRUE]                    -0.1117      0.029     -3.891      0.000      -0.168      -0.055\n",
      "C(ByAppointmentOnly, Treatment(reference='(Missing)'))[T.FALSE]              0.1495      0.034      4.447      0.000       0.084       0.215\n",
      "C(ByAppointmentOnly, Treatment(reference='(Missing)'))[T.TRUE]               0.2560      0.106      2.410      0.016       0.048       0.464\n",
      "C(WheelechairAccessible, Treatment(reference='(Missing)'))[T.FALSE]          0.6685      0.090      7.468      0.000       0.493       0.844\n",
      "C(WheelechairAccessible, Treatment(reference='(Missing)'))[T.TRUE]           0.3469      0.028     12.591      0.000       0.293       0.401\n",
      "C(OutdoorSeating, Treatment(reference='(Missing)'))[T.FALSE]                -0.0755      0.040     -1.908      0.056      -0.153       0.002\n",
      "C(OutdoorSeating, Treatment(reference='(Missing)'))[T.TRUE]                  0.0168      0.042      0.399      0.690      -0.066       0.099\n",
      "C(RestaurantsReservations, Treatment(reference='(Missing)'))[T.FALSE]       -0.2180      0.040     -5.451      0.000      -0.296      -0.140\n",
      "C(RestaurantsReservations, Treatment(reference='(Missing)'))[T.TRUE]        -0.0084      0.045     -0.187      0.851      -0.096       0.079\n",
      "C(DogsAllowed, Treatment(reference='(Missing)'))[T.FALSE]                    0.2539      0.029      8.725      0.000       0.197       0.311\n",
      "C(DogsAllowed, Treatment(reference='(Missing)'))[T.TRUE]                     0.1346      0.054      2.516      0.012       0.030       0.239\n",
      "C(Caters, Treatment(reference='(Missing)'))[T.FALSE]                        -0.0840      0.030     -2.796      0.005      -0.143      -0.025\n",
      "C(Caters, Treatment(reference='(Missing)'))[T.TRUE]                          0.1657      0.033      5.096      0.000       0.102       0.229\n",
      "review_count                                                                 0.0001   2.88e-05      3.566      0.000    4.63e-05       0.000\n",
      "==============================================================================\n",
      "Omnibus:                      130.621   Durbin-Watson:                   1.990\n",
      "Prob(Omnibus):                  0.000   Jarque-Bera (JB):              138.449\n",
      "Skew:                          -0.363   Prob(JB):                     8.63e-31\n",
      "Kurtosis:                       3.058   Cond. No.                     4.88e+03\n",
      "==============================================================================\n",
      "\n",
      "Notes:\n",
      "[1] Standard Errors assume that the covariance matrix of the errors is correctly specified.\n",
      "[2] The condition number is large, 4.88e+03. This might indicate that there are\n",
      "strong multicollinearity or other numerical problems.\n"
     ]
    }
   ],
   "source": [
    "linreg_model = smf.ols(formula='stars ~ review_count '\n",
    "                +'+ C(GoodForKids, Treatment(reference=\\'(Missing)\\'))'\n",
    "                +'+ C(Alcohol, Treatment(reference=\\'(Missing)\\'))'\n",
    "                +'+ C(BusinessAcceptsCreditCards, Treatment(reference=\\'(Missing)\\'))'\n",
    "                +'+ C(WiFi, Treatment(reference=\\'(Missing)\\'))'\n",
    "                +'+ C(BikeParking, Treatment(reference=\\'(Missing)\\'))'\n",
    "                +'+ C(ByAppointmentOnly, Treatment(reference=\\'(Missing)\\'))'\n",
    "                +'+ C(WheelechairAccessible, Treatment(reference=\\'(Missing)\\'))'\n",
    "                +'+ C(OutdoorSeating, Treatment(reference=\\'(Missing)\\'))'\n",
    "                +'+ C(RestaurantsReservations, Treatment(reference=\\'(Missing)\\'))'\n",
    "                +'+ C(DogsAllowed, Treatment(reference=\\'(Missing)\\'))'\n",
    "                +'+ C(Caters, Treatment(reference=\\'(Missing)\\'))'\n",
    "                ,data=yelp_train).fit()\n",
    "\n",
    "print(linreg_model.summary())"
   ]
  },
  {
   "cell_type": "markdown",
   "id": "2da60759",
   "metadata": {},
   "source": [
    "**As we can observe, all the 'missing' categorical variables are incorporated into the intercept and what remains are the other values of categories. Ex: TRUE/FALSE, free/no/paid**"
   ]
  },
  {
   "cell_type": "markdown",
   "id": "cd65f907",
   "metadata": {},
   "source": [
    "# Regression Tree\n",
    "\n",
    "Now, I have built a regression tree to fit the training data.\n",
    "First I print some info on the training data to observe categorical values."
   ]
  },
  {
   "cell_type": "code",
   "execution_count": 110,
   "id": "0be6b9e4",
   "metadata": {},
   "outputs": [
    {
     "name": "stdout",
     "output_type": "stream",
     "text": [
      "<class 'pandas.core.frame.DataFrame'>\n",
      "RangeIndex: 6272 entries, 0 to 6271\n",
      "Data columns (total 13 columns):\n",
      " #   Column                      Non-Null Count  Dtype  \n",
      "---  ------                      --------------  -----  \n",
      " 0   stars                       6272 non-null   float64\n",
      " 1   review_count                6272 non-null   int64  \n",
      " 2   GoodForKids                 6272 non-null   object \n",
      " 3   Alcohol                     6272 non-null   object \n",
      " 4   BusinessAcceptsCreditCards  6272 non-null   object \n",
      " 5   WiFi                        6272 non-null   object \n",
      " 6   BikeParking                 6272 non-null   object \n",
      " 7   ByAppointmentOnly           6272 non-null   object \n",
      " 8   WheelechairAccessible       6272 non-null   object \n",
      " 9   OutdoorSeating              6272 non-null   object \n",
      " 10  RestaurantsReservations     6272 non-null   object \n",
      " 11  DogsAllowed                 6272 non-null   object \n",
      " 12  Caters                      6272 non-null   object \n",
      "dtypes: float64(1), int64(1), object(11)\n",
      "memory usage: 637.1+ KB\n"
     ]
    },
    {
     "data": {
      "text/html": [
       "<div>\n",
       "<style scoped>\n",
       "    .dataframe tbody tr th:only-of-type {\n",
       "        vertical-align: middle;\n",
       "    }\n",
       "\n",
       "    .dataframe tbody tr th {\n",
       "        vertical-align: top;\n",
       "    }\n",
       "\n",
       "    .dataframe thead th {\n",
       "        text-align: right;\n",
       "    }\n",
       "</style>\n",
       "<table border=\"1\" class=\"dataframe\">\n",
       "  <thead>\n",
       "    <tr style=\"text-align: right;\">\n",
       "      <th></th>\n",
       "      <th>stars</th>\n",
       "      <th>review_count</th>\n",
       "      <th>GoodForKids</th>\n",
       "      <th>Alcohol</th>\n",
       "      <th>BusinessAcceptsCreditCards</th>\n",
       "      <th>WiFi</th>\n",
       "      <th>BikeParking</th>\n",
       "      <th>ByAppointmentOnly</th>\n",
       "      <th>WheelechairAccessible</th>\n",
       "      <th>OutdoorSeating</th>\n",
       "      <th>RestaurantsReservations</th>\n",
       "      <th>DogsAllowed</th>\n",
       "      <th>Caters</th>\n",
       "    </tr>\n",
       "  </thead>\n",
       "  <tbody>\n",
       "    <tr>\n",
       "      <th>0</th>\n",
       "      <td>4.5</td>\n",
       "      <td>153</td>\n",
       "      <td>FALSE</td>\n",
       "      <td>'beer_and_wine'</td>\n",
       "      <td>TRUE</td>\n",
       "      <td>'free'</td>\n",
       "      <td>FALSE</td>\n",
       "      <td>(Missing)</td>\n",
       "      <td>(Missing)</td>\n",
       "      <td>FALSE</td>\n",
       "      <td>TRUE</td>\n",
       "      <td>FALSE</td>\n",
       "      <td>FALSE</td>\n",
       "    </tr>\n",
       "    <tr>\n",
       "      <th>1</th>\n",
       "      <td>3.5</td>\n",
       "      <td>19</td>\n",
       "      <td>TRUE</td>\n",
       "      <td>(Missing)</td>\n",
       "      <td>TRUE</td>\n",
       "      <td>'free'</td>\n",
       "      <td>(Missing)</td>\n",
       "      <td>(Missing)</td>\n",
       "      <td>(Missing)</td>\n",
       "      <td>(Missing)</td>\n",
       "      <td>FALSE</td>\n",
       "      <td>(Missing)</td>\n",
       "      <td>(Missing)</td>\n",
       "    </tr>\n",
       "    <tr>\n",
       "      <th>2</th>\n",
       "      <td>4.5</td>\n",
       "      <td>3</td>\n",
       "      <td>TRUE</td>\n",
       "      <td>'full_bar'</td>\n",
       "      <td>TRUE</td>\n",
       "      <td>(Missing)</td>\n",
       "      <td>(Missing)</td>\n",
       "      <td>(Missing)</td>\n",
       "      <td>(Missing)</td>\n",
       "      <td>TRUE</td>\n",
       "      <td>(Missing)</td>\n",
       "      <td>(Missing)</td>\n",
       "      <td>(Missing)</td>\n",
       "    </tr>\n",
       "    <tr>\n",
       "      <th>3</th>\n",
       "      <td>4.0</td>\n",
       "      <td>775</td>\n",
       "      <td>TRUE</td>\n",
       "      <td>'none'</td>\n",
       "      <td>TRUE</td>\n",
       "      <td>'free'</td>\n",
       "      <td>TRUE</td>\n",
       "      <td>FALSE</td>\n",
       "      <td>(Missing)</td>\n",
       "      <td>TRUE</td>\n",
       "      <td>TRUE</td>\n",
       "      <td>(Missing)</td>\n",
       "      <td>TRUE</td>\n",
       "    </tr>\n",
       "    <tr>\n",
       "      <th>4</th>\n",
       "      <td>3.5</td>\n",
       "      <td>24</td>\n",
       "      <td>TRUE</td>\n",
       "      <td>'full_bar'</td>\n",
       "      <td>TRUE</td>\n",
       "      <td>'free'</td>\n",
       "      <td>(Missing)</td>\n",
       "      <td>(Missing)</td>\n",
       "      <td>(Missing)</td>\n",
       "      <td>FALSE</td>\n",
       "      <td>TRUE</td>\n",
       "      <td>(Missing)</td>\n",
       "      <td>(Missing)</td>\n",
       "    </tr>\n",
       "  </tbody>\n",
       "</table>\n",
       "</div>"
      ],
      "text/plain": [
       "   stars  review_count GoodForKids          Alcohol  \\\n",
       "0    4.5           153       FALSE  'beer_and_wine'   \n",
       "1    3.5            19        TRUE        (Missing)   \n",
       "2    4.5             3        TRUE       'full_bar'   \n",
       "3    4.0           775        TRUE           'none'   \n",
       "4    3.5            24        TRUE       'full_bar'   \n",
       "\n",
       "  BusinessAcceptsCreditCards       WiFi BikeParking ByAppointmentOnly  \\\n",
       "0                       TRUE     'free'       FALSE         (Missing)   \n",
       "1                       TRUE     'free'   (Missing)         (Missing)   \n",
       "2                       TRUE  (Missing)   (Missing)         (Missing)   \n",
       "3                       TRUE     'free'        TRUE             FALSE   \n",
       "4                       TRUE     'free'   (Missing)         (Missing)   \n",
       "\n",
       "  WheelechairAccessible OutdoorSeating RestaurantsReservations DogsAllowed  \\\n",
       "0             (Missing)          FALSE                    TRUE       FALSE   \n",
       "1             (Missing)      (Missing)                   FALSE   (Missing)   \n",
       "2             (Missing)           TRUE               (Missing)   (Missing)   \n",
       "3             (Missing)           TRUE                    TRUE   (Missing)   \n",
       "4             (Missing)          FALSE                    TRUE   (Missing)   \n",
       "\n",
       "      Caters  \n",
       "0      FALSE  \n",
       "1  (Missing)  \n",
       "2  (Missing)  \n",
       "3       TRUE  \n",
       "4  (Missing)  "
      ]
     },
     "execution_count": 110,
     "metadata": {},
     "output_type": "execute_result"
    }
   ],
   "source": [
    "yelp_train.info()\n",
    "yelp_train.head()"
   ]
  },
  {
   "cell_type": "markdown",
   "id": "b07f61b7",
   "metadata": {},
   "source": [
    "**Similarly, this time I have used the get_dummies() function to convert the categorical variables into binary features.\n",
    "The columns in col list are set to drop the first value i.e. Missing. But since WiFi and Alcohol and more that 2 valid values, I need to manually remove them from the model.**"
   ]
  },
  {
   "cell_type": "code",
   "execution_count": 112,
   "id": "13ce7c5e",
   "metadata": {},
   "outputs": [
    {
     "name": "stdout",
     "output_type": "stream",
     "text": [
      "<class 'pandas.core.frame.DataFrame'>\n",
      "RangeIndex: 2688 entries, 0 to 2687\n",
      "Data columns (total 26 columns):\n",
      " #   Column                            Non-Null Count  Dtype  \n",
      "---  ------                            --------------  -----  \n",
      " 0   stars                             2688 non-null   float64\n",
      " 1   review_count                      2688 non-null   int64  \n",
      " 2   GoodForKids_FALSE                 2688 non-null   uint8  \n",
      " 3   GoodForKids_TRUE                  2688 non-null   uint8  \n",
      " 4   BusinessAcceptsCreditCards_FALSE  2688 non-null   uint8  \n",
      " 5   BusinessAcceptsCreditCards_TRUE   2688 non-null   uint8  \n",
      " 6   BikeParking_FALSE                 2688 non-null   uint8  \n",
      " 7   BikeParking_TRUE                  2688 non-null   uint8  \n",
      " 8   ByAppointmentOnly_FALSE           2688 non-null   uint8  \n",
      " 9   ByAppointmentOnly_TRUE            2688 non-null   uint8  \n",
      " 10  WheelechairAccessible_FALSE       2688 non-null   uint8  \n",
      " 11  WheelechairAccessible_TRUE        2688 non-null   uint8  \n",
      " 12  OutdoorSeating_FALSE              2688 non-null   uint8  \n",
      " 13  OutdoorSeating_TRUE               2688 non-null   uint8  \n",
      " 14  RestaurantsReservations_FALSE     2688 non-null   uint8  \n",
      " 15  RestaurantsReservations_TRUE      2688 non-null   uint8  \n",
      " 16  DogsAllowed_FALSE                 2688 non-null   uint8  \n",
      " 17  DogsAllowed_TRUE                  2688 non-null   uint8  \n",
      " 18  Caters_FALSE                      2688 non-null   uint8  \n",
      " 19  Caters_TRUE                       2688 non-null   uint8  \n",
      " 20  WiFi_'free'                       2688 non-null   uint8  \n",
      " 21  WiFi_'no'                         2688 non-null   uint8  \n",
      " 22  WiFi_'paid'                       2688 non-null   uint8  \n",
      " 23  Alcohol_'beer_and_wine'           2688 non-null   uint8  \n",
      " 24  Alcohol_'full_bar'                2688 non-null   uint8  \n",
      " 25  Alcohol_'none'                    2688 non-null   uint8  \n",
      "dtypes: float64(1), int64(1), uint8(24)\n",
      "memory usage: 105.1 KB\n"
     ]
    },
    {
     "data": {
      "text/html": [
       "<div>\n",
       "<style scoped>\n",
       "    .dataframe tbody tr th:only-of-type {\n",
       "        vertical-align: middle;\n",
       "    }\n",
       "\n",
       "    .dataframe tbody tr th {\n",
       "        vertical-align: top;\n",
       "    }\n",
       "\n",
       "    .dataframe thead th {\n",
       "        text-align: right;\n",
       "    }\n",
       "</style>\n",
       "<table border=\"1\" class=\"dataframe\">\n",
       "  <thead>\n",
       "    <tr style=\"text-align: right;\">\n",
       "      <th></th>\n",
       "      <th>stars</th>\n",
       "      <th>review_count</th>\n",
       "      <th>GoodForKids_FALSE</th>\n",
       "      <th>GoodForKids_TRUE</th>\n",
       "      <th>BusinessAcceptsCreditCards_FALSE</th>\n",
       "      <th>BusinessAcceptsCreditCards_TRUE</th>\n",
       "      <th>BikeParking_FALSE</th>\n",
       "      <th>BikeParking_TRUE</th>\n",
       "      <th>ByAppointmentOnly_FALSE</th>\n",
       "      <th>ByAppointmentOnly_TRUE</th>\n",
       "      <th>...</th>\n",
       "      <th>DogsAllowed_FALSE</th>\n",
       "      <th>DogsAllowed_TRUE</th>\n",
       "      <th>Caters_FALSE</th>\n",
       "      <th>Caters_TRUE</th>\n",
       "      <th>WiFi_'free'</th>\n",
       "      <th>WiFi_'no'</th>\n",
       "      <th>WiFi_'paid'</th>\n",
       "      <th>Alcohol_'beer_and_wine'</th>\n",
       "      <th>Alcohol_'full_bar'</th>\n",
       "      <th>Alcohol_'none'</th>\n",
       "    </tr>\n",
       "  </thead>\n",
       "  <tbody>\n",
       "    <tr>\n",
       "      <th>0</th>\n",
       "      <td>4.0</td>\n",
       "      <td>34</td>\n",
       "      <td>0</td>\n",
       "      <td>0</td>\n",
       "      <td>0</td>\n",
       "      <td>1</td>\n",
       "      <td>0</td>\n",
       "      <td>1</td>\n",
       "      <td>0</td>\n",
       "      <td>0</td>\n",
       "      <td>...</td>\n",
       "      <td>1</td>\n",
       "      <td>0</td>\n",
       "      <td>0</td>\n",
       "      <td>1</td>\n",
       "      <td>1</td>\n",
       "      <td>0</td>\n",
       "      <td>0</td>\n",
       "      <td>0</td>\n",
       "      <td>1</td>\n",
       "      <td>0</td>\n",
       "    </tr>\n",
       "    <tr>\n",
       "      <th>1</th>\n",
       "      <td>4.0</td>\n",
       "      <td>802</td>\n",
       "      <td>0</td>\n",
       "      <td>1</td>\n",
       "      <td>0</td>\n",
       "      <td>1</td>\n",
       "      <td>1</td>\n",
       "      <td>0</td>\n",
       "      <td>0</td>\n",
       "      <td>0</td>\n",
       "      <td>...</td>\n",
       "      <td>1</td>\n",
       "      <td>0</td>\n",
       "      <td>0</td>\n",
       "      <td>1</td>\n",
       "      <td>1</td>\n",
       "      <td>0</td>\n",
       "      <td>0</td>\n",
       "      <td>0</td>\n",
       "      <td>0</td>\n",
       "      <td>0</td>\n",
       "    </tr>\n",
       "    <tr>\n",
       "      <th>2</th>\n",
       "      <td>4.0</td>\n",
       "      <td>231</td>\n",
       "      <td>0</td>\n",
       "      <td>1</td>\n",
       "      <td>0</td>\n",
       "      <td>1</td>\n",
       "      <td>1</td>\n",
       "      <td>0</td>\n",
       "      <td>1</td>\n",
       "      <td>0</td>\n",
       "      <td>...</td>\n",
       "      <td>1</td>\n",
       "      <td>0</td>\n",
       "      <td>0</td>\n",
       "      <td>1</td>\n",
       "      <td>1</td>\n",
       "      <td>0</td>\n",
       "      <td>0</td>\n",
       "      <td>0</td>\n",
       "      <td>1</td>\n",
       "      <td>0</td>\n",
       "    </tr>\n",
       "    <tr>\n",
       "      <th>3</th>\n",
       "      <td>2.0</td>\n",
       "      <td>27</td>\n",
       "      <td>0</td>\n",
       "      <td>1</td>\n",
       "      <td>0</td>\n",
       "      <td>1</td>\n",
       "      <td>0</td>\n",
       "      <td>1</td>\n",
       "      <td>0</td>\n",
       "      <td>0</td>\n",
       "      <td>...</td>\n",
       "      <td>1</td>\n",
       "      <td>0</td>\n",
       "      <td>0</td>\n",
       "      <td>1</td>\n",
       "      <td>1</td>\n",
       "      <td>0</td>\n",
       "      <td>0</td>\n",
       "      <td>0</td>\n",
       "      <td>0</td>\n",
       "      <td>1</td>\n",
       "    </tr>\n",
       "    <tr>\n",
       "      <th>4</th>\n",
       "      <td>3.5</td>\n",
       "      <td>6</td>\n",
       "      <td>0</td>\n",
       "      <td>0</td>\n",
       "      <td>0</td>\n",
       "      <td>1</td>\n",
       "      <td>0</td>\n",
       "      <td>0</td>\n",
       "      <td>0</td>\n",
       "      <td>0</td>\n",
       "      <td>...</td>\n",
       "      <td>0</td>\n",
       "      <td>0</td>\n",
       "      <td>0</td>\n",
       "      <td>0</td>\n",
       "      <td>0</td>\n",
       "      <td>0</td>\n",
       "      <td>0</td>\n",
       "      <td>1</td>\n",
       "      <td>0</td>\n",
       "      <td>0</td>\n",
       "    </tr>\n",
       "  </tbody>\n",
       "</table>\n",
       "<p>5 rows × 26 columns</p>\n",
       "</div>"
      ],
      "text/plain": [
       "   stars  review_count  GoodForKids_FALSE  GoodForKids_TRUE  \\\n",
       "0    4.0            34                  0                 0   \n",
       "1    4.0           802                  0                 1   \n",
       "2    4.0           231                  0                 1   \n",
       "3    2.0            27                  0                 1   \n",
       "4    3.5             6                  0                 0   \n",
       "\n",
       "   BusinessAcceptsCreditCards_FALSE  BusinessAcceptsCreditCards_TRUE  \\\n",
       "0                                 0                                1   \n",
       "1                                 0                                1   \n",
       "2                                 0                                1   \n",
       "3                                 0                                1   \n",
       "4                                 0                                1   \n",
       "\n",
       "   BikeParking_FALSE  BikeParking_TRUE  ByAppointmentOnly_FALSE  \\\n",
       "0                  0                 1                        0   \n",
       "1                  1                 0                        0   \n",
       "2                  1                 0                        1   \n",
       "3                  0                 1                        0   \n",
       "4                  0                 0                        0   \n",
       "\n",
       "   ByAppointmentOnly_TRUE  ...  DogsAllowed_FALSE  DogsAllowed_TRUE  \\\n",
       "0                       0  ...                  1                 0   \n",
       "1                       0  ...                  1                 0   \n",
       "2                       0  ...                  1                 0   \n",
       "3                       0  ...                  1                 0   \n",
       "4                       0  ...                  0                 0   \n",
       "\n",
       "   Caters_FALSE  Caters_TRUE  WiFi_'free'  WiFi_'no'  WiFi_'paid'  \\\n",
       "0             0            1            1          0            0   \n",
       "1             0            1            1          0            0   \n",
       "2             0            1            1          0            0   \n",
       "3             0            1            1          0            0   \n",
       "4             0            0            0          0            0   \n",
       "\n",
       "   Alcohol_'beer_and_wine'  Alcohol_'full_bar'  Alcohol_'none'  \n",
       "0                        0                   1               0  \n",
       "1                        0                   0               0  \n",
       "2                        0                   1               0  \n",
       "3                        0                   0               1  \n",
       "4                        1                   0               0  \n",
       "\n",
       "[5 rows x 26 columns]"
      ]
     },
     "execution_count": 112,
     "metadata": {},
     "output_type": "execute_result"
    }
   ],
   "source": [
    "\n",
    "col = ['GoodForKids',\n",
    "        'BusinessAcceptsCreditCards', 'BikeParking',\n",
    "        'ByAppointmentOnly', 'WheelechairAccessible', 'OutdoorSeating',\n",
    "        'RestaurantsReservations', 'DogsAllowed', 'Caters']\n",
    "enc1 = pd.get_dummies(yelp_train, columns = col, drop_first=True)\n",
    "\n",
    "enc2 = pd.get_dummies(enc1, columns = ['WiFi'])\n",
    "enc3 = pd.get_dummies(enc2, columns = ['Alcohol'])\n",
    "train_enc = enc3.drop(columns= ['Alcohol_(Missing)','WiFi_(Missing)'])\n",
    "\n",
    "# train_enc.info()\n",
    "# train_enc.head()\n",
    "\n",
    "enc1 = pd.get_dummies(yelp_test, columns = col, drop_first=True)\n",
    "\n",
    "enc2 = pd.get_dummies(enc1, columns = ['WiFi'])\n",
    "enc3 = pd.get_dummies(enc2, columns = ['Alcohol'])\n",
    "test_enc = enc3.drop(columns= ['Alcohol_(Missing)','WiFi_(Missing)'])\n",
    "\n",
    "test_enc.info()\n",
    "test_enc.head()"
   ]
  },
  {
   "cell_type": "markdown",
   "id": "ba4d3ff5",
   "metadata": {},
   "source": [
    "**Separate the columns for X and y in both the Train and Test set**"
   ]
  },
  {
   "cell_type": "code",
   "execution_count": 114,
   "id": "2cd68aeb",
   "metadata": {},
   "outputs": [
    {
     "name": "stdout",
     "output_type": "stream",
     "text": [
      "(6272,)\n",
      "(6272, 25)\n",
      "(2688,)\n",
      "(2688, 25)\n"
     ]
    }
   ],
   "source": [
    "y_dtr_train = train_enc['stars']\n",
    "X_dtr_train = train_enc.drop(['stars'], axis=1)\n",
    "\n",
    "y_dtr_test = test_enc['stars']\n",
    "X_dtr_test = test_enc.drop(['stars'], axis=1)\n",
    "\n",
    "print(y_dtr_train.shape)\n",
    "print(X_dtr_train.shape)\n",
    "print(y_dtr_test.shape)\n",
    "print(X_dtr_test.shape)"
   ]
  },
  {
   "cell_type": "markdown",
   "id": "3e97cd97",
   "metadata": {},
   "source": [
    "**Now, we have to perform 5-fold cross validation to find optimal value for complexity parameter, ccp_alpha**\n",
    "\n",
    "**Linespace is used to create a list of possible ccp_alpha values we want to test**\n",
    "\n",
    "**DecisionTreeRegressor is initialized with minimum samples per leaf=5, minimum samples per split=20 and random state as 10.**\n",
    "\n",
    "**GridSearchCV is used to run cross validation on the list of ccp values we created.**\n",
    "\n",
    "**Model is then fit on the training data.**"
   ]
  },
  {
   "cell_type": "code",
   "execution_count": 9,
   "id": "db28af8e",
   "metadata": {},
   "outputs": [
    {
     "name": "stdout",
     "output_type": "stream",
     "text": [
      "Fitting 5 folds for each of 50 candidates, totalling 250 fits\n"
     ]
    },
    {
     "data": {
      "text/plain": [
       "GridSearchCV(cv=5,\n",
       "             estimator=DecisionTreeRegressor(min_samples_leaf=5,\n",
       "                                             min_samples_split=20,\n",
       "                                             random_state=10),\n",
       "             param_grid={'ccp_alpha': array([0.00000000e+00, 4.08163265e-05, 8.16326531e-05, 1.22448980e-04,\n",
       "       1.63265306e-04, 2.04081633e-04, 2.44897959e-04, 2.85714286e-04,\n",
       "       3.26530612e-04, 3.67346939e-04, 4.08163265e-04, 4.48979592e-04,\n",
       "       4.89795918e-04, 5.30612245e-04, 5....\n",
       "       1.14285714e-03, 1.18367347e-03, 1.22448980e-03, 1.26530612e-03,\n",
       "       1.30612245e-03, 1.34693878e-03, 1.38775510e-03, 1.42857143e-03,\n",
       "       1.46938776e-03, 1.51020408e-03, 1.55102041e-03, 1.59183673e-03,\n",
       "       1.63265306e-03, 1.67346939e-03, 1.71428571e-03, 1.75510204e-03,\n",
       "       1.79591837e-03, 1.83673469e-03, 1.87755102e-03, 1.91836735e-03,\n",
       "       1.95918367e-03, 2.00000000e-03])},\n",
       "             scoring='r2', verbose=1)"
      ]
     },
     "execution_count": 9,
     "metadata": {},
     "output_type": "execute_result"
    }
   ],
   "source": [
    "grid_values = {'ccp_alpha': np.linspace(0, 0.002, 50)}\n",
    "\n",
    "dtr = DecisionTreeRegressor(min_samples_leaf=5, \n",
    "                            min_samples_split=20, \n",
    "                            random_state=10)\n",
    "\n",
    "dtr_cv = GridSearchCV(dtr, param_grid=grid_values, scoring='r2', cv=5, verbose=1)\n",
    "\n",
    "dtr_cv.fit(X_dtr_train, y_dtr_train)"
   ]
  },
  {
   "cell_type": "markdown",
   "id": "7e5035cb",
   "metadata": {},
   "source": [
    "**Now that we have run cross validation, we can print the graph of ccp_alpha vs R^2 obtained during cross validation**\n",
    "\n"
   ]
  },
  {
   "cell_type": "code",
   "execution_count": 10,
   "id": "040b4412",
   "metadata": {},
   "outputs": [
    {
     "data": {
      "image/png": "[encoded data removed]",
      "text/plain": [
       "<Figure size 576x432 with 1 Axes>"
      ]
     },
     "metadata": {
      "needs_background": "light"
     },
     "output_type": "display_data"
    }
   ],
   "source": [
    "ccp_alpha = dtr_cv.cv_results_['param_ccp_alpha'].data\n",
    "R2_scores = dtr_cv.cv_results_['mean_test_score']\n",
    "\n",
    "plt.figure(figsize=(8, 6))\n",
    "plt.xlabel('ccp_alpha', fontsize=16)**Now, we have to perform 5-fold cross validation to find optimal value for complexity parameter, ccp_alpha**\n",
    "\n",
    "**Linespace is used to create a list of possible ccp_alpha values we want to test**\n",
    "\n",
    "**DecisionTreeRegressor is initialized with minimum samples per leaf=5, minimum samples per split=20 and random state as 10.**\n",
    "\n",
    "**GridSearchCV is used to run cross validation on the list of ccp values we created.**\n",
    "\n",
    "**Model is then fit on the training data.**\n",
    "plt.ylabel('CV R2', fontsize=16)\n",
    "plt.scatter(ccp_alpha, R2_scores, s=30)\n",
    "plt.plot(ccp_alpha, R2_scores, linewidth=3)\n",
    "plt.grid(True, which='both')\n",
    "# plt.xlim([0, 0.00055])\n",
    "# plt.ylim([0.2, 0.5])\n",
    "\n",
    "plt.tight_layout()\n",
    "plt.show()"
   ]
  },
  {
   "cell_type": "markdown",
   "id": "3ecb5f7e",
   "metadata": {},
   "source": [
    "**The best ccp_alpha can be printed simply by calling the object**\n",
    "\n"
   ]
  },
  {
   "cell_type": "code",
   "execution_count": 115,
   "id": "8b40097a",
   "metadata": {},
   "outputs": [
    {
     "data": {
      "text/plain": [
       "{'ccp_alpha': 0.0007755102040816326}"
      ]
     },
     "execution_count": 115,
     "metadata": {},
     "output_type": "execute_result"
    }
   ],
   "source": [
    "dtr_cv.best_params_"
   ]
  },
  {
   "cell_type": "markdown",
   "id": "3a2c09de",
   "metadata": {},
   "source": [
    "# Comparison\n",
    "\n",
    "To compare the performance of Decision Tree and Linear Regression, we first need to write some functions for out-of-sample-r2 and mean absolute error."
   ]
  },
  {
   "cell_type": "code",
   "execution_count": 116,
   "id": "54a59fb4",
   "metadata": {},
   "outputs": [],
   "source": [
    "def OSR2_linreg(model, df_train, df_test, dependent_var):   \n",
    "    \n",
    "    y_test = df_test[dependent_var]\n",
    "    y_pred = model.predict(df_test)\n",
    "    SSE = np.sum((y_test - y_pred)**2)\n",
    "    SST = np.sum((y_test - np.mean(df_train[dependent_var]))**2)    \n",
    "    \n",
    "    return 1 - SSE/SST\n",
    "\n",
    "def OSR2_dtree(predictions, y_test,y_train):\n",
    "    SSE = np.sum((y_test-predictions)**2)\n",
    "    SST = np.sum((y_test-np.mean(y_train))**2)\n",
    "    r2 = 1-SSE/SST\n",
    "    return r2\n",
    "    \n",
    "def mean_absolute_error(predictions, y_test,y_train):\n",
    "    MAE = np.mean(np.abs(y_test-predictions))\n",
    "    return MAE\n"
   ]
  },
  {
   "cell_type": "markdown",
   "id": "cdf40347",
   "metadata": {},
   "source": [
    "### Linear Regression Performance\n",
    "\n",
    "Here, I have used the yelp testing set to find the OSR^2 values and MAE values using the linear regression model, which are then printed"
   ]
  },
  {
   "cell_type": "code",
   "execution_count": 118,
   "id": "5fe6140f",
   "metadata": {},
   "outputs": [
    {
     "name": "stdout",
     "output_type": "stream",
     "text": [
      "Linear Regression Out-of-sample-R^2:  0.1526855652634137\n",
      "Linear Regression Mean Absolute Error:  0.639768163472887\n",
      "\n"
     ]
    }
   ],
   "source": [
    "\n",
    "y_lin_pred = linreg_model.predict(yelp_test)\n",
    "\n",
    "linreg_osr2 = OSR2_linreg(linreg_model, yelp_train, yelp_test, 'stars')\n",
    "linreg_MAE = mean_absolute_error(y_lin_pred,y_dtr_test,y_dtr_train)\n",
    "\n",
    "print(\"Linear Regression Out-of-sample-R^2: \",linreg_osr2)\n",
    "print(\"Linear Regression Mean Absolute Error: \",linreg_MAE)\n",
    "print()\n",
    "# Comparison"
   ]
  },
  {
   "cell_type": "markdown",
   "id": "0e3a0cf0",
   "metadata": {},
   "source": [
    "### Regression Tree Performance\n",
    "\n",
    "Similarly, I have used the yelp testing set to find the OSR^2 values and MAE values using the decision tree model, which are then printed"
   ]
  },
  {
   "cell_type": "code",
   "execution_count": 120,
   "id": "b6b33895",
   "metadata": {},
   "outputs": [
    {
     "name": "stdout",
     "output_type": "stream",
     "text": [
      "Regression Tree Out-of-sample-R^2:  0.19042343212080692\n",
      "Regression Tree Mean Absolute Error:  0.6201992709855447\n"
     ]
    }
   ],
   "source": [
    "y_dtr_pred = dtr_cv.predict(X_dtr_test)\n",
    "dtr_osr2 = OSR2_dtree(y_dtr_pred,y_dtr_test,y_dtr_train)\n",
    "dtr_MAE = mean_absolute_error(y_dtr_pred,y_dtr_test,y_dtr_train)\n",
    "\n",
    "print(\"Regression Tree Out-of-sample-R^2: \",dtr_osr2)\n",
    "print(\"Regression Tree Mean Absolute Error: \",dtr_MAE)"
   ]
  },
  {
   "cell_type": "markdown",
   "id": "47371714",
   "metadata": {},
   "source": [
    "---\n",
    "\n",
    "### Q3) 1) (b) (iii)\n",
    "\n",
    "**As we can observe from the out-of-sample-r2 and Mean absolute error values of both the decision tree and linear regression models, the Regression tree has better performance.**\n",
    "\n",
    "**Its higher OSR^2 values means it fits the training data better than linear regressor model.**\n",
    "\n",
    "**Its Lower Mean Absolute Error also indicates the same.**\n",
    "\n",
    "---\n"
   ]
  },
  {
   "cell_type": "markdown",
   "id": "d75dd9a2",
   "metadata": {},
   "source": [
    "# Random Forest\n",
    "\n",
    "For random forest, as instructed in the question, we have to one-hot encode the categorical variables and have seperate 'Missing' category."
   ]
  },
  {
   "cell_type": "code",
   "execution_count": 121,
   "id": "7a02a2e0",
   "metadata": {},
   "outputs": [
    {
     "name": "stdout",
     "output_type": "stream",
     "text": [
      "<class 'pandas.core.frame.DataFrame'>\n",
      "RangeIndex: 2688 entries, 0 to 2687\n",
      "Data columns (total 37 columns):\n",
      " #   Column                                Non-Null Count  Dtype  \n",
      "---  ------                                --------------  -----  \n",
      " 0   stars                                 2688 non-null   float64\n",
      " 1   review_count                          2688 non-null   int64  \n",
      " 2   GoodForKids_(Missing)                 2688 non-null   uint8  \n",
      " 3   GoodForKids_FALSE                     2688 non-null   uint8  \n",
      " 4   GoodForKids_TRUE                      2688 non-null   uint8  \n",
      " 5   BusinessAcceptsCreditCards_(Missing)  2688 non-null   uint8  \n",
      " 6   BusinessAcceptsCreditCards_FALSE      2688 non-null   uint8  \n",
      " 7   BusinessAcceptsCreditCards_TRUE       2688 non-null   uint8  \n",
      " 8   BikeParking_(Missing)                 2688 non-null   uint8  \n",
      " 9   BikeParking_FALSE                     2688 non-null   uint8  \n",
      " 10  BikeParking_TRUE                      2688 non-null   uint8  \n",
      " 11  ByAppointmentOnly_(Missing)           2688 non-null   uint8  \n",
      " 12  ByAppointmentOnly_FALSE               2688 non-null   uint8  \n",
      " 13  ByAppointmentOnly_TRUE                2688 non-null   uint8  \n",
      " 14  WheelechairAccessible_(Missing)       2688 non-null   uint8  \n",
      " 15  WheelechairAccessible_FALSE           2688 non-null   uint8  \n",
      " 16  WheelechairAccessible_TRUE            2688 non-null   uint8  \n",
      " 17  OutdoorSeating_(Missing)              2688 non-null   uint8  \n",
      " 18  OutdoorSeating_FALSE                  2688 non-null   uint8  \n",
      " 19  OutdoorSeating_TRUE                   2688 non-null   uint8  \n",
      " 20  RestaurantsReservations_(Missing)     2688 non-null   uint8  \n",
      " 21  RestaurantsReservations_FALSE         2688 non-null   uint8  \n",
      " 22  RestaurantsReservations_TRUE          2688 non-null   uint8  \n",
      " 23  DogsAllowed_(Missing)                 2688 non-null   uint8  \n",
      " 24  DogsAllowed_FALSE                     2688 non-null   uint8  \n",
      " 25  DogsAllowed_TRUE                      2688 non-null   uint8  \n",
      " 26  Caters_(Missing)                      2688 non-null   uint8  \n",
      " 27  Caters_FALSE                          2688 non-null   uint8  \n",
      " 28  Caters_TRUE                           2688 non-null   uint8  \n",
      " 29  WiFi_'free'                           2688 non-null   uint8  \n",
      " 30  WiFi_'no'                             2688 non-null   uint8  \n",
      " 31  WiFi_'paid'                           2688 non-null   uint8  \n",
      " 32  WiFi_(Missing)                        2688 non-null   uint8  \n",
      " 33  Alcohol_'beer_and_wine'               2688 non-null   uint8  \n",
      " 34  Alcohol_'full_bar'                    2688 non-null   uint8  \n",
      " 35  Alcohol_'none'                        2688 non-null   uint8  \n",
      " 36  Alcohol_(Missing)                     2688 non-null   uint8  \n",
      "dtypes: float64(1), int64(1), uint8(35)\n",
      "memory usage: 134.0 KB\n"
     ]
    },
    {
     "data": {
      "text/html": [
       "<div>\n",
       "<style scoped>\n",
       "    .dataframe tbody tr th:only-of-type {\n",
       "        vertical-align: middle;\n",
       "    }\n",
       "\n",
       "    .dataframe tbody tr th {\n",
       "        vertical-align: top;\n",
       "    }\n",
       "\n",
       "    .dataframe thead th {\n",
       "        text-align: right;\n",
       "    }\n",
       "</style>\n",
       "<table border=\"1\" class=\"dataframe\">\n",
       "  <thead>\n",
       "    <tr style=\"text-align: right;\">\n",
       "      <th></th>\n",
       "      <th>stars</th>\n",
       "      <th>review_count</th>\n",
       "      <th>GoodForKids_(Missing)</th>\n",
       "      <th>GoodForKids_FALSE</th>\n",
       "      <th>GoodForKids_TRUE</th>\n",
       "      <th>BusinessAcceptsCreditCards_(Missing)</th>\n",
       "      <th>BusinessAcceptsCreditCards_FALSE</th>\n",
       "      <th>BusinessAcceptsCreditCards_TRUE</th>\n",
       "      <th>BikeParking_(Missing)</th>\n",
       "      <th>BikeParking_FALSE</th>\n",
       "      <th>...</th>\n",
       "      <th>Caters_FALSE</th>\n",
       "      <th>Caters_TRUE</th>\n",
       "      <th>WiFi_'free'</th>\n",
       "      <th>WiFi_'no'</th>\n",
       "      <th>WiFi_'paid'</th>\n",
       "      <th>WiFi_(Missing)</th>\n",
       "      <th>Alcohol_'beer_and_wine'</th>\n",
       "      <th>Alcohol_'full_bar'</th>\n",
       "      <th>Alcohol_'none'</th>\n",
       "      <th>Alcohol_(Missing)</th>\n",
       "    </tr>\n",
       "  </thead>\n",
       "  <tbody>\n",
       "    <tr>\n",
       "      <th>0</th>\n",
       "      <td>4.0</td>\n",
       "      <td>34</td>\n",
       "      <td>1</td>\n",
       "      <td>0</td>\n",
       "      <td>0</td>\n",
       "      <td>0</td>\n",
       "      <td>0</td>\n",
       "      <td>1</td>\n",
       "      <td>0</td>\n",
       "      <td>0</td>\n",
       "      <td>...</td>\n",
       "      <td>0</td>\n",
       "      <td>1</td>\n",
       "      <td>1</td>\n",
       "      <td>0</td>\n",
       "      <td>0</td>\n",
       "      <td>0</td>\n",
       "      <td>0</td>\n",
       "      <td>1</td>\n",
       "      <td>0</td>\n",
       "      <td>0</td>\n",
       "    </tr>\n",
       "    <tr>\n",
       "      <th>1</th>\n",
       "      <td>4.0</td>\n",
       "      <td>802</td>\n",
       "      <td>0</td>\n",
       "      <td>0</td>\n",
       "      <td>1</td>\n",
       "      <td>0</td>\n",
       "      <td>0</td>\n",
       "      <td>1</td>\n",
       "      <td>0</td>\n",
       "      <td>1</td>\n",
       "      <td>...</td>\n",
       "      <td>0</td>\n",
       "      <td>1</td>\n",
       "      <td>1</td>\n",
       "      <td>0</td>\n",
       "      <td>0</td>\n",
       "      <td>0</td>\n",
       "      <td>0</td>\n",
       "      <td>0</td>\n",
       "      <td>0</td>\n",
       "      <td>1</td>\n",
       "    </tr>\n",
       "    <tr>\n",
       "      <th>2</th>\n",
       "      <td>4.0</td>\n",
       "      <td>231</td>\n",
       "      <td>0</td>\n",
       "      <td>0</td>\n",
       "      <td>1</td>\n",
       "      <td>0</td>\n",
       "      <td>0</td>\n",
       "      <td>1</td>\n",
       "      <td>0</td>\n",
       "      <td>1</td>\n",
       "      <td>...</td>\n",
       "      <td>0</td>\n",
       "      <td>1</td>\n",
       "      <td>1</td>\n",
       "      <td>0</td>\n",
       "      <td>0</td>\n",
       "      <td>0</td>\n",
       "      <td>0</td>\n",
       "      <td>1</td>\n",
       "      <td>0</td>\n",
       "      <td>0</td>\n",
       "    </tr>\n",
       "    <tr>\n",
       "      <th>3</th>\n",
       "      <td>2.0</td>\n",
       "      <td>27</td>\n",
       "      <td>0</td>\n",
       "      <td>0</td>\n",
       "      <td>1</td>\n",
       "      <td>0</td>\n",
       "      <td>0</td>\n",
       "      <td>1</td>\n",
       "      <td>0</td>\n",
       "      <td>0</td>\n",
       "      <td>...</td>\n",
       "      <td>0</td>\n",
       "      <td>1</td>\n",
       "      <td>1</td>\n",
       "      <td>0</td>\n",
       "      <td>0</td>\n",
       "      <td>0</td>\n",
       "      <td>0</td>\n",
       "      <td>0</td>\n",
       "      <td>1</td>\n",
       "      <td>0</td>\n",
       "    </tr>\n",
       "    <tr>\n",
       "      <th>4</th>\n",
       "      <td>3.5</td>\n",
       "      <td>6</td>\n",
       "      <td>1</td>\n",
       "      <td>0</td>\n",
       "      <td>0</td>\n",
       "      <td>0</td>\n",
       "      <td>0</td>\n",
       "      <td>1</td>\n",
       "      <td>1</td>\n",
       "      <td>0</td>\n",
       "      <td>...</td>\n",
       "      <td>0</td>\n",
       "      <td>0</td>\n",
       "      <td>0</td>\n",
       "      <td>0</td>\n",
       "      <td>0</td>\n",
       "      <td>1</td>\n",
       "      <td>1</td>\n",
       "      <td>0</td>\n",
       "      <td>0</td>\n",
       "      <td>0</td>\n",
       "    </tr>\n",
       "  </tbody>\n",
       "</table>\n",
       "<p>5 rows × 37 columns</p>\n",
       "</div>"
      ],
      "text/plain": [
       "   stars  review_count  GoodForKids_(Missing)  GoodForKids_FALSE  \\\n",
       "0    4.0            34                      1                  0   \n",
       "1    4.0           802                      0                  0   \n",
       "2    4.0           231                      0                  0   \n",
       "3    2.0            27                      0                  0   \n",
       "4    3.5             6                      1                  0   \n",
       "\n",
       "   GoodForKids_TRUE  BusinessAcceptsCreditCards_(Missing)  \\\n",
       "0                 0                                     0   \n",
       "1                 1                                     0   \n",
       "2                 1                                     0   \n",
       "3                 1                                     0   \n",
       "4                 0                                     0   \n",
       "\n",
       "   BusinessAcceptsCreditCards_FALSE  BusinessAcceptsCreditCards_TRUE  \\\n",
       "0                                 0                                1   \n",
       "1                                 0                                1   \n",
       "2                                 0                                1   \n",
       "3                                 0                                1   \n",
       "4                                 0                                1   \n",
       "\n",
       "   BikeParking_(Missing)  BikeParking_FALSE  ...  Caters_FALSE  Caters_TRUE  \\\n",
       "0                      0                  0  ...             0            1   \n",
       "1                      0                  1  ...             0            1   \n",
       "2                      0                  1  ...             0            1   \n",
       "3                      0                  0  ...             0            1   \n",
       "4                      1                  0  ...             0            0   \n",
       "\n",
       "   WiFi_'free'  WiFi_'no'  WiFi_'paid'  WiFi_(Missing)  \\\n",
       "0            1          0            0               0   \n",
       "1            1          0            0               0   \n",
       "2            1          0            0               0   \n",
       "3            1          0            0               0   \n",
       "4            0          0            0               1   \n",
       "\n",
       "   Alcohol_'beer_and_wine'  Alcohol_'full_bar'  Alcohol_'none'  \\\n",
       "0                        0                   1               0   \n",
       "1                        0                   0               0   \n",
       "2                        0                   1               0   \n",
       "3                        0                   0               1   \n",
       "4                        1                   0               0   \n",
       "\n",
       "   Alcohol_(Missing)  \n",
       "0                  0  \n",
       "1                  1  \n",
       "2                  0  \n",
       "3                  0  \n",
       "4                  0  \n",
       "\n",
       "[5 rows x 37 columns]"
      ]
     },
     "execution_count": 121,
     "metadata": {},
     "output_type": "execute_result"
    }
   ],
   "source": [
    "\n",
    "col = ['GoodForKids',\n",
    "        'BusinessAcceptsCreditCards', 'BikeParking',\n",
    "        'ByAppointmentOnly', 'WheelechairAccessible', 'OutdoorSeating',\n",
    "        'RestaurantsReservations', 'DogsAllowed', 'Caters','WiFi','Alcohol']\n",
    "\n",
    "train_enc = pd.get_dummies(yelp_train, columns = col)\n",
    "\n",
    "# train_enc.info()\n",
    "# train_enc.head()\n",
    "\n",
    "test_enc = pd.get_dummies(yelp_test, columns = col)\n",
    "\n",
    "test_enc.info()\n",
    "test_enc.head()"
   ]
  },
  {
   "cell_type": "code",
   "execution_count": 122,
   "id": "1b563082",
   "metadata": {},
   "outputs": [
    {
     "name": "stdout",
     "output_type": "stream",
     "text": [
      "(6272,)\n",
      "(6272, 36)\n",
      "(2688,)\n",
      "(2688, 36)\n"
     ]
    }
   ],
   "source": [
    "y_rf_train = train_enc['stars']\n",
    "X_rf_train = train_enc.drop(['stars'], axis=1)\n",
    "\n",
    "y_rf_test = test_enc['stars']\n",
    "X_rf_test = test_enc.drop(['stars'], axis=1)\n",
    "\n",
    "print(y_rf_train.shape)\n",
    "print(X_rf_train.shape)\n",
    "print(y_rf_test.shape)\n",
    "print(X_rf_test.shape)"
   ]
  },
  {
   "cell_type": "markdown",
   "id": "5ac6c40b",
   "metadata": {},
   "source": [
    "**Since we want to chose max_features based on 5-fold cross validation, we set up Linespace to give us a list of possible max_feature values. We keep other parameters constant with only one value in the lists.**"
   ]
  },
  {
   "cell_type": "code",
   "execution_count": 123,
   "id": "6a8de8c5",
   "metadata": {},
   "outputs": [
    {
     "name": "stdout",
     "output_type": "stream",
     "text": [
      "time: 56.85 s\n"
     ]
    }
   ],
   "source": [
    "grid_values = {'max_features': np.linspace(1,18,9, dtype='int32'),\n",
    "              'min_samples_leaf': [5],\n",
    "              'n_estimators': [500],\n",
    "              'random_state': [10]} \n",
    "\n",
    "tic = time.time()\n",
    "\n",
    "RF = RandomForestRegressor() \n",
    "RF_cv = GridSearchCV(RF, param_grid=grid_values, scoring='r2', cv=5)\n",
    "\n",
    "RF_cv.fit(X_rf_train, y_rf_train)\n",
    "\n",
    "toc = time.time()\n",
    "print('time:', round(toc-tic, 2),'s')"
   ]
  },
  {
   "cell_type": "markdown",
   "id": "66064ad8",
   "metadata": {},
   "source": [
    "---\n",
    "\n",
    "### Q3) 1) (c)\n",
    "\n",
    "**We can now plot the graph of max_features and cross validation R^2.**\n",
    "\n",
    "**This is why want to limit the max_features hyperparameters in a random forest. Because increasing the max_features reduces the performance of the model.**\n",
    "\n",
    "**The reason for this is that in random forests, we are trying to train many trees each of which finds patterns in data subsets, which when combined, find very complex patterns. Empirical good default values are max_features=n_features for regression problems, and max_features=sqrt(n_features) for classification tasks**\n",
    "\n",
    "---"
   ]
  },
  {
   "cell_type": "code",
   "execution_count": 19,
   "id": "920d6259",
   "metadata": {},
   "outputs": [
    {
     "data": {
      "image/png": "[encoded data removed]",
      "text/plain": [
       "<Figure size 576x432 with 1 Axes>"
      ]
     },
     "metadata": {
      "needs_background": "light"
     },
     "output_type": "display_data"
    }
   ],
   "source": [
    "max_features = RF_cv.cv_results_['param_max_features'].data\n",
    "R2_scores = RF_cv.cv_results_['mean_test_score']\n",
    "\n",
    "plt.figure(figsize=(8, 6))\n",
    "plt.xlabel('max features', fontsize=16)\n",
    "plt.ylabel('CV R2', fontsize=16)\n",
    "plt.scatter(max_features, R2_scores, s=30)\n",
    "plt.plot(max_features, R2_scores, linewidth=3)\n",
    "plt.grid(True, which='both')\n",
    "# plt.xlim([1, 19])\n",
    "# plt.ylim([0.3, 0.6])"
   ]
  },
  {
   "cell_type": "markdown",
   "id": "016d6f28",
   "metadata": {},
   "source": [
    "### Random Forrest Performance\n",
    "\n",
    "We now print the values of the optimal max_features obtained during cross validation, as well as the OSR^2 and MAE for random forests."
   ]
  },
  {
   "cell_type": "code",
   "execution_count": 125,
   "id": "d05c2f99",
   "metadata": {},
   "outputs": [
    {
     "name": "stdout",
     "output_type": "stream",
     "text": [
      "{'max_features': 7, 'min_samples_leaf': 5, 'n_estimators': 500, 'random_state': 10}\n"
     ]
    }
   ],
   "source": [
    "print(RF_cv.best_params_)"
   ]
  },
  {
   "cell_type": "code",
   "execution_count": 126,
   "id": "7c648f1e",
   "metadata": {},
   "outputs": [
    {
     "name": "stdout",
     "output_type": "stream",
     "text": [
      "Best R^2 Value from Cross Validation: 0.22112\n"
     ]
    }
   ],
   "source": [
    "print('Best R^2 Value from Cross Validation:', round(RF_cv.best_score_, 5))"
   ]
  },
  {
   "cell_type": "code",
   "execution_count": 127,
   "id": "e11098f4",
   "metadata": {},
   "outputs": [
    {
     "name": "stdout",
     "output_type": "stream",
     "text": [
      "Random Forest Out-of-sample-R^2:  0.22079729780270996\n",
      "Random Forest Error Out-of-sample-R^2:  0.6070478270266844\n"
     ]
    }
   ],
   "source": [
    "y_rf_pred = RF_cv.predict(X_rf_test)\n",
    "RF_osr2 = OSR2_dtree(y_rf_pred,y_rf_test,y_rf_train)\n",
    "RF_MAE = mean_absolute_error(y_rf_pred,y_rf_test,y_rf_train)\n",
    "\n",
    "print(\"Random Forest Out-of-sample-R^2: \",RF_osr2)\n",
    "print(\"Random Forest Error Out-of-sample-R^2: \",RF_MAE)"
   ]
  },
  {
   "cell_type": "markdown",
   "id": "977ba8a3",
   "metadata": {},
   "source": [
    "# Bootstrapping\n",
    "\n",
    "Boosting is another technique for ensemble learning  where we combine lots of decision trees. The idea of boosting is to combine a bunch of weak models. \n",
    "\n",
    "Boosting procedure is generally as follows:\n",
    "\n",
    "1. Train weak model f1 on original dataset.\n",
    "2. Update overall model using learning rate and residuals.\n",
    "3. Train weak model f2 on modified dataset (residuals from previous model predictions)\n",
    "4. Updates overall model using learning rate and residuals.\n",
    "5. Repear steps 3 and 4 till residuals are sufficiently low."
   ]
  },
  {
   "cell_type": "code",
   "execution_count": 85,
   "id": "9f7c6ed7",
   "metadata": {},
   "outputs": [
    {
     "name": "stdout",
     "output_type": "stream",
     "text": [
      "(6272,)\n",
      "(6272, 36)\n",
      "(2688,)\n",
      "(2688, 36)\n",
      "\n",
      "(6272,)\n",
      "(6272, 25)\n",
      "(2688,)\n",
      "(2688, 25)\n"
     ]
    }
   ],
   "source": [
    "np.random.seed(10)\n",
    "    \n",
    "print(y_rf_train.shape)\n",
    "print(X_rf_train.shape)\n",
    "print(y_rf_test.shape)\n",
    "print(X_rf_test.shape)\n",
    "print()\n",
    "print(y_dtr_train.shape)\n",
    "print(X_dtr_train.shape)\n",
    "print(y_dtr_test.shape)\n",
    "print(X_dtr_test.shape)"
   ]
  },
  {
   "cell_type": "markdown",
   "id": "a93bd44f",
   "metadata": {},
   "source": [
    "## Bootstrapping Random Forest Model\n",
    "\n",
    "Here is the function written for bootstrapping given test and train data, metrics required, sample size and random state."
   ]
  },
  {
   "cell_type": "code",
   "execution_count": 128,
   "id": "eed97d94",
   "metadata": {},
   "outputs": [],
   "source": [
    "def bootstrap_validation(test_data, test_label, train_label, model, metrics_list, sample=500, random_state=10):\n",
    "    tic = time.time()\n",
    "    # Bootstrapping\n",
    "    n_sample = sample\n",
    "    n_metrics = len(metrics_list)\n",
    "    output_array=np.zeros([n_sample, n_metrics])\n",
    "    output_array[:]=np.nan\n",
    "    print(output_array.shape)\n",
    "    \n",
    "    for bs_iter in range(n_sample):\n",
    "        bs_index = np.random.choice(test_data.index, len(test_data.index), replace=True)\n",
    "        bs_data = test_data.loc[bs_index]\n",
    "        bs_label = test_label.loc[bs_index]\n",
    "        bs_predicted = model.predict(bs_data)\n",
    "        for metrics_iter in range(n_metrics):\n",
    "            metrics = metrics_list[metrics_iter]\n",
    "            output_array[bs_iter, metrics_iter]=metrics(bs_predicted,bs_label,train_label)\n",
    "        if bs_iter % 1000 == 0:\n",
    "            print(bs_iter, time.time()-tic)\n",
    "\n",
    "    output_df = pd.DataFrame(output_array)\n",
    "    return output_df\n",
    "\n"
   ]
  },
  {
   "cell_type": "markdown",
   "id": "705f5915",
   "metadata": {},
   "source": [
    "**Run bootstrapping model on random forest model for 5000 sample size.**"
   ]
  },
  {
   "cell_type": "code",
   "execution_count": 87,
   "id": "9a30fdf2",
   "metadata": {},
   "outputs": [
    {
     "name": "stdout",
     "output_type": "stream",
     "text": [
      "(5000, 2)\n",
      "0 0.12359070777893066\n",
      "1000 119.23523116111755\n",
      "2000 238.89206194877625\n",
      "3000 358.6394431591034\n",
      "4000 478.71971011161804\n"
     ]
    }
   ],
   "source": [
    "bs_output_rf = bootstrap_validation(X_rf_test,y_rf_test,y_rf_train,RF_cv,\n",
    "            ## Bootstrapping Random Forest Model\n",
    "\n",
    "Here is the function written for bootstrapping given test and train data, metrics required, sample size and random state.                     metrics_list=[OSR2_dtree, mean_absolute_error],\n",
    "                                 sample = 5000)\n"
   ]
  },
  {
   "cell_type": "markdown",
   "id": "4b8708e9",
   "metadata": {},
   "source": [
    "**We now find confidence interval for the Out-Of-Sample-r2 for Random Forest model**"
   ]
  },
  {
   "cell_type": "code",
   "execution_count": 130,
   "id": "0bf3e58f",
   "metadata": {},
   "outputs": [
    {
     "name": "stdout",
     "output_type": "stream",
     "text": [
      "0.22079729780270996\n",
      "The 95-percent confidence interval of Random Forest OSR2 is [-0.02469349  0.02484497]\n"
     ]
    }
   ],
   "source": [
    "test_OSR2 = OSR2_dtree(y_rf_pred,y_rf_test,y_rf_train)\n",
    "print(test_OSR2)\n",
    "\n",
    "# The 95% confidence interval\n",
    "CI_rf= np.quantile(bs_output_rf.iloc[:,0]-test_OSR2,np.array([0.025,0.975]))\n",
    "print(\"The 95-percent confidence interval of Random Forest OSR2 is %s\" % CI_rf)"
   ]
  },
  {
   "cell_type": "markdown",
   "id": "ce54ab35",
   "metadata": {},
   "source": [
    "**CI Plot for the Out-Of-Sample-r2 for Random Forest model**"
   ]
  },
  {
   "cell_type": "code",
   "execution_count": 100,
   "id": "a66e447c",
   "metadata": {
    "scrolled": false
   },
   "outputs": [
    {
     "data": {
      "text/plain": [
       "<matplotlib.collections.LineCollection at 0x1f2ef6831f0>"
      ]
     },
     "execution_count": 100,
     "metadata": {},
     "output_type": "execute_result"
    },
    {
     "data": {
      "image/png": "[encoded data removed]",
      "text/plain": [
       "<Figure size 576x432 with 1 Axes>"
      ]
     },
     "metadata": {
      "needs_background": "light"
     },
     "output_type": "display_data"
    }
   ],
   "source": [
    "fig, axs = plt.subplots(ncols=1, figsize=(8,6))\n",
    "axs.set_xlabel('Boot OSR2 - Test Set OSR2', fontsize=16)\n",
    "axs.set_ylabel('Count', fontsize=16)\n",
    "axs.hist(bs_output_rf.iloc[:,0]-test_OSR2, bins=20,edgecolor='green', linewidth=2,color = \"grey\")\n",
    "axs.vlines(x=CI_rf[0], ymin = 0, ymax =800, color = \"black\")\n",
    "axs.vlines(x=CI_rf[1], ymin = 0, ymax =800, color = \"black\")"
   ]
  },
  {
   "cell_type": "markdown",
   "id": "b5eaf325",
   "metadata": {},
   "source": [
    "**We now find confidence interval for the Mean Absolute Error for Random Forest model**"
   ]
  },
  {
   "cell_type": "code",
   "execution_count": 104,
   "id": "b3ba8281",
   "metadata": {
    "scrolled": true
   },
   "outputs": [
    {
     "name": "stdout",
     "output_type": "stream",
     "text": [
      "0.6070478270266844\n",
      "The 95-percent confidence interval of Random Forest MAE is [-0.01769718  0.01783056]\n"
     ]
    }
   ],
   "source": [
    "test_MAE = mean_absolute_error(y_rf_pred,y_rf_test,y_rf_train)\n",
    "print(test_MAE)\n",
    "\n",
    "# The 95% confidence interval**We now find confidence interval for the Out-Of-Sample-r2 for Random Forest model**\n",
    "CI_rf= np.quantile(bs_output_rf.iloc[:,1]-test_MAE,np.array([0.025,0.975]))\n",
    "print(\"The 95-percent confidence interval of Random Forest MAE is %s\" % CI_rf)"
   ]
  },
  {
   "cell_type": "markdown",
   "id": "4f2428db",
   "metadata": {},
   "source": [
    "**CI Plot for the Mean Absolute Error for Random Forest model**"
   ]
  },
  {
   "cell_type": "code",
   "execution_count": 105,
   "id": "b801ffab",
   "metadata": {},
   "outputs": [
    {
     "data": {
      "text/plain": [
       "<matplotlib.collections.LineCollection at 0x1f2ef4ea8b0>"
      ]
     },
     "execution_count": 105,
     "metadata": {},
     "output_type": "execute_result"
    },
    {
     "data": {
      "image/png": "[encoded data removed]",
      "text/plain": [
       "<Figure size 576x432 with 1 Axes>"
      ]
     },
     "metadata": {
      "needs_background": "light"
     },
     "output_type": "display_data"
    }
   ],
   "source": [
    "fig, axs = plt.subplots(ncols=1, figsize=(8,6))\n",
    "axs.set_xlabel('Boot MAE - Test Set MAE', fontsize=16)\n",
    "axs.set_ylabel('Count', fontsize=16)\n",
    "axs.hist(bs_output_rf.iloc[:,1]-test_MAE, bins=20,edgecolor='green', linewidth=2,color = \"grey\")\n",
    "# axs.set_xlim([-0.15,0.15])\n",
    "axs.vlines(x=CI_rf[0], ymin = 0, ymax =800, color = \"black\")\n",
    "axs.vlines(x=CI_rf[1], ymin = 0, ymax =800, color = \"black\")"
   ]
  },
  {
   "cell_type": "markdown",
   "id": "f58d04e9",
   "metadata": {},
   "source": [
    "## Bootstrapping Regression Tree Model\n"
   ]
  },
  {
   "cell_type": "markdown",
   "id": "e5892fd9",
   "metadata": {},
   "source": [
    "**Run bootstrapping model on Regression tree model for 5000 sample size.**"
   ]
  },
  {
   "cell_type": "code",
   "execution_count": 92,
   "id": "87ca427c",
   "metadata": {},
   "outputs": [
    {
     "name": "stdout",
     "output_type": "stream",
     "text": [
      "(5000, 2)\n",
      "0 0.003987550735473633\n",
      "1000 1.9933340549468994\n",
      "2000 3.973173141479492\n",
      "3000 5.959526300430298\n",
      "4000 7.940896272659302\n"
     ]
    }
   ],
   "source": [
    "bs_output_dtr = bootstrap_validation(X_dtr_test,y_dtr_test,y_dtr_train,dtr_cv,\n",
    "                                 metrics_list=[OSR2_dtree, mean_absolute_error],\n",
    "                                 sample = 5000**Run bootstrapping model on random forest model for 5000 sample size.**)\n"
   ]
  },
  {
   "cell_type": "markdown",
   "id": "fdc39f98",
   "metadata": {},
   "source": [
    "**We now find confidence interval for the Out-Of-Sample-r2 for Regression Tree model**"
   ]
  },
  {
   "cell_type": "code",
   "execution_count": 103,
   "id": "37e0d35d",
   "metadata": {},
   "outputs": [
    {
     "name": "stdout",
     "output_type": "stream",
     "text": [
      "0.19042343212080692\n",
      "The 95-percent confidence interval of Decision Tree OSR2 is [-0.02963537  0.02912209]\n"
     ]
    }
   ],
   "source": [
    "test_OSR2 = OSR2_dtree(y_dtr_pred,y_dtr_test,y_dtr_train)\n",
    "print(test_OSR2)\n",
    "\n",
    "# The 95% confidence interval\n",
    "CI_dtr= np.quantile(bs_output_dtr.iloc[:,0]-test_OSR2,np.array([0.025,0.975]))\n",
    "print(\"The 95-percent confidence interval of Decision Tree OSR2 is %s\" % CI_dtr**We now find confidence interval for the Out-Of-Sample-r2 for Random Forest model**)"
   ]
  },
  {
   "cell_type": "markdown",
   "id": "1d80c134",
   "metadata": {},
   "source": [
    "**CI Plot for the Out-Of-Sample-r2 for Regression Tree model**"
   ]
  },
  {
   "cell_type": "code",
   "execution_count": 94,
   "id": "4cdb93bb",
   "metadata": {},
   "outputs": [
    {
     "data": {
      "text/plain": [
       "<matplotlib.collections.LineCollection at 0x1f2ef548b20>"
      ]
     },
     "execution_count": 94,
     "metadata": {},
     "output_type": "execute_result"
    },
    {
     "data": {
      "image/png": "[encoded data removed]",
      "text/plain": [
       "<Figure size 576x432 with 1 Axes>"
      ]
     },
     "metadata": {
      "needs_background": "light"
     },
     "output_type": "display_data"
    }
   ],
   "source": [
    "fig, axs = plt.subplots(ncols=1, figsize=(8,6))\n",
    "axs.set_xlabel('Boot OSR2 - Test Set OSR2', fontsize=16)\n",
    "axs.set_ylabel('Count', fontsize=16)\n",
    "axs.hist(bs_output_dtr.iloc[:,0]-test_OSR2, bins=20,edgecolor='green', linewidth=2,color = \"grey\")\n",
    "# axs.set_xli**CI Plot for the Out-Of-Sample-r2 for Random Forest model**m([-0.15,0.15])\n",
    "axs.vlines(x=CI_dtr[0], ymin = 0, ymax =800, color = \"black\")\n",
    "axs.vlines(x=CI_dtr[1], ymin = 0, ymax =800, color = \"black\")"
   ]
  },
  {
   "cell_type": "markdown",
   "id": "85c49033",
   "metadata": {},
   "source": [
    "**We now find confidence interval for the Mean Absolute Error for Regression Tree model**"
   ]
  },
  {
   "cell_type": "code",
   "execution_count": 106,
   "id": "a9f08ef9",
   "metadata": {},
   "outputs": [
    {
     "name": "stdout",
     "output_type": "stream",
     "text": [
      "0.6201992709855447\n",
      "The 95-percent confidence interval of Decision Tree MAE is [-0.01733874  0.01774791]\n"
     ]
    }
   ],
   "source": [
    "test_MAE = mean_absolute_error(y_dtr_pred,y_dtr_test,y_dtr_train)\n",
    "print(test_MAE)**We now find confidence interval for the Mean Absolute Error for Random Forest model**\n",
    "\n",
    "# The 95% confidence interval\n",
    "CI_dtr= np.quantile(bs_output_dtr.iloc[:,1]-test_MAE,np.array([0.025,0.975]))\n",
    "print(\"The 95-percent confidence interval of Decision Tree MAE is %s\" % CI_dtr)"
   ]
  },
  {
   "cell_type": "markdown",
   "id": "f4864013",
   "metadata": {},
   "source": [
    "**CI Plot for the Mean Absolute Error for Regression Tree model**"
   ]
  },
  {
   "cell_type": "code",
   "execution_count": 107,
   "id": "70952386",
   "metadata": {},
   "outputs": [
    {
     "data": {
      "text/plain": [
       "<matplotlib.collections.LineCollection at 0x1f2f07be3a0>"
      ]
     },
     "execution_count": 107,
     "metadata": {},
     "output_type": "execute_result"
    },
    {
     "data": {
      "image/png": "[encoded data removed]",
      "text/plain": [
       "<Figure size 576x432 with 1 Axes>"
      ]
     },
     "metadata": {
      "needs_background": "light"
     },
     "output_type": "display_data"
    }
   ],
   "source": [
    "fig, axs = plt.subplots(ncols=1, figsize=(8,6))\n",
    "axs.set_xlabel('Boot MAE - Test Set MAE', fontsize=16)\n",
    "axs.set_ylabel('Count', fontsize=16)\n",
    "axs.hist(bs_output_dtr.iloc[:,1]-test_MAE, bins=20,edgecolor='green', linewidth=2,color = \"grey\")\n",
    "# axs.set_xlim([-0.15,0.15])\n",
    "axs.vlines(x=CI_dtr[0], ymin = 0, ymax =800, color = \"black\")\n",
    "axs.vlines(x=CI_dtr**CI Plot for the Mean Absolute Error for Random Forest model**[1], ymin = 0, ymax =800, color = \"black\")"
   ]
  },
  {
   "cell_type": "markdown",
   "id": "5404643d",
   "metadata": {},
   "source": [
    "---\n",
    "\n",
    "### Q3) 1) (d)\n",
    "\n",
    "**We can be confident that there is a difference in performance in the 2 methods, since the OSR2 and MAE intervals for random forest and regression tree are different**\n",
    "\n",
    "The 95-percent confidence interval of Random Forest OSR2 is [-0.02469349  0.02484497]\n",
    "\n",
    "The 95-percent confidence interval of Random Forest MAE is [-0.01769718  0.01783056]\n",
    "\n",
    "The 95-percent confidence interval of Regression Tree OSR2 is [-0.02963537  0.02912209]\n",
    "\n",
    "The 95-percent confidence interval of Regression Tree MAE is [-0.01733874  0.01774791]\n",
    "\n",
    "**Random forest have a smaller OSR2 interval and a larger MAE interval than regression trees**\n",
    "\n",
    "**A narrow or small confidence interval indicates that if we were to ask the same question of a different sample, we are reasonably sure we would get a similar result, hence it is more desirable and results in better performance.\n",
    "\n",
    "---"
   ]
  }
 ],
 "metadata": {
  "kernelspec": {
   "display_name": "Python 3 (ipykernel)",
   "language": "python",
   "name": "python3"
  },
  "language_info": {
   "codemirror_mode": {
    "name": "ipython",
    "version": 3
   },
   "file_extension": ".py",
   "mimetype": "text/x-python",
   "name": "python",
   "nbconvert_exporter": "python",
   "pygments_lexer": "ipython3",
   "version": "3.9.12"
  }
 },
 "nbformat": 4,
 "nbformat_minor": 5
}
