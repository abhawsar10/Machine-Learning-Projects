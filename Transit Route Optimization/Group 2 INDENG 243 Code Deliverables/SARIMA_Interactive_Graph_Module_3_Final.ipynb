{
  "cells": [
    {
      "cell_type": "markdown",
      "source": [
        "## Representing SARIMA Forecast Using Plotly Interactive Graphs"
      ],
      "metadata": {
        "id": "JEg7NNjEzRN_"
      }
    },
    {
      "cell_type": "markdown",
      "metadata": {
        "id": "rDxRe862GZ3W"
      },
      "source": [
        "*Here we are making an attempt to come upwith SARIMA Model to forecast ride demand for managers. As discussed in the previous modules. But here we will presented the forecast results in a much more user friendly manner with interactive graph with an option to drill down to as deep as viewing daily data.The main objective of this section is to give the stakeholders a comprehensive overview of the demnad forecast data and makemit more interpretable. The aim is to answer as many question as possible, with the help over interactivity which helps the user to drill down or roll up data plotted in the graph.*"
      ]
    },
    {
      "cell_type": "code",
      "execution_count": null,
      "metadata": {
        "id": "j52s09-MVbDd"
      },
      "outputs": [],
      "source": [
        "import numpy as np \n",
        "import pandas as pd\n",
        "import matplotlib.pyplot as plt\n",
        "%matplotlib inline\n",
        "from statsmodels.tsa.stattools import adfuller"
      ]
    },
    {
      "cell_type": "markdown",
      "metadata": {
        "id": "A6cBWPtPGxvd"
      },
      "source": [
        "*Importing data from the drive*"
      ]
    },
    {
      "cell_type": "code",
      "execution_count": null,
      "metadata": {
        "colab": {
          "base_uri": "https://localhost:8080/"
        },
        "id": "HRtozRRIXaWq",
        "outputId": "b1a2dc60-7307-4ade-8e18-6d60f2da721c"
      },
      "outputs": [
        {
          "output_type": "stream",
          "name": "stdout",
          "text": [
            "Mounted at /content/drive\n"
          ]
        }
      ],
      "source": [
        "import datetime \n",
        "# Calling the fromtimestamp() function to\n",
        "# extract datetime from the given timestamp\n",
        "from google.colab import drive\n",
        "drive.mount('/content/drive')\n",
        "# ride = pd.read_csv(\"rideshare_kaggle_1.csv\")\n",
        "ride = pd.read_csv(\"/content/drive/MyDrive/Colab Notebooks/rideshare_kaggle.csv\")\n",
        "ride['timestamp']=pd.to_datetime(ride['timestamp'], unit='s')\n",
        "ride.dropna(axis=0,inplace=True)\n",
        "ride[\"Date\"] = ride[\"timestamp\"].dt.date\n",
        "ride[\"Time\"] = ride[\"timestamp\"].dt.time\n",
        "ride[\"Weekday\"]=ride[\"timestamp\"].dt.day_name()"
      ]
    },
    {
      "cell_type": "code",
      "execution_count": null,
      "metadata": {
        "id": "7GpX5AqgqvPI"
      },
      "outputs": [],
      "source": [
        "ride['Date'] = pd.to_datetime(ride['Date'], format='%Y-%m-%d')"
      ]
    },
    {
      "cell_type": "code",
      "execution_count": null,
      "metadata": {
        "id": "PkaG3aNKqzn8"
      },
      "outputs": [],
      "source": [
        "filtered_df = ride.loc[(ride['Date'] == '2018-11-27')]"
      ]
    },
    {
      "cell_type": "code",
      "execution_count": null,
      "metadata": {
        "colab": {
          "base_uri": "https://localhost:8080/"
        },
        "id": "BesJB_uXrNUA",
        "outputId": "ee7c32f0-0410-42c8-e3fb-3a54aa08bf28"
      },
      "outputs": [
        {
          "output_type": "execute_result",
          "data": {
            "text/plain": [
              "70135"
            ]
          },
          "metadata": {},
          "execution_count": 5
        }
      ],
      "source": [
        "len(filtered_df)"
      ]
    },
    {
      "cell_type": "markdown",
      "source": [
        "*Dropping NULL values*"
      ],
      "metadata": {
        "id": "YE0dOoa6UefE"
      }
    },
    {
      "cell_type": "code",
      "execution_count": null,
      "metadata": {
        "id": "oP4YWzY-vxyl"
      },
      "outputs": [],
      "source": [
        "ride['datetime']=pd.to_datetime(ride['datetime'])\n",
        "ride=ride.dropna()"
      ]
    },
    {
      "cell_type": "code",
      "execution_count": null,
      "metadata": {
        "colab": {
          "base_uri": "https://localhost:8080/"
        },
        "id": "rcLZCJoo9sz0",
        "outputId": "4a076ef1-3c13-43e0-869b-c19e200c4d48"
      },
      "outputs": [
        {
          "output_type": "execute_result",
          "data": {
            "text/plain": [
              "0        2018-12-16 09:30:07\n",
              "1        2018-11-27 02:00:23\n",
              "2        2018-11-28 01:00:22\n",
              "3        2018-11-30 04:53:02\n",
              "4        2018-11-29 03:49:20\n",
              "                 ...        \n",
              "693065   2018-12-01 23:53:05\n",
              "693066   2018-12-01 23:53:05\n",
              "693067   2018-12-01 23:53:05\n",
              "693069   2018-12-01 23:53:05\n",
              "693070   2018-12-01 23:53:05\n",
              "Name: datetime, Length: 637976, dtype: datetime64[ns]"
            ]
          },
          "metadata": {},
          "execution_count": 7
        }
      ],
      "source": [
        "ride['datetime']"
      ]
    },
    {
      "cell_type": "code",
      "execution_count": null,
      "metadata": {
        "id": "JkjV_YU9YsDX"
      },
      "outputs": [],
      "source": [
        "grouped = ride.groupby(ride['datetime'].dt.floor('h'))['id'].count().reset_index()\n",
        "\n",
        "grouped.rename(columns={'id': 'total_rides'}, inplace=True)"
      ]
    },
    {
      "cell_type": "code",
      "execution_count": null,
      "metadata": {
        "colab": {
          "base_uri": "https://localhost:8080/"
        },
        "id": "nqIBhDkl9wfd",
        "outputId": "b69c4902-96af-4d95-f506-e4b5b612c423"
      },
      "outputs": [
        {
          "output_type": "execute_result",
          "data": {
            "text/plain": [
              "0        2018-12-16 09:00:00\n",
              "1        2018-11-27 02:00:00\n",
              "2        2018-11-28 01:00:00\n",
              "3        2018-11-30 04:00:00\n",
              "4        2018-11-29 03:00:00\n",
              "                 ...        \n",
              "693065   2018-12-01 23:00:00\n",
              "693066   2018-12-01 23:00:00\n",
              "693067   2018-12-01 23:00:00\n",
              "693069   2018-12-01 23:00:00\n",
              "693070   2018-12-01 23:00:00\n",
              "Name: datetime, Length: 637976, dtype: datetime64[ns]"
            ]
          },
          "metadata": {},
          "execution_count": 9
        }
      ],
      "source": [
        "ride['datetime'].dt.floor('h')"
      ]
    },
    {
      "cell_type": "code",
      "execution_count": null,
      "metadata": {
        "colab": {
          "base_uri": "https://localhost:8080/",
          "height": 206
        },
        "id": "1REFkVpAY1a0",
        "outputId": "ddf9185f-54e6-4ba3-b384-a8cf3c585ca2"
      },
      "outputs": [
        {
          "output_type": "execute_result",
          "data": {
            "text/plain": [
              "             datetime  total_rides\n",
              "0 2018-11-26 03:00:00           77\n",
              "1 2018-11-26 04:00:00          390\n",
              "2 2018-11-26 05:00:00          616\n",
              "3 2018-11-26 06:00:00         1462\n",
              "4 2018-11-26 07:00:00          925"
            ],
            "text/html": [
              "\n",
              "  <div id=\"df-bd8fdc6b-9ddd-43d4-bc53-687e831682bc\">\n",
              "    <div class=\"colab-df-container\">\n",
              "      <div>\n",
              "<style scoped>\n",
              "    .dataframe tbody tr th:only-of-type {\n",
              "        vertical-align: middle;\n",
              "    }\n",
              "\n",
              "    .dataframe tbody tr th {\n",
              "        vertical-align: top;\n",
              "    }\n",
              "\n",
              "    .dataframe thead th {\n",
              "        text-align: right;\n",
              "    }\n",
              "</style>\n",
              "<table border=\"1\" class=\"dataframe\">\n",
              "  <thead>\n",
              "    <tr style=\"text-align: right;\">\n",
              "      <th></th>\n",
              "      <th>datetime</th>\n",
              "      <th>total_rides</th>\n",
              "    </tr>\n",
              "  </thead>\n",
              "  <tbody>\n",
              "    <tr>\n",
              "      <th>0</th>\n",
              "      <td>2018-11-26 03:00:00</td>\n",
              "      <td>77</td>\n",
              "    </tr>\n",
              "    <tr>\n",
              "      <th>1</th>\n",
              "      <td>2018-11-26 04:00:00</td>\n",
              "      <td>390</td>\n",
              "    </tr>\n",
              "    <tr>\n",
              "      <th>2</th>\n",
              "      <td>2018-11-26 05:00:00</td>\n",
              "      <td>616</td>\n",
              "    </tr>\n",
              "    <tr>\n",
              "      <th>3</th>\n",
              "      <td>2018-11-26 06:00:00</td>\n",
              "      <td>1462</td>\n",
              "    </tr>\n",
              "    <tr>\n",
              "      <th>4</th>\n",
              "      <td>2018-11-26 07:00:00</td>\n",
              "      <td>925</td>\n",
              "    </tr>\n",
              "  </tbody>\n",
              "</table>\n",
              "</div>\n",
              "      <button class=\"colab-df-convert\" onclick=\"convertToInteractive('df-bd8fdc6b-9ddd-43d4-bc53-687e831682bc')\"\n",
              "              title=\"Convert this dataframe to an interactive table.\"\n",
              "              style=\"display:none;\">\n",
              "        \n",
              "  <svg xmlns=\"http://www.w3.org/2000/svg\" height=\"24px\"viewBox=\"0 0 24 24\"\n",
              "       width=\"24px\">\n",
              "    <path d=\"M0 0h24v24H0V0z\" fill=\"none\"/>\n",
              "    <path d=\"M18.56 5.44l.94 2.06.94-2.06 2.06-.94-2.06-.94-.94-2.06-.94 2.06-2.06.94zm-11 1L8.5 8.5l.94-2.06 2.06-.94-2.06-.94L8.5 2.5l-.94 2.06-2.06.94zm10 10l.94 2.06.94-2.06 2.06-.94-2.06-.94-.94-2.06-.94 2.06-2.06.94z\"/><path d=\"M17.41 7.96l-1.37-1.37c-.4-.4-.92-.59-1.43-.59-.52 0-1.04.2-1.43.59L10.3 9.45l-7.72 7.72c-.78.78-.78 2.05 0 2.83L4 21.41c.39.39.9.59 1.41.59.51 0 1.02-.2 1.41-.59l7.78-7.78 2.81-2.81c.8-.78.8-2.07 0-2.86zM5.41 20L4 18.59l7.72-7.72 1.47 1.35L5.41 20z\"/>\n",
              "  </svg>\n",
              "      </button>\n",
              "      \n",
              "  <style>\n",
              "    .colab-df-container {\n",
              "      display:flex;\n",
              "      flex-wrap:wrap;\n",
              "      gap: 12px;\n",
              "    }\n",
              "\n",
              "    .colab-df-convert {\n",
              "      background-color: #E8F0FE;\n",
              "      border: none;\n",
              "      border-radius: 50%;\n",
              "      cursor: pointer;\n",
              "      display: none;\n",
              "      fill: #1967D2;\n",
              "      height: 32px;\n",
              "      padding: 0 0 0 0;\n",
              "      width: 32px;\n",
              "    }\n",
              "\n",
              "    .colab-df-convert:hover {\n",
              "      background-color: #E2EBFA;\n",
              "      box-shadow: 0px 1px 2px rgba(60, 64, 67, 0.3), 0px 1px 3px 1px rgba(60, 64, 67, 0.15);\n",
              "      fill: #174EA6;\n",
              "    }\n",
              "\n",
              "    [theme=dark] .colab-df-convert {\n",
              "      background-color: #3B4455;\n",
              "      fill: #D2E3FC;\n",
              "    }\n",
              "\n",
              "    [theme=dark] .colab-df-convert:hover {\n",
              "      background-color: #434B5C;\n",
              "      box-shadow: 0px 1px 3px 1px rgba(0, 0, 0, 0.15);\n",
              "      filter: drop-shadow(0px 1px 2px rgba(0, 0, 0, 0.3));\n",
              "      fill: #FFFFFF;\n",
              "    }\n",
              "  </style>\n",
              "\n",
              "      <script>\n",
              "        const buttonEl =\n",
              "          document.querySelector('#df-bd8fdc6b-9ddd-43d4-bc53-687e831682bc button.colab-df-convert');\n",
              "        buttonEl.style.display =\n",
              "          google.colab.kernel.accessAllowed ? 'block' : 'none';\n",
              "\n",
              "        async function convertToInteractive(key) {\n",
              "          const element = document.querySelector('#df-bd8fdc6b-9ddd-43d4-bc53-687e831682bc');\n",
              "          const dataTable =\n",
              "            await google.colab.kernel.invokeFunction('convertToInteractive',\n",
              "                                                     [key], {});\n",
              "          if (!dataTable) return;\n",
              "\n",
              "          const docLinkHtml = 'Like what you see? Visit the ' +\n",
              "            '<a target=\"_blank\" href=https://colab.research.google.com/notebooks/data_table.ipynb>data table notebook</a>'\n",
              "            + ' to learn more about interactive tables.';\n",
              "          element.innerHTML = '';\n",
              "          dataTable['output_type'] = 'display_data';\n",
              "          await google.colab.output.renderOutput(dataTable, element);\n",
              "          const docLink = document.createElement('div');\n",
              "          docLink.innerHTML = docLinkHtml;\n",
              "          element.appendChild(docLink);\n",
              "        }\n",
              "      </script>\n",
              "    </div>\n",
              "  </div>\n",
              "  "
            ]
          },
          "metadata": {},
          "execution_count": 10
        }
      ],
      "source": [
        "grouped.head()"
      ]
    },
    {
      "cell_type": "markdown",
      "source": [
        "*Setting timestamp as the index for corresponding ride demand*"
      ],
      "metadata": {
        "id": "fMWfIKnYU1cT"
      }
    },
    {
      "cell_type": "code",
      "execution_count": null,
      "metadata": {
        "id": "q3y7JKwtrgOc"
      },
      "outputs": [],
      "source": [
        "grouped.set_index('datetime',inplace=True)"
      ]
    },
    {
      "cell_type": "markdown",
      "metadata": {
        "id": "kOlxyYsaHv16"
      },
      "source": [
        "This is the final dataset to be used in ARIMA forecasting"
      ]
    },
    {
      "cell_type": "code",
      "execution_count": null,
      "metadata": {
        "id": "-KEt0oZC9NoM"
      },
      "outputs": [],
      "source": [
        "grouped['total_rides']=grouped['total_rides'].astype(float)"
      ]
    },
    {
      "cell_type": "markdown",
      "source": [
        "An overview of the dataset we are about to use"
      ],
      "metadata": {
        "id": "nO0ng4sKzoYp"
      }
    },
    {
      "cell_type": "code",
      "source": [
        "grouped"
      ],
      "metadata": {
        "colab": {
          "base_uri": "https://localhost:8080/",
          "height": 455
        },
        "id": "B3yKfp8mG5Jz",
        "outputId": "315f9313-710d-4d1b-db49-873d445b3c60"
      },
      "execution_count": null,
      "outputs": [
        {
          "output_type": "execute_result",
          "data": {
            "text/plain": [
              "                     total_rides\n",
              "datetime                        \n",
              "2018-11-26 03:00:00         77.0\n",
              "2018-11-26 04:00:00        390.0\n",
              "2018-11-26 05:00:00        616.0\n",
              "2018-11-26 06:00:00       1462.0\n",
              "2018-11-26 07:00:00        925.0\n",
              "...                          ...\n",
              "2018-12-18 15:00:00       1709.0\n",
              "2018-12-18 16:00:00       1712.0\n",
              "2018-12-18 17:00:00       1712.0\n",
              "2018-12-18 18:00:00       1745.0\n",
              "2018-12-18 19:00:00        584.0\n",
              "\n",
              "[332 rows x 1 columns]"
            ],
            "text/html": [
              "\n",
              "  <div id=\"df-cefee82b-a35b-4760-8300-9e547af849e1\">\n",
              "    <div class=\"colab-df-container\">\n",
              "      <div>\n",
              "<style scoped>\n",
              "    .dataframe tbody tr th:only-of-type {\n",
              "        vertical-align: middle;\n",
              "    }\n",
              "\n",
              "    .dataframe tbody tr th {\n",
              "        vertical-align: top;\n",
              "    }\n",
              "\n",
              "    .dataframe thead th {\n",
              "        text-align: right;\n",
              "    }\n",
              "</style>\n",
              "<table border=\"1\" class=\"dataframe\">\n",
              "  <thead>\n",
              "    <tr style=\"text-align: right;\">\n",
              "      <th></th>\n",
              "      <th>total_rides</th>\n",
              "    </tr>\n",
              "    <tr>\n",
              "      <th>datetime</th>\n",
              "      <th></th>\n",
              "    </tr>\n",
              "  </thead>\n",
              "  <tbody>\n",
              "    <tr>\n",
              "      <th>2018-11-26 03:00:00</th>\n",
              "      <td>77.0</td>\n",
              "    </tr>\n",
              "    <tr>\n",
              "      <th>2018-11-26 04:00:00</th>\n",
              "      <td>390.0</td>\n",
              "    </tr>\n",
              "    <tr>\n",
              "      <th>2018-11-26 05:00:00</th>\n",
              "      <td>616.0</td>\n",
              "    </tr>\n",
              "    <tr>\n",
              "      <th>2018-11-26 06:00:00</th>\n",
              "      <td>1462.0</td>\n",
              "    </tr>\n",
              "    <tr>\n",
              "      <th>2018-11-26 07:00:00</th>\n",
              "      <td>925.0</td>\n",
              "    </tr>\n",
              "    <tr>\n",
              "      <th>...</th>\n",
              "      <td>...</td>\n",
              "    </tr>\n",
              "    <tr>\n",
              "      <th>2018-12-18 15:00:00</th>\n",
              "      <td>1709.0</td>\n",
              "    </tr>\n",
              "    <tr>\n",
              "      <th>2018-12-18 16:00:00</th>\n",
              "      <td>1712.0</td>\n",
              "    </tr>\n",
              "    <tr>\n",
              "      <th>2018-12-18 17:00:00</th>\n",
              "      <td>1712.0</td>\n",
              "    </tr>\n",
              "    <tr>\n",
              "      <th>2018-12-18 18:00:00</th>\n",
              "      <td>1745.0</td>\n",
              "    </tr>\n",
              "    <tr>\n",
              "      <th>2018-12-18 19:00:00</th>\n",
              "      <td>584.0</td>\n",
              "    </tr>\n",
              "  </tbody>\n",
              "</table>\n",
              "<p>332 rows × 1 columns</p>\n",
              "</div>\n",
              "      <button class=\"colab-df-convert\" onclick=\"convertToInteractive('df-cefee82b-a35b-4760-8300-9e547af849e1')\"\n",
              "              title=\"Convert this dataframe to an interactive table.\"\n",
              "              style=\"display:none;\">\n",
              "        \n",
              "  <svg xmlns=\"http://www.w3.org/2000/svg\" height=\"24px\"viewBox=\"0 0 24 24\"\n",
              "       width=\"24px\">\n",
              "    <path d=\"M0 0h24v24H0V0z\" fill=\"none\"/>\n",
              "    <path d=\"M18.56 5.44l.94 2.06.94-2.06 2.06-.94-2.06-.94-.94-2.06-.94 2.06-2.06.94zm-11 1L8.5 8.5l.94-2.06 2.06-.94-2.06-.94L8.5 2.5l-.94 2.06-2.06.94zm10 10l.94 2.06.94-2.06 2.06-.94-2.06-.94-.94-2.06-.94 2.06-2.06.94z\"/><path d=\"M17.41 7.96l-1.37-1.37c-.4-.4-.92-.59-1.43-.59-.52 0-1.04.2-1.43.59L10.3 9.45l-7.72 7.72c-.78.78-.78 2.05 0 2.83L4 21.41c.39.39.9.59 1.41.59.51 0 1.02-.2 1.41-.59l7.78-7.78 2.81-2.81c.8-.78.8-2.07 0-2.86zM5.41 20L4 18.59l7.72-7.72 1.47 1.35L5.41 20z\"/>\n",
              "  </svg>\n",
              "      </button>\n",
              "      \n",
              "  <style>\n",
              "    .colab-df-container {\n",
              "      display:flex;\n",
              "      flex-wrap:wrap;\n",
              "      gap: 12px;\n",
              "    }\n",
              "\n",
              "    .colab-df-convert {\n",
              "      background-color: #E8F0FE;\n",
              "      border: none;\n",
              "      border-radius: 50%;\n",
              "      cursor: pointer;\n",
              "      display: none;\n",
              "      fill: #1967D2;\n",
              "      height: 32px;\n",
              "      padding: 0 0 0 0;\n",
              "      width: 32px;\n",
              "    }\n",
              "\n",
              "    .colab-df-convert:hover {\n",
              "      background-color: #E2EBFA;\n",
              "      box-shadow: 0px 1px 2px rgba(60, 64, 67, 0.3), 0px 1px 3px 1px rgba(60, 64, 67, 0.15);\n",
              "      fill: #174EA6;\n",
              "    }\n",
              "\n",
              "    [theme=dark] .colab-df-convert {\n",
              "      background-color: #3B4455;\n",
              "      fill: #D2E3FC;\n",
              "    }\n",
              "\n",
              "    [theme=dark] .colab-df-convert:hover {\n",
              "      background-color: #434B5C;\n",
              "      box-shadow: 0px 1px 3px 1px rgba(0, 0, 0, 0.15);\n",
              "      filter: drop-shadow(0px 1px 2px rgba(0, 0, 0, 0.3));\n",
              "      fill: #FFFFFF;\n",
              "    }\n",
              "  </style>\n",
              "\n",
              "      <script>\n",
              "        const buttonEl =\n",
              "          document.querySelector('#df-cefee82b-a35b-4760-8300-9e547af849e1 button.colab-df-convert');\n",
              "        buttonEl.style.display =\n",
              "          google.colab.kernel.accessAllowed ? 'block' : 'none';\n",
              "\n",
              "        async function convertToInteractive(key) {\n",
              "          const element = document.querySelector('#df-cefee82b-a35b-4760-8300-9e547af849e1');\n",
              "          const dataTable =\n",
              "            await google.colab.kernel.invokeFunction('convertToInteractive',\n",
              "                                                     [key], {});\n",
              "          if (!dataTable) return;\n",
              "\n",
              "          const docLinkHtml = 'Like what you see? Visit the ' +\n",
              "            '<a target=\"_blank\" href=https://colab.research.google.com/notebooks/data_table.ipynb>data table notebook</a>'\n",
              "            + ' to learn more about interactive tables.';\n",
              "          element.innerHTML = '';\n",
              "          dataTable['output_type'] = 'display_data';\n",
              "          await google.colab.output.renderOutput(dataTable, element);\n",
              "          const docLink = document.createElement('div');\n",
              "          docLink.innerHTML = docLinkHtml;\n",
              "          element.appendChild(docLink);\n",
              "        }\n",
              "      </script>\n",
              "    </div>\n",
              "  </div>\n",
              "  "
            ]
          },
          "metadata": {},
          "execution_count": 15
        }
      ]
    },
    {
      "cell_type": "markdown",
      "source": [
        "In the code block given below, the pieces of code essentially help us\n",
        "1. Firstly use the dataset to run SARIMA forecasting model\n",
        "2. Predict(forecast) the ride demand for the last week of December 2018.\n",
        "3. Create Interactive plot using plotly library and plot forecasted and already known values (both test and train data).\n",
        "4. The last part of code helps in adding interactivity to the graph by allowing user to select the aggregation level of data ie weekly, daily, yearly etc.\n",
        "The code helps in defining the buttons and their functions with respect to plotting data in the graph."
      ],
      "metadata": {
        "id": "x8N9ggD-zu4q"
      }
    },
    {
      "cell_type": "code",
      "source": [
        "import pandas as pd\n",
        "import numpy as np\n",
        "import matplotlib.pyplot as plt\n",
        "from statsmodels.tsa.statespace.sarimax import SARIMAX\n",
        "from sklearn.metrics import mean_squared_error\n",
        "import plotly.graph_objects as go\n",
        "from plotly.subplots import make_subplots\n",
        "\n",
        "\n",
        "\n",
        "\n",
        "# Split into training and test sets\n",
        "train_size = int(len(grouped) * 0.8)\n",
        "train, test = grouped[:train_size], grouped[train_size:]\n",
        "\n",
        "# Fit SARIMA model\n",
        "model = SARIMAX(train, order=(1, 1, 1), seasonal_order=(0, 1, 1, 24))\n",
        "model_fit = model.fit()\n",
        "\n",
        "# Forecast\n",
        "start_index = len(train)\n",
        "end_index = len(train) + len(test) - 1\n",
        "forecast = model_fit.predict(start=start_index, end=end_index)\n",
        "\n",
        "\n",
        "\n",
        "\n",
        "\n",
        "\n",
        "\n",
        "# Evaluate model\n",
        "mse = mean_squared_error(test, forecast)\n",
        "rmse = np.sqrt(mse)\n",
        "print('Test RMSE: %.3f' % rmse)\n",
        "\n",
        "# Create interactive plot\n",
        "fig = make_subplots(rows=1, cols=1, shared_xaxes=True)\n",
        "\n",
        "fig.add_trace(go.Scatter(x=grouped.index, y=grouped['total_rides'], name='Actual'), row=1, col=1)\n",
        "fig.add_trace(go.Scatter(x=test.index, y=forecast, name='Forecast'), row=1, col=1)\n",
        "\n",
        "fig.update_layout(title='Ride Demand Forecast',\n",
        "                  xaxis_title='Timestamp',\n",
        "                  yaxis_title='Ride Demand',\n",
        "                  height=400)\n",
        "\n",
        "fig.update_layout(xaxis=dict(rangeselector=dict(buttons=list([\n",
        "                                dict(count=1, label=\"1d\", step=\"day\", stepmode=\"backward\"),\n",
        "                                dict(count=7, label=\"1w\", step=\"day\", stepmode=\"backward\"),\n",
        "                                dict(count=1, label=\"1m\", step=\"month\", stepmode=\"backward\"),\n",
        "                                dict(count=6, label=\"6m\", step=\"month\", stepmode=\"backward\"),\n",
        "                                dict(count=1, label=\"YTD\", step=\"year\", stepmode=\"todate\"),\n",
        "                                dict(count=1, label=\"1y\", step=\"year\", stepmode=\"backward\"),\n",
        "                                dict(step=\"all\")])),\n",
        "                   rangeslider=dict(visible=True),\n",
        "                   type=\"date\"))\n",
        "\n",
        "fig.show()\n"
      ],
      "metadata": {
        "colab": {
          "base_uri": "https://localhost:8080/",
          "height": 643
        },
        "id": "6rHnPtFnDbkz",
        "outputId": "4858613c-00a7-41d8-f52a-9d20fcfe94a1"
      },
      "execution_count": null,
      "outputs": [
        {
          "output_type": "stream",
          "name": "stderr",
          "text": [
            "/usr/local/lib/python3.9/dist-packages/statsmodels/tsa/base/tsa_model.py:471: ValueWarning:\n",
            "\n",
            "A date index has been provided, but it has no associated frequency information and so will be ignored when e.g. forecasting.\n",
            "\n",
            "/usr/local/lib/python3.9/dist-packages/statsmodels/tsa/base/tsa_model.py:471: ValueWarning:\n",
            "\n",
            "A date index has been provided, but it has no associated frequency information and so will be ignored when e.g. forecasting.\n",
            "\n"
          ]
        },
        {
          "output_type": "stream",
          "name": "stdout",
          "text": [
            "Test RMSE: 240.850\n"
          ]
        },
        {
          "output_type": "stream",
          "name": "stderr",
          "text": [
            "/usr/local/lib/python3.9/dist-packages/statsmodels/tsa/base/tsa_model.py:834: ValueWarning:\n",
            "\n",
            "No supported index is available. Prediction results will be given with an integer index beginning at `start`.\n",
            "\n"
          ]
        },
        {
          "output_type": "display_data",
          "data": {
            "text/html": [
              "<html>\n",
              "<head><meta charset=\"utf-8\" /></head>\n",
              "<body>\n",
              "    <div>            <script src=\"https://cdnjs.cloudflare.com/ajax/libs/mathjax/2.7.5/MathJax.js?config=TeX-AMS-MML_SVG\"></script><script type=\"text/javascript\">if (window.MathJax && window.MathJax.Hub && window.MathJax.Hub.Config) {window.MathJax.Hub.Config({SVG: {font: \"STIX-Web\"}});}</script>                <script type=\"text/javascript\">window.PlotlyConfig = {MathJaxConfig: 'local'};</script>\n",
              "        <script src=\"https://cdn.plot.ly/plotly-2.18.2.min.js\"></script>                <div id=\"72ca6dc1-2d26-4c3d-bd58-c0ad81a67b16\" class=\"plotly-graph-div\" style=\"height:400px; width:100%;\"></div>            <script type=\"text/javascript\">                                    window.PLOTLYENV=window.PLOTLYENV || {};                                    if (document.getElementById(\"72ca6dc1-2d26-4c3d-bd58-c0ad81a67b16\")) {                    Plotly.newPlot(                        \"72ca6dc1-2d26-4c3d-bd58-c0ad81a67b16\",                        [{\"name\":\"Actual\",\"x\":[\"2018-11-26T03:00:00\",\"2018-11-26T04:00:00\",\"2018-11-26T05:00:00\",\"2018-11-26T06:00:00\",\"2018-11-26T07:00:00\",\"2018-11-26T08:00:00\",\"2018-11-26T09:00:00\",\"2018-11-26T10:00:00\",\"2018-11-26T11:00:00\",\"2018-11-26T12:00:00\",\"2018-11-26T13:00:00\",\"2018-11-26T14:00:00\",\"2018-11-26T15:00:00\",\"2018-11-26T16:00:00\",\"2018-11-26T17:00:00\",\"2018-11-26T18:00:00\",\"2018-11-26T19:00:00\",\"2018-11-26T20:00:00\",\"2018-11-26T21:00:00\",\"2018-11-26T22:00:00\",\"2018-11-26T23:00:00\",\"2018-11-27T00:00:00\",\"2018-11-27T01:00:00\",\"2018-11-27T02:00:00\",\"2018-11-27T03:00:00\",\"2018-11-27T04:00:00\",\"2018-11-27T05:00:00\",\"2018-11-27T06:00:00\",\"2018-11-27T07:00:00\",\"2018-11-27T08:00:00\",\"2018-11-27T09:00:00\",\"2018-11-27T10:00:00\",\"2018-11-27T11:00:00\",\"2018-11-27T12:00:00\",\"2018-11-27T13:00:00\",\"2018-11-27T14:00:00\",\"2018-11-27T15:00:00\",\"2018-11-27T16:00:00\",\"2018-11-27T17:00:00\",\"2018-11-27T18:00:00\",\"2018-11-27T19:00:00\",\"2018-11-27T20:00:00\",\"2018-11-27T21:00:00\",\"2018-11-27T22:00:00\",\"2018-11-27T23:00:00\",\"2018-11-28T00:00:00\",\"2018-11-28T01:00:00\",\"2018-11-28T07:00:00\",\"2018-11-28T08:00:00\",\"2018-11-28T09:00:00\",\"2018-11-28T10:00:00\",\"2018-11-28T11:00:00\",\"2018-11-28T12:00:00\",\"2018-11-28T13:00:00\",\"2018-11-28T14:00:00\",\"2018-11-28T15:00:00\",\"2018-11-28T16:00:00\",\"2018-11-28T17:00:00\",\"2018-11-28T18:00:00\",\"2018-11-28T19:00:00\",\"2018-11-28T20:00:00\",\"2018-11-28T21:00:00\",\"2018-11-28T22:00:00\",\"2018-11-28T23:00:00\",\"2018-11-29T00:00:00\",\"2018-11-29T01:00:00\",\"2018-11-29T02:00:00\",\"2018-11-29T03:00:00\",\"2018-11-29T04:00:00\",\"2018-11-29T05:00:00\",\"2018-11-29T06:00:00\",\"2018-11-29T07:00:00\",\"2018-11-29T08:00:00\",\"2018-11-29T09:00:00\",\"2018-11-29T10:00:00\",\"2018-11-29T11:00:00\",\"2018-11-29T12:00:00\",\"2018-11-29T13:00:00\",\"2018-11-29T14:00:00\",\"2018-11-29T15:00:00\",\"2018-11-29T16:00:00\",\"2018-11-29T17:00:00\",\"2018-11-29T18:00:00\",\"2018-11-29T19:00:00\",\"2018-11-29T20:00:00\",\"2018-11-29T21:00:00\",\"2018-11-29T22:00:00\",\"2018-11-29T23:00:00\",\"2018-11-30T00:00:00\",\"2018-11-30T01:00:00\",\"2018-11-30T02:00:00\",\"2018-11-30T03:00:00\",\"2018-11-30T04:00:00\",\"2018-11-30T05:00:00\",\"2018-11-30T06:00:00\",\"2018-11-30T07:00:00\",\"2018-11-30T08:00:00\",\"2018-11-30T09:00:00\",\"2018-11-30T10:00:00\",\"2018-11-30T11:00:00\",\"2018-11-30T12:00:00\",\"2018-11-30T13:00:00\",\"2018-11-30T14:00:00\",\"2018-11-30T15:00:00\",\"2018-11-30T16:00:00\",\"2018-11-30T17:00:00\",\"2018-11-30T18:00:00\",\"2018-11-30T19:00:00\",\"2018-11-30T20:00:00\",\"2018-11-30T21:00:00\",\"2018-11-30T22:00:00\",\"2018-11-30T23:00:00\",\"2018-12-01T00:00:00\",\"2018-12-01T01:00:00\",\"2018-12-01T02:00:00\",\"2018-12-01T03:00:00\",\"2018-12-01T04:00:00\",\"2018-12-01T05:00:00\",\"2018-12-01T06:00:00\",\"2018-12-01T07:00:00\",\"2018-12-01T08:00:00\",\"2018-12-01T09:00:00\",\"2018-12-01T10:00:00\",\"2018-12-01T11:00:00\",\"2018-12-01T12:00:00\",\"2018-12-01T13:00:00\",\"2018-12-01T14:00:00\",\"2018-12-01T15:00:00\",\"2018-12-01T16:00:00\",\"2018-12-01T17:00:00\",\"2018-12-01T18:00:00\",\"2018-12-01T19:00:00\",\"2018-12-01T20:00:00\",\"2018-12-01T21:00:00\",\"2018-12-01T22:00:00\",\"2018-12-01T23:00:00\",\"2018-12-02T00:00:00\",\"2018-12-02T01:00:00\",\"2018-12-02T02:00:00\",\"2018-12-02T03:00:00\",\"2018-12-02T04:00:00\",\"2018-12-02T05:00:00\",\"2018-12-02T06:00:00\",\"2018-12-02T07:00:00\",\"2018-12-02T08:00:00\",\"2018-12-02T09:00:00\",\"2018-12-02T10:00:00\",\"2018-12-02T11:00:00\",\"2018-12-02T12:00:00\",\"2018-12-02T13:00:00\",\"2018-12-02T14:00:00\",\"2018-12-02T15:00:00\",\"2018-12-02T16:00:00\",\"2018-12-02T17:00:00\",\"2018-12-02T18:00:00\",\"2018-12-02T19:00:00\",\"2018-12-02T20:00:00\",\"2018-12-02T21:00:00\",\"2018-12-02T22:00:00\",\"2018-12-02T23:00:00\",\"2018-12-03T00:00:00\",\"2018-12-03T01:00:00\",\"2018-12-03T02:00:00\",\"2018-12-03T03:00:00\",\"2018-12-03T04:00:00\",\"2018-12-03T05:00:00\",\"2018-12-03T06:00:00\",\"2018-12-03T07:00:00\",\"2018-12-03T08:00:00\",\"2018-12-03T09:00:00\",\"2018-12-03T10:00:00\",\"2018-12-03T11:00:00\",\"2018-12-03T12:00:00\",\"2018-12-03T13:00:00\",\"2018-12-03T14:00:00\",\"2018-12-03T15:00:00\",\"2018-12-03T16:00:00\",\"2018-12-03T17:00:00\",\"2018-12-03T18:00:00\",\"2018-12-03T19:00:00\",\"2018-12-03T20:00:00\",\"2018-12-03T21:00:00\",\"2018-12-03T22:00:00\",\"2018-12-03T23:00:00\",\"2018-12-04T00:00:00\",\"2018-12-04T01:00:00\",\"2018-12-04T02:00:00\",\"2018-12-04T03:00:00\",\"2018-12-04T04:00:00\",\"2018-12-04T05:00:00\",\"2018-12-04T06:00:00\",\"2018-12-09T23:00:00\",\"2018-12-10T00:00:00\",\"2018-12-10T01:00:00\",\"2018-12-10T02:00:00\",\"2018-12-13T03:00:00\",\"2018-12-13T04:00:00\",\"2018-12-13T05:00:00\",\"2018-12-13T06:00:00\",\"2018-12-13T07:00:00\",\"2018-12-13T08:00:00\",\"2018-12-13T09:00:00\",\"2018-12-13T10:00:00\",\"2018-12-13T11:00:00\",\"2018-12-13T12:00:00\",\"2018-12-13T13:00:00\",\"2018-12-13T14:00:00\",\"2018-12-13T15:00:00\",\"2018-12-13T16:00:00\",\"2018-12-13T17:00:00\",\"2018-12-13T18:00:00\",\"2018-12-13T19:00:00\",\"2018-12-13T20:00:00\",\"2018-12-13T21:00:00\",\"2018-12-13T22:00:00\",\"2018-12-13T23:00:00\",\"2018-12-14T00:00:00\",\"2018-12-14T01:00:00\",\"2018-12-14T02:00:00\",\"2018-12-14T03:00:00\",\"2018-12-14T04:00:00\",\"2018-12-14T05:00:00\",\"2018-12-14T06:00:00\",\"2018-12-14T07:00:00\",\"2018-12-14T08:00:00\",\"2018-12-14T09:00:00\",\"2018-12-14T10:00:00\",\"2018-12-14T11:00:00\",\"2018-12-14T12:00:00\",\"2018-12-14T13:00:00\",\"2018-12-14T14:00:00\",\"2018-12-14T15:00:00\",\"2018-12-14T16:00:00\",\"2018-12-14T17:00:00\",\"2018-12-14T18:00:00\",\"2018-12-14T19:00:00\",\"2018-12-14T20:00:00\",\"2018-12-14T21:00:00\",\"2018-12-14T22:00:00\",\"2018-12-14T23:00:00\",\"2018-12-15T00:00:00\",\"2018-12-15T01:00:00\",\"2018-12-15T02:00:00\",\"2018-12-15T03:00:00\",\"2018-12-15T04:00:00\",\"2018-12-15T05:00:00\",\"2018-12-15T06:00:00\",\"2018-12-15T07:00:00\",\"2018-12-15T08:00:00\",\"2018-12-15T09:00:00\",\"2018-12-15T10:00:00\",\"2018-12-15T11:00:00\",\"2018-12-15T12:00:00\",\"2018-12-15T13:00:00\",\"2018-12-15T14:00:00\",\"2018-12-15T15:00:00\",\"2018-12-15T16:00:00\",\"2018-12-15T17:00:00\",\"2018-12-15T18:00:00\",\"2018-12-15T19:00:00\",\"2018-12-15T20:00:00\",\"2018-12-15T21:00:00\",\"2018-12-15T22:00:00\",\"2018-12-15T23:00:00\",\"2018-12-16T00:00:00\",\"2018-12-16T01:00:00\",\"2018-12-16T02:00:00\",\"2018-12-16T03:00:00\",\"2018-12-16T04:00:00\",\"2018-12-16T05:00:00\",\"2018-12-16T06:00:00\",\"2018-12-16T07:00:00\",\"2018-12-16T08:00:00\",\"2018-12-16T09:00:00\",\"2018-12-16T10:00:00\",\"2018-12-16T11:00:00\",\"2018-12-16T12:00:00\",\"2018-12-16T13:00:00\",\"2018-12-16T14:00:00\",\"2018-12-16T15:00:00\",\"2018-12-16T16:00:00\",\"2018-12-16T17:00:00\",\"2018-12-16T18:00:00\",\"2018-12-16T19:00:00\",\"2018-12-16T20:00:00\",\"2018-12-16T21:00:00\",\"2018-12-16T22:00:00\",\"2018-12-16T23:00:00\",\"2018-12-17T00:00:00\",\"2018-12-17T01:00:00\",\"2018-12-17T02:00:00\",\"2018-12-17T03:00:00\",\"2018-12-17T04:00:00\",\"2018-12-17T05:00:00\",\"2018-12-17T06:00:00\",\"2018-12-17T07:00:00\",\"2018-12-17T08:00:00\",\"2018-12-17T09:00:00\",\"2018-12-17T10:00:00\",\"2018-12-17T11:00:00\",\"2018-12-17T12:00:00\",\"2018-12-17T13:00:00\",\"2018-12-17T14:00:00\",\"2018-12-17T15:00:00\",\"2018-12-17T16:00:00\",\"2018-12-17T17:00:00\",\"2018-12-17T18:00:00\",\"2018-12-17T19:00:00\",\"2018-12-17T20:00:00\",\"2018-12-17T21:00:00\",\"2018-12-17T22:00:00\",\"2018-12-17T23:00:00\",\"2018-12-18T00:00:00\",\"2018-12-18T01:00:00\",\"2018-12-18T02:00:00\",\"2018-12-18T03:00:00\",\"2018-12-18T04:00:00\",\"2018-12-18T05:00:00\",\"2018-12-18T06:00:00\",\"2018-12-18T07:00:00\",\"2018-12-18T08:00:00\",\"2018-12-18T09:00:00\",\"2018-12-18T10:00:00\",\"2018-12-18T11:00:00\",\"2018-12-18T12:00:00\",\"2018-12-18T13:00:00\",\"2018-12-18T14:00:00\",\"2018-12-18T15:00:00\",\"2018-12-18T16:00:00\",\"2018-12-18T17:00:00\",\"2018-12-18T18:00:00\",\"2018-12-18T19:00:00\"],\"y\":[77.0,390.0,616.0,1462.0,925.0,233.0,1526.0,1541.0,1538.0,1542.0,1547.0,1548.0,1542.0,1558.0,1561.0,1553.0,1540.0,1541.0,1544.0,2381.0,2863.0,3743.0,3150.0,2878.0,2862.0,2877.0,2848.0,2878.0,2875.0,2855.0,2876.0,2862.0,2851.0,2885.0,2891.0,2864.0,2870.0,2870.0,2886.0,2878.0,2900.0,2899.0,2870.0,2877.0,2890.0,2894.0,723.0,338.0,146.0,3291.0,4607.0,4596.0,4606.0,4604.0,4586.0,4588.0,4574.0,4608.0,4590.0,3155.0,3002.0,3442.0,4611.0,4881.0,5182.0,5032.0,4315.0,4258.0,4017.0,563.0,2156.0,1731.0,1718.0,1721.0,1718.0,1716.0,1706.0,1722.0,1724.0,1723.0,1711.0,1724.0,1727.0,1718.0,1712.0,2177.0,1716.0,1735.0,1726.0,1737.0,1711.0,1717.0,1742.0,1734.0,1727.0,1722.0,1858.0,1720.0,1714.0,1725.0,1731.0,1718.0,1722.0,1730.0,1728.0,1745.0,1715.0,1743.0,1711.0,1716.0,1729.0,1723.0,1730.0,1714.0,2008.0,1723.0,1725.0,1729.0,1732.0,1721.0,1728.0,1739.0,1699.0,1718.0,1723.0,1734.0,1740.0,1738.0,1721.0,1726.0,1733.0,1722.0,1719.0,1720.0,1727.0,1711.0,1723.0,1732.0,1721.0,1705.0,1728.0,1715.0,1728.0,1708.0,1714.0,1724.0,1717.0,1732.0,1715.0,1722.0,1736.0,1696.0,1715.0,1725.0,1717.0,1724.0,1733.0,1736.0,1730.0,1702.0,1722.0,1716.0,1736.0,1729.0,1706.0,1709.0,1707.0,1716.0,1720.0,1743.0,1721.0,1723.0,1744.0,1710.0,1724.0,1705.0,1735.0,1730.0,1709.0,1721.0,1714.0,1733.0,1723.0,1727.0,1711.0,1736.0,1729.0,1722.0,1589.0,1713.0,1427.0,1529.0,822.0,141.0,1571.0,1161.0,1715.0,1724.0,1729.0,1592.0,1720.0,1731.0,1722.0,1717.0,1717.0,1714.0,1730.0,1724.0,1740.0,1718.0,1725.0,1735.0,1736.0,1716.0,1713.0,1717.0,1719.0,1723.0,1737.0,1721.0,1716.0,1722.0,1714.0,1726.0,1725.0,1733.0,1725.0,1741.0,1726.0,1713.0,1725.0,1716.0,1728.0,1737.0,1704.0,1734.0,1707.0,1730.0,1711.0,1711.0,1734.0,1734.0,1741.0,1719.0,1722.0,1718.0,1710.0,1716.0,1742.0,1706.0,1708.0,1730.0,1744.0,1720.0,1708.0,1707.0,1726.0,1739.0,1723.0,1702.0,1703.0,1729.0,1719.0,1732.0,1721.0,1747.0,1707.0,1711.0,1751.0,1731.0,1738.0,1719.0,1727.0,1711.0,1727.0,1720.0,1732.0,1724.0,1723.0,1714.0,1724.0,1731.0,1713.0,1713.0,1716.0,1713.0,1729.0,1717.0,1707.0,1716.0,1740.0,1719.0,1717.0,1726.0,1714.0,1723.0,1727.0,1734.0,1730.0,1712.0,1727.0,1733.0,1721.0,1706.0,1730.0,1733.0,1726.0,1719.0,1727.0,1723.0,1727.0,1717.0,1738.0,1709.0,1729.0,1706.0,1730.0,1747.0,1725.0,1718.0,1724.0,1718.0,1727.0,1727.0,1719.0,1725.0,1725.0,1709.0,1712.0,1712.0,1745.0,584.0],\"type\":\"scatter\",\"xaxis\":\"x\",\"yaxis\":\"y\"},{\"name\":\"Forecast\",\"x\":[\"2018-12-16T01:00:00\",\"2018-12-16T02:00:00\",\"2018-12-16T03:00:00\",\"2018-12-16T04:00:00\",\"2018-12-16T05:00:00\",\"2018-12-16T06:00:00\",\"2018-12-16T07:00:00\",\"2018-12-16T08:00:00\",\"2018-12-16T09:00:00\",\"2018-12-16T10:00:00\",\"2018-12-16T11:00:00\",\"2018-12-16T12:00:00\",\"2018-12-16T13:00:00\",\"2018-12-16T14:00:00\",\"2018-12-16T15:00:00\",\"2018-12-16T16:00:00\",\"2018-12-16T17:00:00\",\"2018-12-16T18:00:00\",\"2018-12-16T19:00:00\",\"2018-12-16T20:00:00\",\"2018-12-16T21:00:00\",\"2018-12-16T22:00:00\",\"2018-12-16T23:00:00\",\"2018-12-17T00:00:00\",\"2018-12-17T01:00:00\",\"2018-12-17T02:00:00\",\"2018-12-17T03:00:00\",\"2018-12-17T04:00:00\",\"2018-12-17T05:00:00\",\"2018-12-17T06:00:00\",\"2018-12-17T07:00:00\",\"2018-12-17T08:00:00\",\"2018-12-17T09:00:00\",\"2018-12-17T10:00:00\",\"2018-12-17T11:00:00\",\"2018-12-17T12:00:00\",\"2018-12-17T13:00:00\",\"2018-12-17T14:00:00\",\"2018-12-17T15:00:00\",\"2018-12-17T16:00:00\",\"2018-12-17T17:00:00\",\"2018-12-17T18:00:00\",\"2018-12-17T19:00:00\",\"2018-12-17T20:00:00\",\"2018-12-17T21:00:00\",\"2018-12-17T22:00:00\",\"2018-12-17T23:00:00\",\"2018-12-18T00:00:00\",\"2018-12-18T01:00:00\",\"2018-12-18T02:00:00\",\"2018-12-18T03:00:00\",\"2018-12-18T04:00:00\",\"2018-12-18T05:00:00\",\"2018-12-18T06:00:00\",\"2018-12-18T07:00:00\",\"2018-12-18T08:00:00\",\"2018-12-18T09:00:00\",\"2018-12-18T10:00:00\",\"2018-12-18T11:00:00\",\"2018-12-18T12:00:00\",\"2018-12-18T13:00:00\",\"2018-12-18T14:00:00\",\"2018-12-18T15:00:00\",\"2018-12-18T16:00:00\",\"2018-12-18T17:00:00\",\"2018-12-18T18:00:00\",\"2018-12-18T19:00:00\"],\"y\":[1897.2914401994708,2097.333852407678,2086.6962295353055,2042.823599124749,1937.3734426443298,2019.1701502069122,1970.7960394657468,1953.745300676213,1935.201652409189,1904.1792609582742,1756.0102767485682,1717.7775194220585,1779.6721832883593,1828.1309536248036,1829.35726537429,1845.4509070416923,1817.1969292618953,1754.2106822193232,1781.6992477847473,1775.229695325675,1539.231575327909,1387.3586862535567,1278.432024226552,1191.0686773759915,1423.916297552324,1673.8719265354857,1707.284824929629,1702.2886394615148,1631.1485871049172,1743.2254102163965,1721.5747799504172,1728.1086410133653,1730.3793979177847,1717.7265978676514,1585.7695536798788,1561.8445179319547,1636.366350199654,1695.9691298014118,1707.0305002558753,1731.803996491545,1711.2103568537204,1654.9846816603463,1688.439737331179,1687.2358643104762,1455.8849287474143,1308.1133761526023,1202.8063167376206,1118.637422020975,1354.3042810833585,1606.7480074188777,1642.356756780257,1639.298502505127,1569.8687562507082,1683.454996710822,1663.136490986442,1670.846008203028,1674.1543313022185,1662.417227227647,1531.268323401314,1508.056505644097,1583.207782902468,1643.3660742852571,1654.9177073415972,1680.1238810235538,1659.9120975008173,1604.0234264519413,1637.7759025094638],\"type\":\"scatter\",\"xaxis\":\"x\",\"yaxis\":\"y\"}],                        {\"template\":{\"data\":{\"histogram2dcontour\":[{\"type\":\"histogram2dcontour\",\"colorbar\":{\"outlinewidth\":0,\"ticks\":\"\"},\"colorscale\":[[0.0,\"#0d0887\"],[0.1111111111111111,\"#46039f\"],[0.2222222222222222,\"#7201a8\"],[0.3333333333333333,\"#9c179e\"],[0.4444444444444444,\"#bd3786\"],[0.5555555555555556,\"#d8576b\"],[0.6666666666666666,\"#ed7953\"],[0.7777777777777778,\"#fb9f3a\"],[0.8888888888888888,\"#fdca26\"],[1.0,\"#f0f921\"]]}],\"choropleth\":[{\"type\":\"choropleth\",\"colorbar\":{\"outlinewidth\":0,\"ticks\":\"\"}}],\"histogram2d\":[{\"type\":\"histogram2d\",\"colorbar\":{\"outlinewidth\":0,\"ticks\":\"\"},\"colorscale\":[[0.0,\"#0d0887\"],[0.1111111111111111,\"#46039f\"],[0.2222222222222222,\"#7201a8\"],[0.3333333333333333,\"#9c179e\"],[0.4444444444444444,\"#bd3786\"],[0.5555555555555556,\"#d8576b\"],[0.6666666666666666,\"#ed7953\"],[0.7777777777777778,\"#fb9f3a\"],[0.8888888888888888,\"#fdca26\"],[1.0,\"#f0f921\"]]}],\"heatmap\":[{\"type\":\"heatmap\",\"colorbar\":{\"outlinewidth\":0,\"ticks\":\"\"},\"colorscale\":[[0.0,\"#0d0887\"],[0.1111111111111111,\"#46039f\"],[0.2222222222222222,\"#7201a8\"],[0.3333333333333333,\"#9c179e\"],[0.4444444444444444,\"#bd3786\"],[0.5555555555555556,\"#d8576b\"],[0.6666666666666666,\"#ed7953\"],[0.7777777777777778,\"#fb9f3a\"],[0.8888888888888888,\"#fdca26\"],[1.0,\"#f0f921\"]]}],\"heatmapgl\":[{\"type\":\"heatmapgl\",\"colorbar\":{\"outlinewidth\":0,\"ticks\":\"\"},\"colorscale\":[[0.0,\"#0d0887\"],[0.1111111111111111,\"#46039f\"],[0.2222222222222222,\"#7201a8\"],[0.3333333333333333,\"#9c179e\"],[0.4444444444444444,\"#bd3786\"],[0.5555555555555556,\"#d8576b\"],[0.6666666666666666,\"#ed7953\"],[0.7777777777777778,\"#fb9f3a\"],[0.8888888888888888,\"#fdca26\"],[1.0,\"#f0f921\"]]}],\"contourcarpet\":[{\"type\":\"contourcarpet\",\"colorbar\":{\"outlinewidth\":0,\"ticks\":\"\"}}],\"contour\":[{\"type\":\"contour\",\"colorbar\":{\"outlinewidth\":0,\"ticks\":\"\"},\"colorscale\":[[0.0,\"#0d0887\"],[0.1111111111111111,\"#46039f\"],[0.2222222222222222,\"#7201a8\"],[0.3333333333333333,\"#9c179e\"],[0.4444444444444444,\"#bd3786\"],[0.5555555555555556,\"#d8576b\"],[0.6666666666666666,\"#ed7953\"],[0.7777777777777778,\"#fb9f3a\"],[0.8888888888888888,\"#fdca26\"],[1.0,\"#f0f921\"]]}],\"surface\":[{\"type\":\"surface\",\"colorbar\":{\"outlinewidth\":0,\"ticks\":\"\"},\"colorscale\":[[0.0,\"#0d0887\"],[0.1111111111111111,\"#46039f\"],[0.2222222222222222,\"#7201a8\"],[0.3333333333333333,\"#9c179e\"],[0.4444444444444444,\"#bd3786\"],[0.5555555555555556,\"#d8576b\"],[0.6666666666666666,\"#ed7953\"],[0.7777777777777778,\"#fb9f3a\"],[0.8888888888888888,\"#fdca26\"],[1.0,\"#f0f921\"]]}],\"mesh3d\":[{\"type\":\"mesh3d\",\"colorbar\":{\"outlinewidth\":0,\"ticks\":\"\"}}],\"scatter\":[{\"fillpattern\":{\"fillmode\":\"overlay\",\"size\":10,\"solidity\":0.2},\"type\":\"scatter\"}],\"parcoords\":[{\"type\":\"parcoords\",\"line\":{\"colorbar\":{\"outlinewidth\":0,\"ticks\":\"\"}}}],\"scatterpolargl\":[{\"type\":\"scatterpolargl\",\"marker\":{\"colorbar\":{\"outlinewidth\":0,\"ticks\":\"\"}}}],\"bar\":[{\"error_x\":{\"color\":\"#2a3f5f\"},\"error_y\":{\"color\":\"#2a3f5f\"},\"marker\":{\"line\":{\"color\":\"#E5ECF6\",\"width\":0.5},\"pattern\":{\"fillmode\":\"overlay\",\"size\":10,\"solidity\":0.2}},\"type\":\"bar\"}],\"scattergeo\":[{\"type\":\"scattergeo\",\"marker\":{\"colorbar\":{\"outlinewidth\":0,\"ticks\":\"\"}}}],\"scatterpolar\":[{\"type\":\"scatterpolar\",\"marker\":{\"colorbar\":{\"outlinewidth\":0,\"ticks\":\"\"}}}],\"histogram\":[{\"marker\":{\"pattern\":{\"fillmode\":\"overlay\",\"size\":10,\"solidity\":0.2}},\"type\":\"histogram\"}],\"scattergl\":[{\"type\":\"scattergl\",\"marker\":{\"colorbar\":{\"outlinewidth\":0,\"ticks\":\"\"}}}],\"scatter3d\":[{\"type\":\"scatter3d\",\"line\":{\"colorbar\":{\"outlinewidth\":0,\"ticks\":\"\"}},\"marker\":{\"colorbar\":{\"outlinewidth\":0,\"ticks\":\"\"}}}],\"scattermapbox\":[{\"type\":\"scattermapbox\",\"marker\":{\"colorbar\":{\"outlinewidth\":0,\"ticks\":\"\"}}}],\"scatterternary\":[{\"type\":\"scatterternary\",\"marker\":{\"colorbar\":{\"outlinewidth\":0,\"ticks\":\"\"}}}],\"scattercarpet\":[{\"type\":\"scattercarpet\",\"marker\":{\"colorbar\":{\"outlinewidth\":0,\"ticks\":\"\"}}}],\"carpet\":[{\"aaxis\":{\"endlinecolor\":\"#2a3f5f\",\"gridcolor\":\"white\",\"linecolor\":\"white\",\"minorgridcolor\":\"white\",\"startlinecolor\":\"#2a3f5f\"},\"baxis\":{\"endlinecolor\":\"#2a3f5f\",\"gridcolor\":\"white\",\"linecolor\":\"white\",\"minorgridcolor\":\"white\",\"startlinecolor\":\"#2a3f5f\"},\"type\":\"carpet\"}],\"table\":[{\"cells\":{\"fill\":{\"color\":\"#EBF0F8\"},\"line\":{\"color\":\"white\"}},\"header\":{\"fill\":{\"color\":\"#C8D4E3\"},\"line\":{\"color\":\"white\"}},\"type\":\"table\"}],\"barpolar\":[{\"marker\":{\"line\":{\"color\":\"#E5ECF6\",\"width\":0.5},\"pattern\":{\"fillmode\":\"overlay\",\"size\":10,\"solidity\":0.2}},\"type\":\"barpolar\"}],\"pie\":[{\"automargin\":true,\"type\":\"pie\"}]},\"layout\":{\"autotypenumbers\":\"strict\",\"colorway\":[\"#636efa\",\"#EF553B\",\"#00cc96\",\"#ab63fa\",\"#FFA15A\",\"#19d3f3\",\"#FF6692\",\"#B6E880\",\"#FF97FF\",\"#FECB52\"],\"font\":{\"color\":\"#2a3f5f\"},\"hovermode\":\"closest\",\"hoverlabel\":{\"align\":\"left\"},\"paper_bgcolor\":\"white\",\"plot_bgcolor\":\"#E5ECF6\",\"polar\":{\"bgcolor\":\"#E5ECF6\",\"angularaxis\":{\"gridcolor\":\"white\",\"linecolor\":\"white\",\"ticks\":\"\"},\"radialaxis\":{\"gridcolor\":\"white\",\"linecolor\":\"white\",\"ticks\":\"\"}},\"ternary\":{\"bgcolor\":\"#E5ECF6\",\"aaxis\":{\"gridcolor\":\"white\",\"linecolor\":\"white\",\"ticks\":\"\"},\"baxis\":{\"gridcolor\":\"white\",\"linecolor\":\"white\",\"ticks\":\"\"},\"caxis\":{\"gridcolor\":\"white\",\"linecolor\":\"white\",\"ticks\":\"\"}},\"coloraxis\":{\"colorbar\":{\"outlinewidth\":0,\"ticks\":\"\"}},\"colorscale\":{\"sequential\":[[0.0,\"#0d0887\"],[0.1111111111111111,\"#46039f\"],[0.2222222222222222,\"#7201a8\"],[0.3333333333333333,\"#9c179e\"],[0.4444444444444444,\"#bd3786\"],[0.5555555555555556,\"#d8576b\"],[0.6666666666666666,\"#ed7953\"],[0.7777777777777778,\"#fb9f3a\"],[0.8888888888888888,\"#fdca26\"],[1.0,\"#f0f921\"]],\"sequentialminus\":[[0.0,\"#0d0887\"],[0.1111111111111111,\"#46039f\"],[0.2222222222222222,\"#7201a8\"],[0.3333333333333333,\"#9c179e\"],[0.4444444444444444,\"#bd3786\"],[0.5555555555555556,\"#d8576b\"],[0.6666666666666666,\"#ed7953\"],[0.7777777777777778,\"#fb9f3a\"],[0.8888888888888888,\"#fdca26\"],[1.0,\"#f0f921\"]],\"diverging\":[[0,\"#8e0152\"],[0.1,\"#c51b7d\"],[0.2,\"#de77ae\"],[0.3,\"#f1b6da\"],[0.4,\"#fde0ef\"],[0.5,\"#f7f7f7\"],[0.6,\"#e6f5d0\"],[0.7,\"#b8e186\"],[0.8,\"#7fbc41\"],[0.9,\"#4d9221\"],[1,\"#276419\"]]},\"xaxis\":{\"gridcolor\":\"white\",\"linecolor\":\"white\",\"ticks\":\"\",\"title\":{\"standoff\":15},\"zerolinecolor\":\"white\",\"automargin\":true,\"zerolinewidth\":2},\"yaxis\":{\"gridcolor\":\"white\",\"linecolor\":\"white\",\"ticks\":\"\",\"title\":{\"standoff\":15},\"zerolinecolor\":\"white\",\"automargin\":true,\"zerolinewidth\":2},\"scene\":{\"xaxis\":{\"backgroundcolor\":\"#E5ECF6\",\"gridcolor\":\"white\",\"linecolor\":\"white\",\"showbackground\":true,\"ticks\":\"\",\"zerolinecolor\":\"white\",\"gridwidth\":2},\"yaxis\":{\"backgroundcolor\":\"#E5ECF6\",\"gridcolor\":\"white\",\"linecolor\":\"white\",\"showbackground\":true,\"ticks\":\"\",\"zerolinecolor\":\"white\",\"gridwidth\":2},\"zaxis\":{\"backgroundcolor\":\"#E5ECF6\",\"gridcolor\":\"white\",\"linecolor\":\"white\",\"showbackground\":true,\"ticks\":\"\",\"zerolinecolor\":\"white\",\"gridwidth\":2}},\"shapedefaults\":{\"line\":{\"color\":\"#2a3f5f\"}},\"annotationdefaults\":{\"arrowcolor\":\"#2a3f5f\",\"arrowhead\":0,\"arrowwidth\":1},\"geo\":{\"bgcolor\":\"white\",\"landcolor\":\"#E5ECF6\",\"subunitcolor\":\"white\",\"showland\":true,\"showlakes\":true,\"lakecolor\":\"white\"},\"title\":{\"x\":0.05},\"mapbox\":{\"style\":\"light\"}}},\"xaxis\":{\"anchor\":\"y\",\"domain\":[0.0,1.0],\"title\":{\"text\":\"Timestamp\"},\"rangeslider\":{\"visible\":true},\"rangeselector\":{\"buttons\":[{\"count\":1,\"label\":\"1d\",\"step\":\"day\",\"stepmode\":\"backward\"},{\"count\":7,\"label\":\"1w\",\"step\":\"day\",\"stepmode\":\"backward\"},{\"count\":1,\"label\":\"1m\",\"step\":\"month\",\"stepmode\":\"backward\"},{\"count\":6,\"label\":\"6m\",\"step\":\"month\",\"stepmode\":\"backward\"},{\"count\":1,\"label\":\"YTD\",\"step\":\"year\",\"stepmode\":\"todate\"},{\"count\":1,\"label\":\"1y\",\"step\":\"year\",\"stepmode\":\"backward\"},{\"step\":\"all\"}]},\"type\":\"date\"},\"yaxis\":{\"anchor\":\"x\",\"domain\":[0.0,1.0],\"title\":{\"text\":\"Ride Demand\"}},\"title\":{\"text\":\"Ride Demand Forecast\"},\"height\":400},                        {\"responsive\": true}                    ).then(function(){\n",
              "                            \n",
              "var gd = document.getElementById('72ca6dc1-2d26-4c3d-bd58-c0ad81a67b16');\n",
              "var x = new MutationObserver(function (mutations, observer) {{\n",
              "        var display = window.getComputedStyle(gd).display;\n",
              "        if (!display || display === 'none') {{\n",
              "            console.log([gd, 'removed!']);\n",
              "            Plotly.purge(gd);\n",
              "            observer.disconnect();\n",
              "        }}\n",
              "}});\n",
              "\n",
              "// Listen for the removal of the full notebook cells\n",
              "var notebookContainer = gd.closest('#notebook-container');\n",
              "if (notebookContainer) {{\n",
              "    x.observe(notebookContainer, {childList: true});\n",
              "}}\n",
              "\n",
              "// Listen for the clearing of the current output cell\n",
              "var outputEl = gd.closest('.output');\n",
              "if (outputEl) {{\n",
              "    x.observe(outputEl, {childList: true});\n",
              "}}\n",
              "\n",
              "                        })                };                            </script>        </div>\n",
              "</body>\n",
              "</html>"
            ]
          },
          "metadata": {}
        }
      ]
    },
    {
      "cell_type": "markdown",
      "source": [
        "### The Interactive Graph"
      ],
      "metadata": {
        "id": "r_KPSMhx0oiC"
      }
    },
    {
      "cell_type": "markdown",
      "source": [
        "Above one can see the interactive graoh generated.\n",
        "The users can view the data at different aggregation levels. Though some might seem irrelevant here due to nature of data ie the dataset used in the project spans for only a period of 2 months.\n",
        "\n",
        "The Y-Axis depicts the ride demand at a given time and X-Axis depicts the timestamp\n",
        "\n",
        "If you hover over the plotted lines of the graph, you will get values of timestamp and ride demand at each point on the plotted line.\n",
        "\n",
        "For the ease of convinience of the user, there's a small window availalble at the bottom of the graph, which can be used to adjust the size of time window between which you want to see and observe the data.\n",
        "\n",
        "The top right corner of the graph shows some self explanatory icons when you hover in that area. It provides option to download the graph, zoom in or out, reset the graph to original state\n",
        "\n",
        "Thhis graph aims at given the decision makers a comprehensive overview of the data and ensure that it answers as many question as possible, pictorially."
      ],
      "metadata": {
        "id": "C0UloLcT0yJ7"
      }
    },
    {
      "cell_type": "code",
      "source": [],
      "metadata": {
        "id": "0yo-avw_1tPj"
      },
      "execution_count": null,
      "outputs": []
    }
  ],
  "metadata": {
    "colab": {
      "provenance": []
    },
    "kernelspec": {
      "display_name": "Python 3",
      "name": "python3"
    },
    "language_info": {
      "name": "python"
    }
  },
  "nbformat": 4,
  "nbformat_minor": 0
}