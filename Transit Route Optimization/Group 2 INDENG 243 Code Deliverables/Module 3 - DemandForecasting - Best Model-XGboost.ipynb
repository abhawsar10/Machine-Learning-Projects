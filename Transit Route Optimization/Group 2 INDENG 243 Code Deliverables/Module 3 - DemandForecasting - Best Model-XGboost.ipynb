{
 "cells": [
  {
   "cell_type": "markdown",
   "metadata": {
    "id": "Gl96iyfjbHJb"
   },
   "source": [
    "##  XgBoost for demand forecasting"
   ]
  },
  {
   "cell_type": "code",
   "execution_count": 1,
   "metadata": {
    "id": "_miW8EmjFhLE"
   },
   "outputs": [],
   "source": [
    "import numpy as np \n",
    "import pandas as pd\n",
    "import matplotlib.pyplot as plt\n",
    "%matplotlib inline\n",
    "import seaborn as sns"
   ]
  },
  {
   "cell_type": "code",
   "execution_count": 2,
   "metadata": {
    "id": "Mu5bgDQLHbqt"
   },
   "outputs": [],
   "source": [
    "import xgboost as xgb\n",
    "from sklearn.metrics import mean_squared_error"
   ]
  },
  {
   "cell_type": "code",
   "execution_count": 3,
   "metadata": {
    "colab": {
     "base_uri": "https://localhost:8080/",
     "height": 0
    },
    "id": "lmP_vw_NFtYb",
    "outputId": "6feb7ff4-24b3-4f31-8cb6-68d3a3e46a0f"
   },
   "outputs": [],
   "source": [
    "import datetime \n",
    "# Calling the fromtimestamp() function to\n",
    "# extract datetime from the given timestamp\n",
    "# from google.colab import drive\n",
    "# drive.mount('/content/drive')\n",
    "ride = pd.read_csv(\"rideshare_kaggle.csv\")\n",
    "# ride = pd.read_csv(\"/content/drive/MyDrive/Colab Notebooks/rideshare_kaggle.csv\")\n",
    "ride['timestamp']=pd.to_datetime(ride['timestamp'], unit='s')\n",
    "ride.dropna(axis=0,inplace=True)\n",
    "ride[\"Date\"] = ride[\"timestamp\"].dt.date\n",
    "ride[\"Time\"] = ride[\"timestamp\"].dt.time\n",
    "ride[\"Weekday\"]=ride[\"timestamp\"].dt.day_name()"
   ]
  },
  {
   "cell_type": "markdown",
   "metadata": {
    "id": "Fu6wJ8hibyes"
   },
   "source": [
    "##  Data preprocessing and cleaning"
   ]
  },
  {
   "cell_type": "code",
   "execution_count": 4,
   "metadata": {
    "id": "7sGlmY_kGejT"
   },
   "outputs": [],
   "source": [
    "ride['datetime']=pd.to_datetime(ride['datetime'])"
   ]
  },
  {
   "cell_type": "code",
   "execution_count": 5,
   "metadata": {
    "id": "KKIQmhc0Gyny"
   },
   "outputs": [],
   "source": [
    "ride['Date']=pd.to_datetime(ride['Date'])"
   ]
  },
  {
   "cell_type": "code",
   "execution_count": 6,
   "metadata": {
    "id": "YcdCN_hPGzai"
   },
   "outputs": [],
   "source": [
    "grouped = ride.groupby(ride['datetime'].dt.floor('h'))['id'].count().reset_index()\n",
    "grouped.rename(columns={'id': 'total_rides'}, inplace=True)"
   ]
  },
  {
   "cell_type": "code",
   "execution_count": 7,
   "metadata": {
    "colab": {
     "base_uri": "https://localhost:8080/",
     "height": 206
    },
    "id": "OJIYxoIvG3f7",
    "outputId": "28607ce9-a3ae-4dc7-a906-d4dfb2e85979"
   },
   "outputs": [
    {
     "data": {
      "text/html": [
       "<div>\n",
       "<style scoped>\n",
       "    .dataframe tbody tr th:only-of-type {\n",
       "        vertical-align: middle;\n",
       "    }\n",
       "\n",
       "    .dataframe tbody tr th {\n",
       "        vertical-align: top;\n",
       "    }\n",
       "\n",
       "    .dataframe thead th {\n",
       "        text-align: right;\n",
       "    }\n",
       "</style>\n",
       "<table border=\"1\" class=\"dataframe\">\n",
       "  <thead>\n",
       "    <tr style=\"text-align: right;\">\n",
       "      <th></th>\n",
       "      <th>datetime</th>\n",
       "      <th>total_rides</th>\n",
       "    </tr>\n",
       "  </thead>\n",
       "  <tbody>\n",
       "    <tr>\n",
       "      <th>0</th>\n",
       "      <td>2018-11-26 03:00:00</td>\n",
       "      <td>77</td>\n",
       "    </tr>\n",
       "    <tr>\n",
       "      <th>1</th>\n",
       "      <td>2018-11-26 04:00:00</td>\n",
       "      <td>390</td>\n",
       "    </tr>\n",
       "    <tr>\n",
       "      <th>2</th>\n",
       "      <td>2018-11-26 05:00:00</td>\n",
       "      <td>616</td>\n",
       "    </tr>\n",
       "    <tr>\n",
       "      <th>3</th>\n",
       "      <td>2018-11-26 06:00:00</td>\n",
       "      <td>1462</td>\n",
       "    </tr>\n",
       "    <tr>\n",
       "      <th>4</th>\n",
       "      <td>2018-11-26 07:00:00</td>\n",
       "      <td>925</td>\n",
       "    </tr>\n",
       "  </tbody>\n",
       "</table>\n",
       "</div>"
      ],
      "text/plain": [
       "             datetime  total_rides\n",
       "0 2018-11-26 03:00:00           77\n",
       "1 2018-11-26 04:00:00          390\n",
       "2 2018-11-26 05:00:00          616\n",
       "3 2018-11-26 06:00:00         1462\n",
       "4 2018-11-26 07:00:00          925"
      ]
     },
     "execution_count": 7,
     "metadata": {},
     "output_type": "execute_result"
    }
   ],
   "source": [
    "grouped.head()"
   ]
  },
  {
   "cell_type": "code",
   "execution_count": 8,
   "metadata": {
    "id": "2RMImpbgHfYj"
   },
   "outputs": [],
   "source": [
    "\n",
    "grouped.set_index('datetime',inplace=True)"
   ]
  },
  {
   "cell_type": "code",
   "execution_count": 9,
   "metadata": {
    "colab": {
     "base_uri": "https://localhost:8080/",
     "height": 0
    },
    "id": "l4WEpzTMImu4",
    "outputId": "cd90c335-2838-4004-b17c-d859d845e183"
   },
   "outputs": [
    {
     "data": {
      "text/plain": [
       "332"
      ]
     },
     "execution_count": 9,
     "metadata": {},
     "output_type": "execute_result"
    }
   ],
   "source": [
    "len(grouped)"
   ]
  },
  {
   "cell_type": "markdown",
   "metadata": {
    "id": "z-5tcKoVHgW8"
   },
   "source": [
    "## Xgboost"
   ]
  },
  {
   "cell_type": "code",
   "execution_count": null,
   "metadata": {
    "colab": {
     "base_uri": "https://localhost:8080/",
     "height": 350
    },
    "id": "jkxr2YRnHiOX",
    "outputId": "7f910210-1fe0-4e8b-cb06-a4059f66cb43",
    "scrolled": true
   },
   "outputs": [],
   "source": [
    "\n"
   ]
  },
  {
   "cell_type": "markdown",
   "metadata": {
    "id": "7eAWTLajb_0w"
   },
   "source": [
    "***This graph above shows the distribution of count of rides by hour for each day of the two month dataset***"
   ]
  },
  {
   "cell_type": "code",
   "execution_count": 10,
   "metadata": {
    "colab": {
     "base_uri": "https://localhost:8080/",
     "height": 238
    },
    "id": "JUG7hnBfPHAO",
    "outputId": "25f8157b-a051-493d-e940-aaf74c39521e"
   },
   "outputs": [
    {
     "data": {
      "text/html": [
       "<div>\n",
       "<style scoped>\n",
       "    .dataframe tbody tr th:only-of-type {\n",
       "        vertical-align: middle;\n",
       "    }\n",
       "\n",
       "    .dataframe tbody tr th {\n",
       "        vertical-align: top;\n",
       "    }\n",
       "\n",
       "    .dataframe thead th {\n",
       "        text-align: right;\n",
       "    }\n",
       "</style>\n",
       "<table border=\"1\" class=\"dataframe\">\n",
       "  <thead>\n",
       "    <tr style=\"text-align: right;\">\n",
       "      <th></th>\n",
       "      <th>total_rides</th>\n",
       "    </tr>\n",
       "    <tr>\n",
       "      <th>datetime</th>\n",
       "      <th></th>\n",
       "    </tr>\n",
       "  </thead>\n",
       "  <tbody>\n",
       "    <tr>\n",
       "      <th>2018-11-26 03:00:00</th>\n",
       "      <td>77</td>\n",
       "    </tr>\n",
       "    <tr>\n",
       "      <th>2018-11-26 04:00:00</th>\n",
       "      <td>390</td>\n",
       "    </tr>\n",
       "    <tr>\n",
       "      <th>2018-11-26 05:00:00</th>\n",
       "      <td>616</td>\n",
       "    </tr>\n",
       "    <tr>\n",
       "      <th>2018-11-26 06:00:00</th>\n",
       "      <td>1462</td>\n",
       "    </tr>\n",
       "    <tr>\n",
       "      <th>2018-11-26 07:00:00</th>\n",
       "      <td>925</td>\n",
       "    </tr>\n",
       "  </tbody>\n",
       "</table>\n",
       "</div>"
      ],
      "text/plain": [
       "                     total_rides\n",
       "datetime                        \n",
       "2018-11-26 03:00:00           77\n",
       "2018-11-26 04:00:00          390\n",
       "2018-11-26 05:00:00          616\n",
       "2018-11-26 06:00:00         1462\n",
       "2018-11-26 07:00:00          925"
      ]
     },
     "execution_count": 10,
     "metadata": {},
     "output_type": "execute_result"
    }
   ],
   "source": [
    "grouped.index=pd.to_datetime(grouped.index)\n",
    "grouped.head()"
   ]
  },
  {
   "cell_type": "code",
   "execution_count": 11,
   "metadata": {
    "colab": {
     "base_uri": "https://localhost:8080/",
     "height": 350
    },
    "id": "b5wUaP5aIgJv",
    "outputId": "eb6442c0-e972-4210-916b-71f0be935a97"
   },
   "outputs": [],
   "source": [
    "\n",
    "train = grouped.loc[grouped.index < '2018-12-16']\n",
    "test = grouped.loc[grouped.index >= '2018-12-16']\n",
    "\n"
   ]
  },
  {
   "cell_type": "code",
   "execution_count": 12,
   "metadata": {
    "id": "fOv5DLx4LvEW"
   },
   "outputs": [],
   "source": [
    "def create_features(df):\n",
    "    \"\"\"\n",
    "    Create time series features based on time series index.\n",
    "    \"\"\"\n",
    "    df = df.copy()\n",
    "    df['hour'] = df.index.hour\n",
    "    df['dayofweek'] = df.index.dayofweek\n",
    "    df['quarter'] = df.index.quarter\n",
    "    df['month'] = df.index.month\n",
    "    df['dayofmonth'] = df.index.day\n",
    "    \n",
    "    return df\n",
    "\n",
    "df = create_features(grouped)"
   ]
  },
  {
   "cell_type": "code",
   "execution_count": 13,
   "metadata": {
    "id": "E_XVQXcVMrIV"
   },
   "outputs": [],
   "source": [
    "\n",
    "train = create_features(train)\n",
    "test = create_features(test)\n",
    "\n",
    "FEATURES = ['hour', 'dayofweek', 'quarter', 'month']\n",
    "TARGET = 'total_rides'\n",
    "\n",
    "X_train = train[FEATURES]\n",
    "y_train = train[TARGET]\n",
    "\n",
    "X_test = test[FEATURES]\n",
    "y_test = test[TARGET]"
   ]
  },
  {
   "cell_type": "code",
   "execution_count": 14,
   "metadata": {
    "id": "cWs1J2Pjtlpg"
   },
   "outputs": [],
   "source": [
    "from sklearn.model_selection import TimeSeriesSplit\n",
    "\n",
    "tss = TimeSeriesSplit(n_splits=4, test_size=24, gap=6)\n",
    "df = df.sort_index()"
   ]
  },
  {
   "cell_type": "markdown",
   "metadata": {
    "id": "-8AeSNVUeHX4"
   },
   "source": [
    "***Here we will split the data using timeseries split which is more suitable for timeseries data***"
   ]
  },
  {
   "cell_type": "code",
   "execution_count": 15,
   "metadata": {
    "colab": {
     "base_uri": "https://localhost:8080/",
     "height": 840
    },
    "id": "mFWc0jVftiDX",
    "outputId": "1712347a-6980-41b3-aaf0-c0e390b57a4c"
   },
   "outputs": [
    {
     "data": {
      "image/png": "[encoded data removed]",
      "text/plain": [
       "<Figure size 1080x1080 with 4 Axes>"
      ]
     },
     "metadata": {
      "needs_background": "light"
     },
     "output_type": "display_data"
    }
   ],
   "source": [
    "\n",
    "fig, axs = plt.subplots(4, 1, figsize=(15, 15), sharex=True)\n",
    "\n",
    "fold = 0\n",
    "for train_idx, val_idx in tss.split(df):\n",
    "    train = df.iloc[train_idx]\n",
    "    test = df.iloc[val_idx]\n",
    "    train['total_rides'].plot(ax=axs[fold],\n",
    "                          label='Training Set',\n",
    "                          title=f'Data Train/Test Split Fold {fold}')\n",
    "    test['total_rides'].plot(ax=axs[fold],\n",
    "                         label='Test Set')\n",
    "    axs[fold].axvline(test.index.min(), color='black', ls='--')\n",
    "    fold += 1\n",
    "plt.show()"
   ]
  },
  {
   "cell_type": "code",
   "execution_count": 16,
   "metadata": {
    "id": "be8jF77HtvOW"
   },
   "outputs": [],
   "source": [
    "#adding the lags for timeseries"
   ]
  },
  {
   "cell_type": "code",
   "execution_count": 17,
   "metadata": {
    "id": "FnzXUPXQu8yB"
   },
   "outputs": [],
   "source": [
    "def add_lags(df):\n",
    "    target_map = df['total_rides'].to_dict()\n",
    "    \n",
    "    df['lag1'] = (df.index - pd.Timedelta('24 hours')).map(target_map)\n",
    "    df['lag2'] = (df.index - pd.Timedelta('48 hours')).map(target_map)\n",
    "    df['lag3'] = (df.index - pd.Timedelta('72 hours')).map(target_map)\n",
    "    return df"
   ]
  },
  {
   "cell_type": "code",
   "execution_count": 18,
   "metadata": {
    "colab": {
     "base_uri": "https://localhost:8080/",
     "height": 0
    },
    "id": "EXLVhHOwyUh6",
    "outputId": "82598fcd-4a38-4e18-d3b7-bc846358402a"
   },
   "outputs": [],
   "source": [
    "df = add_lags(df)"
   ]
  },
  {
   "cell_type": "markdown",
   "metadata": {
    "id": "dmuyMLWHeo2U"
   },
   "source": [
    "## Running XGboost with CV-4 folds "
   ]
  },
  {
   "cell_type": "code",
   "execution_count": 19,
   "metadata": {
    "colab": {
     "base_uri": "https://localhost:8080/",
     "height": 0
    },
    "id": "-2lba2wT0hpP",
    "outputId": "f2b20abf-e626-4b72-89ba-49a0792432c2"
   },
   "outputs": [
    {
     "name": "stdout",
     "output_type": "stream",
     "text": [
      "[10:03:27] WARNING: /Users/runner/work/xgboost/xgboost/python-package/build/temp.macosx-11.0-arm64-cpython-38/xgboost/src/objective/regression_obj.cu:213: reg:linear is now deprecated in favor of reg:squarederror.\n",
      "[0]\tvalidation_0-rmse:2181.71447\tvalidation_1-rmse:1704.38670\n",
      "[100]\tvalidation_0-rmse:963.92043\tvalidation_1-rmse:657.85133\n",
      "[200]\tvalidation_0-rmse:562.68902\tvalidation_1-rmse:211.29765\n",
      "[254]\tvalidation_0-rmse:486.86099\tvalidation_1-rmse:242.55130\n",
      "[10:03:27] WARNING: /Users/runner/work/xgboost/xgboost/python-package/build/temp.macosx-11.0-arm64-cpython-38/xgboost/src/objective/regression_obj.cu:213: reg:linear is now deprecated in favor of reg:squarederror.\n",
      "[0]\tvalidation_0-rmse:2141.22729\tvalidation_1-rmse:1706.70551\n",
      "[100]\tvalidation_0-rmse:939.61204\tvalidation_1-rmse:645.69093\n",
      "[200]\tvalidation_0-rmse:555.70149\tvalidation_1-rmse:236.22796\n",
      "[300]\tvalidation_0-rmse:446.46264\tvalidation_1-rmse:137.79013\n",
      "[400]\tvalidation_0-rmse:388.65751\tvalidation_1-rmse:130.52979\n",
      "[415]\tvalidation_0-rmse:383.39227\tvalidation_1-rmse:132.24586\n",
      "[10:03:27] WARNING: /Users/runner/work/xgboost/xgboost/python-package/build/temp.macosx-11.0-arm64-cpython-38/xgboost/src/objective/regression_obj.cu:213: reg:linear is now deprecated in favor of reg:squarederror.\n",
      "[0]\tvalidation_0-rmse:2107.16266\tvalidation_1-rmse:1705.25756\n",
      "[100]\tvalidation_0-rmse:917.20887\tvalidation_1-rmse:644.85178\n",
      "[200]\tvalidation_0-rmse:541.66789\tvalidation_1-rmse:259.02237\n",
      "[300]\tvalidation_0-rmse:429.67495\tvalidation_1-rmse:123.92924\n",
      "[400]\tvalidation_0-rmse:383.07769\tvalidation_1-rmse:82.35604\n",
      "[500]\tvalidation_0-rmse:353.49827\tvalidation_1-rmse:72.40632\n",
      "[548]\tvalidation_0-rmse:342.59889\tvalidation_1-rmse:73.48144\n",
      "[10:03:27] WARNING: /Users/runner/work/xgboost/xgboost/python-package/build/temp.macosx-11.0-arm64-cpython-38/xgboost/src/objective/regression_obj.cu:213: reg:linear is now deprecated in favor of reg:squarederror.\n",
      "[0]\tvalidation_0-rmse:2077.98023\tvalidation_1-rmse:1674.10524\n",
      "[100]\tvalidation_0-rmse:897.45380\tvalidation_1-rmse:633.48225\n",
      "[200]\tvalidation_0-rmse:525.32540\tvalidation_1-rmse:304.03599\n",
      "[300]\tvalidation_0-rmse:415.35458\tvalidation_1-rmse:239.53361\n",
      "[400]\tvalidation_0-rmse:371.84084\tvalidation_1-rmse:231.64806\n",
      "[445]\tvalidation_0-rmse:353.54156\tvalidation_1-rmse:231.93687\n"
     ]
    }
   ],
   "source": [
    "\n",
    "\n",
    "\n",
    "fold = 0\n",
    "preds = []\n",
    "scores = []\n",
    "for train_idx, val_idx in tss.split(df):\n",
    "    train = df.iloc[train_idx]\n",
    "    test = df.iloc[val_idx]\n",
    "        \n",
    "    X_train = train.drop(['total_rides'],axis=1)\n",
    "    y_train = train['total_rides']\n",
    "\n",
    "    X_test = test.drop(['total_rides'],axis=1)\n",
    "    y_test = test['total_rides']\n",
    "\n",
    "    reg = xgb.XGBRegressor(base_score=0.5, booster='gbtree',    \n",
    "                           n_estimators=1000,\n",
    "                           early_stopping_rounds=50,\n",
    "                           objective='reg:linear',\n",
    "                           max_depth=2,\n",
    "                           learning_rate=0.01)\n",
    "    reg.fit(X_train, y_train,\n",
    "            eval_set=[(X_train, y_train), (X_test, y_test)],\n",
    "            verbose=100)\n",
    "\n",
    "    y_pred = reg.predict(X_test)\n",
    "    preds.extend(y_pred)\n",
    "    score = np.sqrt(mean_squared_error(y_test, y_pred))\n",
    "    scores.append(score)"
   ]
  },
  {
   "cell_type": "code",
   "execution_count": 20,
   "metadata": {
    "colab": {
     "base_uri": "https://localhost:8080/",
     "height": 0
    },
    "id": "1HCaiY0-p3vb",
    "outputId": "bc265942-3c89-4120-cc45-cd12c5f6d013"
   },
   "outputs": [
    {
     "data": {
      "text/plain": [
       "24"
      ]
     },
     "execution_count": 20,
     "metadata": {},
     "output_type": "execute_result"
    }
   ],
   "source": [
    "X_test = test.drop(['total_rides'],axis=1)\n",
    "len(X_test)"
   ]
  },
  {
   "cell_type": "code",
   "execution_count": 21,
   "metadata": {
    "colab": {
     "base_uri": "https://localhost:8080/",
     "height": 0
    },
    "id": "K14bQz5xSD4Z",
    "outputId": "46161fef-d65f-4e27-ac03-c11c931b5dd4"
   },
   "outputs": [
    {
     "name": "stdout",
     "output_type": "stream",
     "text": [
      "Score across folds 159.8264\n",
      "Fold scores:[207.14867310622387, 128.99194837891062, 71.52720065302476, 231.63772666583952]\n"
     ]
    }
   ],
   "source": [
    "\n",
    "print(f'Score across folds {np.mean(scores):0.4f}')\n",
    "print(f'Fold scores:{scores}')"
   ]
  },
  {
   "cell_type": "markdown",
   "metadata": {
    "id": "OgXvDhcGiqdo"
   },
   "source": [
    "***Average of the four folds gives a RMSE score of 159.82- Better than previous model but still can be improved***"
   ]
  },
  {
   "cell_type": "code",
   "execution_count": 22,
   "metadata": {
    "colab": {
     "base_uri": "https://localhost:8080/",
     "height": 457
    },
    "id": "hs3CvnfPnc65",
    "outputId": "0153c84e-4290-4f17-9526-3628431bb0f8"
   },
   "outputs": [
    {
     "name": "stderr",
     "output_type": "stream",
     "text": [
      "/var/folders/1j/vhrxwjz94tn0tsz00qlnqw8m0000gn/T/ipykernel_52328/577023577.py:1: SettingWithCopyWarning: \n",
      "A value is trying to be set on a copy of a slice from a DataFrame.\n",
      "Try using .loc[row_indexer,col_indexer] = value instead\n",
      "\n",
      "See the caveats in the documentation: https://pandas.pydata.org/pandas-docs/stable/user_guide/indexing.html#returning-a-view-versus-a-copy\n",
      "  test['prediction'] = reg.predict(X_test)\n"
     ]
    },
    {
     "data": {
      "image/png": "[encoded data removed]",
      "text/plain": [
       "<Figure size 1080x360 with 1 Axes>"
      ]
     },
     "metadata": {
      "needs_background": "light"
     },
     "output_type": "display_data"
    }
   ],
   "source": [
    "test['prediction'] = reg.predict(X_test)\n",
    "# df = df.merge(test[['prediction']], how='left', left_index=True, right_index=True)\n",
    "ax = df[['total_rides']].plot(figsize=(15, 5))\n",
    "test['prediction'].plot(ax=ax, style='.')\n",
    "plt.legend(['Truth Data', 'Predictions'])\n",
    "ax.set_title('Raw Data and Prediction after timeseries split')\n",
    "plt.show()"
   ]
  },
  {
   "cell_type": "code",
   "execution_count": 23,
   "metadata": {
    "colab": {
     "base_uri": "https://localhost:8080/",
     "height": 373
    },
    "id": "TTPfMDRWoCMN",
    "outputId": "bb242720-8980-42c7-f336-382128f8b2c1"
   },
   "outputs": [
    {
     "data": {
      "image/png": "[encoded data removed]",
      "text/plain": [
       "<Figure size 1080x360 with 1 Axes>"
      ]
     },
     "metadata": {
      "needs_background": "light"
     },
     "output_type": "display_data"
    }
   ],
   "source": [
    "ax = df.loc[(df.index > '2018-12-16 03:00:00 ') & (df.index < '2018-12-25 00:00:00')]['total_rides'] \\\n",
    "    .plot(figsize=(15, 5), title='Week Of Data').set_ylim(1500)\n",
    "test.loc[(test.index > '2018-12-16 03:00:00') & (test.index < '2018-12-25 00:00:00')]['prediction'] \\\n",
    "    .plot(style='*')\n",
    "plt.legend(['Truth Data','Prediction'])\n",
    "plt.show()"
   ]
  },
  {
   "cell_type": "markdown",
   "metadata": {
    "id": "bWQbIvnUnmcL"
   },
   "source": [
    "\n",
    "#  1.2 d Hyper parameter tuning and outlier handling\n",
    "\n",
    "\n",
    "\n"
   ]
  },
  {
   "cell_type": "markdown",
   "metadata": {
    "id": "ZqJ7Gusqjf4r"
   },
   "source": [
    "\n",
    "\n",
    "\n",
    "***Removing data lesser than 750 counts and greater that 4500***"
   ]
  },
  {
   "cell_type": "code",
   "execution_count": 24,
   "metadata": {
    "id": "hIO3-sPpqCUW"
   },
   "outputs": [],
   "source": [
    "df = df.query('total_rides > 750').copy()\n",
    "df=df.query('total_rides < 4500').copy()"
   ]
  },
  {
   "cell_type": "code",
   "execution_count": 25,
   "metadata": {
    "colab": {
     "base_uri": "https://localhost:8080/",
     "height": 238
    },
    "id": "0pRyx8GsEBkJ",
    "outputId": "32e33066-be78-4a7a-8f60-12679095d451"
   },
   "outputs": [
    {
     "data": {
      "text/html": [
       "<div>\n",
       "<style scoped>\n",
       "    .dataframe tbody tr th:only-of-type {\n",
       "        vertical-align: middle;\n",
       "    }\n",
       "\n",
       "    .dataframe tbody tr th {\n",
       "        vertical-align: top;\n",
       "    }\n",
       "\n",
       "    .dataframe thead th {\n",
       "        text-align: right;\n",
       "    }\n",
       "</style>\n",
       "<table border=\"1\" class=\"dataframe\">\n",
       "  <thead>\n",
       "    <tr style=\"text-align: right;\">\n",
       "      <th></th>\n",
       "      <th>total_rides</th>\n",
       "      <th>hour</th>\n",
       "      <th>dayofweek</th>\n",
       "      <th>quarter</th>\n",
       "      <th>month</th>\n",
       "      <th>dayofmonth</th>\n",
       "      <th>lag1</th>\n",
       "      <th>lag2</th>\n",
       "      <th>lag3</th>\n",
       "    </tr>\n",
       "    <tr>\n",
       "      <th>datetime</th>\n",
       "      <th></th>\n",
       "      <th></th>\n",
       "      <th></th>\n",
       "      <th></th>\n",
       "      <th></th>\n",
       "      <th></th>\n",
       "      <th></th>\n",
       "      <th></th>\n",
       "      <th></th>\n",
       "    </tr>\n",
       "  </thead>\n",
       "  <tbody>\n",
       "    <tr>\n",
       "      <th>2018-11-26 06:00:00</th>\n",
       "      <td>1462</td>\n",
       "      <td>6</td>\n",
       "      <td>0</td>\n",
       "      <td>4</td>\n",
       "      <td>11</td>\n",
       "      <td>26</td>\n",
       "      <td>NaN</td>\n",
       "      <td>NaN</td>\n",
       "      <td>NaN</td>\n",
       "    </tr>\n",
       "    <tr>\n",
       "      <th>2018-11-26 07:00:00</th>\n",
       "      <td>925</td>\n",
       "      <td>7</td>\n",
       "      <td>0</td>\n",
       "      <td>4</td>\n",
       "      <td>11</td>\n",
       "      <td>26</td>\n",
       "      <td>NaN</td>\n",
       "      <td>NaN</td>\n",
       "      <td>NaN</td>\n",
       "    </tr>\n",
       "    <tr>\n",
       "      <th>2018-11-26 09:00:00</th>\n",
       "      <td>1526</td>\n",
       "      <td>9</td>\n",
       "      <td>0</td>\n",
       "      <td>4</td>\n",
       "      <td>11</td>\n",
       "      <td>26</td>\n",
       "      <td>NaN</td>\n",
       "      <td>NaN</td>\n",
       "      <td>NaN</td>\n",
       "    </tr>\n",
       "    <tr>\n",
       "      <th>2018-11-26 10:00:00</th>\n",
       "      <td>1541</td>\n",
       "      <td>10</td>\n",
       "      <td>0</td>\n",
       "      <td>4</td>\n",
       "      <td>11</td>\n",
       "      <td>26</td>\n",
       "      <td>NaN</td>\n",
       "      <td>NaN</td>\n",
       "      <td>NaN</td>\n",
       "    </tr>\n",
       "    <tr>\n",
       "      <th>2018-11-26 11:00:00</th>\n",
       "      <td>1538</td>\n",
       "      <td>11</td>\n",
       "      <td>0</td>\n",
       "      <td>4</td>\n",
       "      <td>11</td>\n",
       "      <td>26</td>\n",
       "      <td>NaN</td>\n",
       "      <td>NaN</td>\n",
       "      <td>NaN</td>\n",
       "    </tr>\n",
       "  </tbody>\n",
       "</table>\n",
       "</div>"
      ],
      "text/plain": [
       "                     total_rides  hour  dayofweek  quarter  month  dayofmonth  \\\n",
       "datetime                                                                        \n",
       "2018-11-26 06:00:00         1462     6          0        4     11          26   \n",
       "2018-11-26 07:00:00          925     7          0        4     11          26   \n",
       "2018-11-26 09:00:00         1526     9          0        4     11          26   \n",
       "2018-11-26 10:00:00         1541    10          0        4     11          26   \n",
       "2018-11-26 11:00:00         1538    11          0        4     11          26   \n",
       "\n",
       "                     lag1  lag2  lag3  \n",
       "datetime                               \n",
       "2018-11-26 06:00:00   NaN   NaN   NaN  \n",
       "2018-11-26 07:00:00   NaN   NaN   NaN  \n",
       "2018-11-26 09:00:00   NaN   NaN   NaN  \n",
       "2018-11-26 10:00:00   NaN   NaN   NaN  \n",
       "2018-11-26 11:00:00   NaN   NaN   NaN  "
      ]
     },
     "execution_count": 25,
     "metadata": {},
     "output_type": "execute_result"
    }
   ],
   "source": [
    "df.head()"
   ]
  },
  {
   "cell_type": "code",
   "execution_count": 26,
   "metadata": {
    "id": "xGczOzmZEhZN"
   },
   "outputs": [],
   "source": [
    "# Running the model with reduced dataset --> removed few outliers"
   ]
  },
  {
   "cell_type": "markdown",
   "metadata": {
    "id": "Rgsiqd3pE2ce"
   },
   "source": [
    "***hyperparameter tuning for XGboost***\n"
   ]
  },
  {
   "cell_type": "code",
   "execution_count": 27,
   "metadata": {
    "id": "zcb_d1-hBtAw"
   },
   "outputs": [],
   "source": [
    "from sklearn.model_selection import GridSearchCV"
   ]
  },
  {
   "cell_type": "code",
   "execution_count": 28,
   "metadata": {
    "id": "spbtmI95E1qF"
   },
   "outputs": [],
   "source": [
    "# param_grid = {\n",
    "#     'max_depth': [3, 5, 7],\n",
    "#     'learning_rate': [0.1, 0.01, 0.001],\n",
    "#     'n_estimators': [500,1000],\n",
    "#     'subsample': [0.5, 0.7, 1.0],\n",
    "#     'gamma': [0, 1, 5]\n",
    "# }\n",
    "\n",
    "\n",
    "\n",
    "# # Instantiate the XGBRegressor model\n",
    "# xgb_model = xgb.XGBRegressor()\n",
    "\n",
    "# # Instantiate the GridSearchCV object\n",
    "# grid_search = GridSearchCV(estimator=xgb_model, param_grid=param_grid, cv=5, n_jobs=-1)\n",
    "\n",
    "# # Fit the grid search object to the data\n",
    "# grid_search.fit(X_train, y_train,\n",
    "#             eval_set=[(X_train, y_train), (X_test, y_test)],\n",
    "#             verbose=100)\n",
    "\n",
    "# # Print the best hyperparameters and the best score\n",
    "# print(\"Best Hyperparameters:\", grid_search.best_params_)\n",
    "# print(\"Best Score:\", grid_search.best_score_)\n",
    "\n",
    "\n"
   ]
  },
  {
   "cell_type": "code",
   "execution_count": 29,
   "metadata": {
    "colab": {
     "base_uri": "https://localhost:8080/",
     "height": 0
    },
    "id": "mtZ5ZjYOEuTK",
    "outputId": "0779c6c5-741d-41d6-b17f-7281e80a8361"
   },
   "outputs": [
    {
     "name": "stdout",
     "output_type": "stream",
     "text": [
      "[10:03:28] WARNING: /Users/runner/work/xgboost/xgboost/python-package/build/temp.macosx-11.0-arm64-cpython-38/xgboost/src/objective/regression_obj.cu:213: reg:linear is now deprecated in favor of reg:squarederror.\n",
      "[0]\tvalidation_0-rmse:1975.06649\tvalidation_1-rmse:1705.22225\n",
      "[100]\tvalidation_0-rmse:766.86968\tvalidation_1-rmse:646.10623\n",
      "[200]\tvalidation_0-rmse:328.73144\tvalidation_1-rmse:251.69250\n",
      "[300]\tvalidation_0-rmse:178.62684\tvalidation_1-rmse:99.80584\n",
      "[400]\tvalidation_0-rmse:142.03118\tvalidation_1-rmse:39.40804\n",
      "[500]\tvalidation_0-rmse:123.45327\tvalidation_1-rmse:20.21245\n",
      "[600]\tvalidation_0-rmse:110.02609\tvalidation_1-rmse:18.89406\n",
      "[624]\tvalidation_0-rmse:107.66837\tvalidation_1-rmse:21.10267\n",
      "[10:03:28] WARNING: /Users/runner/work/xgboost/xgboost/python-package/build/temp.macosx-11.0-arm64-cpython-38/xgboost/src/objective/regression_obj.cu:213: reg:linear is now deprecated in favor of reg:squarederror.\n",
      "[0]\tvalidation_0-rmse:1948.73540\tvalidation_1-rmse:1705.82727\n",
      "[100]\tvalidation_0-rmse:753.34738\tvalidation_1-rmse:643.42144\n",
      "[200]\tvalidation_0-rmse:320.84429\tvalidation_1-rmse:247.91900\n",
      "[300]\tvalidation_0-rmse:171.41097\tvalidation_1-rmse:97.78880\n",
      "[400]\tvalidation_0-rmse:134.91290\tvalidation_1-rmse:38.81671\n",
      "[500]\tvalidation_0-rmse:120.73975\tvalidation_1-rmse:20.88188\n",
      "[600]\tvalidation_0-rmse:109.69807\tvalidation_1-rmse:18.80126\n",
      "[689]\tvalidation_0-rmse:104.81529\tvalidation_1-rmse:19.48189\n",
      "[10:03:28] WARNING: /Users/runner/work/xgboost/xgboost/python-package/build/temp.macosx-11.0-arm64-cpython-38/xgboost/src/objective/regression_obj.cu:213: reg:linear is now deprecated in favor of reg:squarederror.\n",
      "[0]\tvalidation_0-rmse:1927.13091\tvalidation_1-rmse:1704.63727\n",
      "[100]\tvalidation_0-rmse:742.19174\tvalidation_1-rmse:639.74495\n",
      "[200]\tvalidation_0-rmse:313.22194\tvalidation_1-rmse:244.04385\n",
      "[300]\tvalidation_0-rmse:164.15734\tvalidation_1-rmse:101.42436\n",
      "[400]\tvalidation_0-rmse:128.05705\tvalidation_1-rmse:56.81602\n",
      "[500]\tvalidation_0-rmse:116.32331\tvalidation_1-rmse:41.89932\n",
      "[581]\tvalidation_0-rmse:107.42039\tvalidation_1-rmse:50.17974\n",
      "[10:03:29] WARNING: /Users/runner/work/xgboost/xgboost/python-package/build/temp.macosx-11.0-arm64-cpython-38/xgboost/src/objective/regression_obj.cu:213: reg:linear is now deprecated in favor of reg:squarederror.\n",
      "[0]\tvalidation_0-rmse:1908.92583\tvalidation_1-rmse:1705.82005\n",
      "[100]\tvalidation_0-rmse:732.76504\tvalidation_1-rmse:639.18481\n",
      "[200]\tvalidation_0-rmse:307.19728\tvalidation_1-rmse:240.88337\n",
      "[300]\tvalidation_0-rmse:159.15177\tvalidation_1-rmse:93.40121\n",
      "[400]\tvalidation_0-rmse:123.36282\tvalidation_1-rmse:36.30854\n",
      "[500]\tvalidation_0-rmse:109.71175\tvalidation_1-rmse:17.98449\n",
      "[600]\tvalidation_0-rmse:102.18787\tvalidation_1-rmse:16.08712\n",
      "[635]\tvalidation_0-rmse:100.21350\tvalidation_1-rmse:16.68645\n"
     ]
    }
   ],
   "source": [
    "fold = 0\n",
    "preds = []\n",
    "scores = []\n",
    "for train_idx, val_idx in tss.split(df):\n",
    "    train = df.iloc[train_idx]\n",
    "    test = df.iloc[val_idx]\n",
    "        \n",
    "    X_train = train.drop(['total_rides'],axis=1)\n",
    "    y_train = train['total_rides']\n",
    "\n",
    "    X_test = test.drop(['total_rides'],axis=1)\n",
    "    y_test = test['total_rides']\n",
    "\n",
    "    reg = xgb.XGBRegressor(base_score=0.5, booster='gbtree',    \n",
    "                           n_estimators=1000,\n",
    "                           early_stopping_rounds=50,\n",
    "                           objective='reg:linear',\n",
    "                           max_depth=3,\n",
    "                           learning_rate=0.01)\n",
    "    reg.fit(X_train, y_train,\n",
    "            eval_set=[(X_train, y_train), (X_test, y_test)],\n",
    "            verbose=100)\n",
    "\n",
    "    y_pred = reg.predict(X_test)\n",
    "    preds.append(y_pred)\n",
    "    score = np.sqrt(mean_squared_error(y_test, y_pred))\n",
    "    scores.append(score)"
   ]
  },
  {
   "cell_type": "code",
   "execution_count": 30,
   "metadata": {
    "colab": {
     "base_uri": "https://localhost:8080/",
     "height": 0
    },
    "id": "n9mW3gSfEvMw",
    "outputId": "a3e2d105-ad26-4762-e382-eb5c508f563b"
   },
   "outputs": [
    {
     "name": "stdout",
     "output_type": "stream",
     "text": [
      "Score across folds 23.1732\n",
      "Fold scores:[18.046861944204206, 18.67970362522241, 40.149977999915876, 15.81624221445832]\n"
     ]
    }
   ],
   "source": [
    "\n",
    "print(f'Score across folds {np.mean(scores):0.4f}')\n",
    "print(f'Fold scores:{scores}') \n"
   ]
  },
  {
   "cell_type": "code",
   "execution_count": 31,
   "metadata": {
    "colab": {
     "base_uri": "https://localhost:8080/",
     "height": 457
    },
    "id": "_nwx-LofwXLP",
    "outputId": "f47aa9e2-a93d-412d-f7c1-6739e85c3858"
   },
   "outputs": [
    {
     "name": "stderr",
     "output_type": "stream",
     "text": [
      "/var/folders/1j/vhrxwjz94tn0tsz00qlnqw8m0000gn/T/ipykernel_52328/2478601107.py:1: SettingWithCopyWarning: \n",
      "A value is trying to be set on a copy of a slice from a DataFrame.\n",
      "Try using .loc[row_indexer,col_indexer] = value instead\n",
      "\n",
      "See the caveats in the documentation: https://pandas.pydata.org/pandas-docs/stable/user_guide/indexing.html#returning-a-view-versus-a-copy\n",
      "  test['prediction'] = reg.predict(X_test)\n"
     ]
    },
    {
     "data": {
      "image/png": "[encoded data removed]",
      "text/plain": [
       "<Figure size 1080x360 with 1 Axes>"
      ]
     },
     "metadata": {
      "needs_background": "light"
     },
     "output_type": "display_data"
    }
   ],
   "source": [
    "test['prediction'] = reg.predict(X_test)\n",
    "# df = df.merge(test[['prediction']], how='left', left_index=True, right_index=True)\n",
    "ax = df[['total_rides']].plot(figsize=(15, 5))\n",
    "test['prediction'].plot(ax=ax, style='.')\n",
    "plt.legend(['Truth Data', 'Predictions'])\n",
    "ax.set_title('Raw Data and Prediction after removal of outlier analysis and hyper parameter tuning')\n",
    "plt.show()"
   ]
  },
  {
   "cell_type": "code",
   "execution_count": 32,
   "metadata": {
    "colab": {
     "base_uri": "https://localhost:8080/",
     "height": 373
    },
    "id": "M47Ei7-ME1kd",
    "outputId": "13672112-a1e2-4cbb-b6f4-e929488186c1"
   },
   "outputs": [
    {
     "data": {
      "image/png": "[encoded data removed]",
      "text/plain": [
       "<Figure size 1080x360 with 1 Axes>"
      ]
     },
     "metadata": {
      "needs_background": "light"
     },
     "output_type": "display_data"
    }
   ],
   "source": [
    "ax = df.loc[(df.index > '2018-12-16 03:00:00 ') & (df.index < '2018-12-25 00:00:00')]['total_rides'] \\\n",
    "    .plot(figsize=(15, 5), title='Week Of Data').set_ylim(1680)\n",
    "test.loc[(test.index > '2018-12-16 03:00:00') & (test.index < '2018-12-25 00:00:00')]['prediction'] \\\n",
    "    .plot(style='*')\n",
    "plt.legend(['Truth Data','Prediction'])\n",
    "plt.show()"
   ]
  },
  {
   "cell_type": "markdown",
   "metadata": {
    "id": "K4dH89gXkKbc"
   },
   "source": [
    "***As we can see above that the model is able to predict much better and is giving an RMSE score of 23 ---> way better than Sarimax***"
   ]
  },
  {
   "cell_type": "code",
   "execution_count": 33,
   "metadata": {
    "id": "TLITZ1_0zSEs"
   },
   "outputs": [
    {
     "data": {
      "text/html": [
       "<div>\n",
       "<style scoped>\n",
       "    .dataframe tbody tr th:only-of-type {\n",
       "        vertical-align: middle;\n",
       "    }\n",
       "\n",
       "    .dataframe tbody tr th {\n",
       "        vertical-align: top;\n",
       "    }\n",
       "\n",
       "    .dataframe thead th {\n",
       "        text-align: right;\n",
       "    }\n",
       "</style>\n",
       "<table border=\"1\" class=\"dataframe\">\n",
       "  <thead>\n",
       "    <tr style=\"text-align: right;\">\n",
       "      <th></th>\n",
       "      <th>hour</th>\n",
       "      <th>dayofweek</th>\n",
       "      <th>quarter</th>\n",
       "      <th>month</th>\n",
       "      <th>dayofmonth</th>\n",
       "      <th>lag1</th>\n",
       "      <th>lag2</th>\n",
       "      <th>lag3</th>\n",
       "    </tr>\n",
       "    <tr>\n",
       "      <th>datetime</th>\n",
       "      <th></th>\n",
       "      <th></th>\n",
       "      <th></th>\n",
       "      <th></th>\n",
       "      <th></th>\n",
       "      <th></th>\n",
       "      <th></th>\n",
       "      <th></th>\n",
       "    </tr>\n",
       "  </thead>\n",
       "  <tbody>\n",
       "    <tr>\n",
       "      <th>2018-12-17 19:00:00</th>\n",
       "      <td>19</td>\n",
       "      <td>0</td>\n",
       "      <td>4</td>\n",
       "      <td>12</td>\n",
       "      <td>17</td>\n",
       "      <td>1713.0</td>\n",
       "      <td>1702.0</td>\n",
       "      <td>1734.0</td>\n",
       "    </tr>\n",
       "    <tr>\n",
       "      <th>2018-12-17 20:00:00</th>\n",
       "      <td>20</td>\n",
       "      <td>0</td>\n",
       "      <td>4</td>\n",
       "      <td>12</td>\n",
       "      <td>17</td>\n",
       "      <td>1716.0</td>\n",
       "      <td>1703.0</td>\n",
       "      <td>1707.0</td>\n",
       "    </tr>\n",
       "    <tr>\n",
       "      <th>2018-12-17 21:00:00</th>\n",
       "      <td>21</td>\n",
       "      <td>0</td>\n",
       "      <td>4</td>\n",
       "      <td>12</td>\n",
       "      <td>17</td>\n",
       "      <td>1713.0</td>\n",
       "      <td>1729.0</td>\n",
       "      <td>1730.0</td>\n",
       "    </tr>\n",
       "    <tr>\n",
       "      <th>2018-12-17 22:00:00</th>\n",
       "      <td>22</td>\n",
       "      <td>0</td>\n",
       "      <td>4</td>\n",
       "      <td>12</td>\n",
       "      <td>17</td>\n",
       "      <td>1729.0</td>\n",
       "      <td>1719.0</td>\n",
       "      <td>1711.0</td>\n",
       "    </tr>\n",
       "    <tr>\n",
       "      <th>2018-12-17 23:00:00</th>\n",
       "      <td>23</td>\n",
       "      <td>0</td>\n",
       "      <td>4</td>\n",
       "      <td>12</td>\n",
       "      <td>17</td>\n",
       "      <td>1717.0</td>\n",
       "      <td>1732.0</td>\n",
       "      <td>1711.0</td>\n",
       "    </tr>\n",
       "  </tbody>\n",
       "</table>\n",
       "</div>"
      ],
      "text/plain": [
       "                     hour  dayofweek  quarter  month  dayofmonth    lag1  \\\n",
       "datetime                                                                   \n",
       "2018-12-17 19:00:00    19          0        4     12          17  1713.0   \n",
       "2018-12-17 20:00:00    20          0        4     12          17  1716.0   \n",
       "2018-12-17 21:00:00    21          0        4     12          17  1713.0   \n",
       "2018-12-17 22:00:00    22          0        4     12          17  1729.0   \n",
       "2018-12-17 23:00:00    23          0        4     12          17  1717.0   \n",
       "\n",
       "                       lag2    lag3  \n",
       "datetime                             \n",
       "2018-12-17 19:00:00  1702.0  1734.0  \n",
       "2018-12-17 20:00:00  1703.0  1707.0  \n",
       "2018-12-17 21:00:00  1729.0  1730.0  \n",
       "2018-12-17 22:00:00  1719.0  1711.0  \n",
       "2018-12-17 23:00:00  1732.0  1711.0  "
      ]
     },
     "execution_count": 33,
     "metadata": {},
     "output_type": "execute_result"
    }
   ],
   "source": [
    "X_test.head()"
   ]
  },
  {
   "cell_type": "code",
   "execution_count": 34,
   "metadata": {
    "colab": {
     "base_uri": "https://localhost:8080/",
     "height": 0
    },
    "id": "oiHNQoB_E1sz",
    "outputId": "c6ad99fa-041a-4a7f-d9e7-dc21b2e35af7"
   },
   "outputs": [
    {
     "name": "stdout",
     "output_type": "stream",
     "text": [
      "Score across folds 23.1732\n",
      "Fold scores:[18.046861944204206, 18.67970362522241, 40.149977999915876, 15.81624221445832]\n"
     ]
    }
   ],
   "source": [
    "print(f'Score across folds {np.mean(scores):0.4f}')\n",
    "print(f'Fold scores:{scores}')"
   ]
  },
  {
   "cell_type": "code",
   "execution_count": 35,
   "metadata": {
    "colab": {
     "base_uri": "https://localhost:8080/",
     "height": 0
    },
    "id": "_gx6ucI4E1vx",
    "outputId": "b6269789-0414-4b15-ccd7-9fee73744737"
   },
   "outputs": [
    {
     "data": {
      "text/plain": [
       "Timestamp('2018-12-18 18:00:00')"
      ]
     },
     "execution_count": 35,
     "metadata": {},
     "output_type": "execute_result"
    }
   ],
   "source": [
    "df.index.max()"
   ]
  },
  {
   "cell_type": "code",
   "execution_count": 43,
   "metadata": {},
   "outputs": [],
   "source": [
    "FEATURES = ['hour', 'dayofweek', 'quarter', 'month','dayofmonth','lag1','lag2','lag3']\n",
    "future = pd.date_range('2018-12-18','2018-12-25', freq='3h')\n",
    "future_df = pd.DataFrame(index=future)\n",
    "future_df['isFuture'] = True\n",
    "df['isFuture'] = False\n",
    "df_and_future = pd.concat([df, future_df])\n",
    "df_and_future = create_features(df_and_future)\n",
    "df_and_future = add_lags(df_and_future)\n",
    "future_w_features = df_and_future.query('isFuture').copy()\n",
    "future_w_features['pred'] = reg.predict(future_w_features[FEATURES])"
   ]
  },
  {
   "cell_type": "markdown",
   "metadata": {},
   "source": [
    "## Future Predictions - Interactive graph"
   ]
  },
  {
   "cell_type": "code",
   "execution_count": 44,
   "metadata": {},
   "outputs": [
    {
     "data": {
      "application/vnd.jupyter.widget-view+json": {
       "model_id": "fc3e4d0dce0f4f3c96a9d046cfa25d9d",
       "version_major": 2,
       "version_minor": 0
      },
      "text/plain": [
       "interactive(children=(SelectionRangeSlider(description='Date Range:', index=(0, 56), layout=Layout(width='80%'…"
      ]
     },
     "metadata": {},
     "output_type": "display_data"
    }
   ],
   "source": [
    "# !pip install plotly==5.2.1\n",
    "# !pip install ipywidgets\n",
    "\n",
    "import ipywidgets as widgets\n",
    "import plotly.graph_objs as go\n",
    "import plotly.io as pio\n",
    "from plotly.subplots import make_subplots\n",
    "\n",
    "# Define date range slider\n",
    "date_range_slider = widgets.SelectionRangeSlider(\n",
    "    options=future_w_features.index,\n",
    "    index=(0, len(future_w_features.index) - 1),\n",
    "    description='Date Range:',\n",
    "    layout=widgets.Layout(width='80%')\n",
    ")\n",
    "\n",
    "# Define frequency dropdown\n",
    "freq_dropdown = widgets.Dropdown(\n",
    "    options=['1h', '2h', '3h', '4h', '6h', '12h', '24h'],\n",
    "    value='3h',\n",
    "    description='Frequency:',\n",
    "    layout=widgets.Layout(width='20%')\n",
    ")\n",
    "\n",
    "\n",
    "\n",
    "# Define update function for the plot\n",
    "def update_plot(date_range, freq):\n",
    "    # Get the selected date range\n",
    "    start_date, end_date = date_range\n",
    "\n",
    "    # Resample the dataframe at the selected frequency\n",
    "    filtered_df = future_w_features.resample(freq).mean()\n",
    "    filtered_df = filtered_df.loc[start_date:end_date]\n",
    "\n",
    "    # Create traces for the line plot and scatter plot\n",
    "    line_trace = go.Scatter(x=filtered_df.index, y=filtered_df['pred'], mode='lines', name='Prediction')\n",
    "    scatter_trace = go.Scatter(x=filtered_df.index, y=filtered_df['pred'], mode='markers', marker=dict(color='red'), name='Prediction')\n",
    "\n",
    "    # Create subplot with the line plot and scatter plot\n",
    "    fig = make_subplots(rows=1, cols=1, shared_xaxes=True)\n",
    "    fig.add_trace(line_trace, row=1, col=1)\n",
    "    fig.add_trace(scatter_trace, row=1, col=1)\n",
    "\n",
    "    # Set x-axis and y-axis labels\n",
    "    fig.update_xaxes(title_text='Date', tickformat='%m/%d/%Y %H:%M')\n",
    "    fig.update_yaxes(title_text='Demand Prediction')\n",
    "\n",
    "    # Set plot title\n",
    "    title_text = f\"Future Predictions for {start_date} - {end_date} (Frequency: {freq})\"\n",
    "    fig.update_layout(title_text=title_text, title_font_size=15)\n",
    "    # Show plot\n",
    "    pio.renderers.default = \"notebook\"\n",
    "#     pio.renderers.default = \"browser\"\n",
    "    fig.show()\n",
    "\n",
    "# Display the date range slider and frequency dropdown\n",
    "widgets.interact(update_plot, date_range=date_range_slider, freq=freq_dropdown);\n"
   ]
  },
  {
   "cell_type": "markdown",
   "metadata": {},
   "source": [
    "*Steps to interact: The user can use the date range slider to select the range of the dates for which he would like the model to predict future demand.*\n",
    "The user can also change the frequency of the data points in time for the prediction(eg 3h,6h etc)*\n",
    "\n",
    "*This Graph shows the future demand prediction using XGBoost- best model.*\n",
    "\n",
    "*It is created using plotly and ipwidgets*\n"
   ]
  },
  {
   "cell_type": "code",
   "execution_count": null,
   "metadata": {},
   "outputs": [],
   "source": []
  }
 ],
 "metadata": {
  "colab": {
   "provenance": []
  },
  "kernelspec": {
   "display_name": "Python 3 (ipykernel)",
   "language": "python",
   "name": "python3"
  },
  "language_info": {
   "codemirror_mode": {
    "name": "ipython",
    "version": 3
   },
   "file_extension": ".py",
   "mimetype": "text/x-python",
   "name": "python",
   "nbconvert_exporter": "python",
   "pygments_lexer": "ipython3",
   "version": "3.9.13"
  }
 },
 "nbformat": 4,
 "nbformat_minor": 1
}
