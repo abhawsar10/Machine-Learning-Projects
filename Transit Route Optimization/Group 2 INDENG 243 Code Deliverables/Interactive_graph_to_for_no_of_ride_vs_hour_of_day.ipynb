{
  "cells": [
    {
      "cell_type": "markdown",
      "source": [
        "### Interactive Graph To View Ride V/S Hour Using Different Graph Types"
      ],
      "metadata": {
        "id": "Y01IgAKA9LKJ"
      }
    },
    {
      "cell_type": "markdown",
      "source": [
        "Importing the dataset"
      ],
      "metadata": {
        "id": "u4JaI8of9WQG"
      }
    },
    {
      "cell_type": "code",
      "execution_count": null,
      "metadata": {
        "id": "j52s09-MVbDd"
      },
      "outputs": [],
      "source": [
        "import numpy as np \n",
        "import pandas as pd\n",
        "import matplotlib.pyplot as plt\n",
        "%matplotlib inline\n"
      ]
    },
    {
      "cell_type": "code",
      "execution_count": null,
      "metadata": {
        "colab": {
          "base_uri": "https://localhost:8080/"
        },
        "id": "HRtozRRIXaWq",
        "outputId": "4e18df3a-3a72-418d-907f-a001f7f34477"
      },
      "outputs": [
        {
          "output_type": "stream",
          "name": "stdout",
          "text": [
            "Mounted at /content/drive\n"
          ]
        }
      ],
      "source": [
        "import datetime \n",
        "# Calling the fromtimestamp() function to\n",
        "# extract datetime from the given timestamp\n",
        "from google.colab import drive\n",
        "drive.mount('/content/drive')\n",
        "# ride = pd.read_csv(\"rideshare_kaggle_1.csv\")\n",
        "ride = pd.read_csv(\"/content/drive/MyDrive/Colab Notebooks/rideshare_kaggle.csv\")\n",
        "ride['timestamp']=pd.to_datetime(ride['timestamp'], unit='s')\n",
        "ride.dropna(axis=0,inplace=True)\n"
      ]
    },
    {
      "cell_type": "code",
      "source": [
        "frequency=ride.groupby([\"hour\",\"source\",\"destination\"]).size().reset_index(name=\"Ride_Frequency\")"
      ],
      "metadata": {
        "id": "YzYOtr833fkV"
      },
      "execution_count": null,
      "outputs": []
    },
    {
      "cell_type": "code",
      "source": [
        "frequency"
      ],
      "metadata": {
        "colab": {
          "base_uri": "https://localhost:8080/",
          "height": 423
        },
        "id": "_0zppLtG5bj3",
        "outputId": "6fa78977-3471-4111-b23a-d428418a1182"
      },
      "execution_count": null,
      "outputs": [
        {
          "output_type": "execute_result",
          "data": {
            "text/plain": [
              "      hour    source              destination  Ride_Frequency\n",
              "0        0  Back Bay        Boston University             442\n",
              "1        0  Back Bay                   Fenway             376\n",
              "2        0  Back Bay         Haymarket Square             410\n",
              "3        0  Back Bay                North End             471\n",
              "4        0  Back Bay  Northeastern University             395\n",
              "...    ...       ...                      ...             ...\n",
              "1723    23  West End                   Fenway             424\n",
              "1724    23  West End         Haymarket Square             365\n",
              "1725    23  West End                North End             388\n",
              "1726    23  West End  Northeastern University             376\n",
              "1727    23  West End            South Station             462\n",
              "\n",
              "[1728 rows x 4 columns]"
            ],
            "text/html": [
              "\n",
              "  <div id=\"df-8a294600-f78c-4e2c-ad3b-84b5b2eff776\">\n",
              "    <div class=\"colab-df-container\">\n",
              "      <div>\n",
              "<style scoped>\n",
              "    .dataframe tbody tr th:only-of-type {\n",
              "        vertical-align: middle;\n",
              "    }\n",
              "\n",
              "    .dataframe tbody tr th {\n",
              "        vertical-align: top;\n",
              "    }\n",
              "\n",
              "    .dataframe thead th {\n",
              "        text-align: right;\n",
              "    }\n",
              "</style>\n",
              "<table border=\"1\" class=\"dataframe\">\n",
              "  <thead>\n",
              "    <tr style=\"text-align: right;\">\n",
              "      <th></th>\n",
              "      <th>hour</th>\n",
              "      <th>source</th>\n",
              "      <th>destination</th>\n",
              "      <th>Ride_Frequency</th>\n",
              "    </tr>\n",
              "  </thead>\n",
              "  <tbody>\n",
              "    <tr>\n",
              "      <th>0</th>\n",
              "      <td>0</td>\n",
              "      <td>Back Bay</td>\n",
              "      <td>Boston University</td>\n",
              "      <td>442</td>\n",
              "    </tr>\n",
              "    <tr>\n",
              "      <th>1</th>\n",
              "      <td>0</td>\n",
              "      <td>Back Bay</td>\n",
              "      <td>Fenway</td>\n",
              "      <td>376</td>\n",
              "    </tr>\n",
              "    <tr>\n",
              "      <th>2</th>\n",
              "      <td>0</td>\n",
              "      <td>Back Bay</td>\n",
              "      <td>Haymarket Square</td>\n",
              "      <td>410</td>\n",
              "    </tr>\n",
              "    <tr>\n",
              "      <th>3</th>\n",
              "      <td>0</td>\n",
              "      <td>Back Bay</td>\n",
              "      <td>North End</td>\n",
              "      <td>471</td>\n",
              "    </tr>\n",
              "    <tr>\n",
              "      <th>4</th>\n",
              "      <td>0</td>\n",
              "      <td>Back Bay</td>\n",
              "      <td>Northeastern University</td>\n",
              "      <td>395</td>\n",
              "    </tr>\n",
              "    <tr>\n",
              "      <th>...</th>\n",
              "      <td>...</td>\n",
              "      <td>...</td>\n",
              "      <td>...</td>\n",
              "      <td>...</td>\n",
              "    </tr>\n",
              "    <tr>\n",
              "      <th>1723</th>\n",
              "      <td>23</td>\n",
              "      <td>West End</td>\n",
              "      <td>Fenway</td>\n",
              "      <td>424</td>\n",
              "    </tr>\n",
              "    <tr>\n",
              "      <th>1724</th>\n",
              "      <td>23</td>\n",
              "      <td>West End</td>\n",
              "      <td>Haymarket Square</td>\n",
              "      <td>365</td>\n",
              "    </tr>\n",
              "    <tr>\n",
              "      <th>1725</th>\n",
              "      <td>23</td>\n",
              "      <td>West End</td>\n",
              "      <td>North End</td>\n",
              "      <td>388</td>\n",
              "    </tr>\n",
              "    <tr>\n",
              "      <th>1726</th>\n",
              "      <td>23</td>\n",
              "      <td>West End</td>\n",
              "      <td>Northeastern University</td>\n",
              "      <td>376</td>\n",
              "    </tr>\n",
              "    <tr>\n",
              "      <th>1727</th>\n",
              "      <td>23</td>\n",
              "      <td>West End</td>\n",
              "      <td>South Station</td>\n",
              "      <td>462</td>\n",
              "    </tr>\n",
              "  </tbody>\n",
              "</table>\n",
              "<p>1728 rows × 4 columns</p>\n",
              "</div>\n",
              "      <button class=\"colab-df-convert\" onclick=\"convertToInteractive('df-8a294600-f78c-4e2c-ad3b-84b5b2eff776')\"\n",
              "              title=\"Convert this dataframe to an interactive table.\"\n",
              "              style=\"display:none;\">\n",
              "        \n",
              "  <svg xmlns=\"http://www.w3.org/2000/svg\" height=\"24px\"viewBox=\"0 0 24 24\"\n",
              "       width=\"24px\">\n",
              "    <path d=\"M0 0h24v24H0V0z\" fill=\"none\"/>\n",
              "    <path d=\"M18.56 5.44l.94 2.06.94-2.06 2.06-.94-2.06-.94-.94-2.06-.94 2.06-2.06.94zm-11 1L8.5 8.5l.94-2.06 2.06-.94-2.06-.94L8.5 2.5l-.94 2.06-2.06.94zm10 10l.94 2.06.94-2.06 2.06-.94-2.06-.94-.94-2.06-.94 2.06-2.06.94z\"/><path d=\"M17.41 7.96l-1.37-1.37c-.4-.4-.92-.59-1.43-.59-.52 0-1.04.2-1.43.59L10.3 9.45l-7.72 7.72c-.78.78-.78 2.05 0 2.83L4 21.41c.39.39.9.59 1.41.59.51 0 1.02-.2 1.41-.59l7.78-7.78 2.81-2.81c.8-.78.8-2.07 0-2.86zM5.41 20L4 18.59l7.72-7.72 1.47 1.35L5.41 20z\"/>\n",
              "  </svg>\n",
              "      </button>\n",
              "      \n",
              "  <style>\n",
              "    .colab-df-container {\n",
              "      display:flex;\n",
              "      flex-wrap:wrap;\n",
              "      gap: 12px;\n",
              "    }\n",
              "\n",
              "    .colab-df-convert {\n",
              "      background-color: #E8F0FE;\n",
              "      border: none;\n",
              "      border-radius: 50%;\n",
              "      cursor: pointer;\n",
              "      display: none;\n",
              "      fill: #1967D2;\n",
              "      height: 32px;\n",
              "      padding: 0 0 0 0;\n",
              "      width: 32px;\n",
              "    }\n",
              "\n",
              "    .colab-df-convert:hover {\n",
              "      background-color: #E2EBFA;\n",
              "      box-shadow: 0px 1px 2px rgba(60, 64, 67, 0.3), 0px 1px 3px 1px rgba(60, 64, 67, 0.15);\n",
              "      fill: #174EA6;\n",
              "    }\n",
              "\n",
              "    [theme=dark] .colab-df-convert {\n",
              "      background-color: #3B4455;\n",
              "      fill: #D2E3FC;\n",
              "    }\n",
              "\n",
              "    [theme=dark] .colab-df-convert:hover {\n",
              "      background-color: #434B5C;\n",
              "      box-shadow: 0px 1px 3px 1px rgba(0, 0, 0, 0.15);\n",
              "      filter: drop-shadow(0px 1px 2px rgba(0, 0, 0, 0.3));\n",
              "      fill: #FFFFFF;\n",
              "    }\n",
              "  </style>\n",
              "\n",
              "      <script>\n",
              "        const buttonEl =\n",
              "          document.querySelector('#df-8a294600-f78c-4e2c-ad3b-84b5b2eff776 button.colab-df-convert');\n",
              "        buttonEl.style.display =\n",
              "          google.colab.kernel.accessAllowed ? 'block' : 'none';\n",
              "\n",
              "        async function convertToInteractive(key) {\n",
              "          const element = document.querySelector('#df-8a294600-f78c-4e2c-ad3b-84b5b2eff776');\n",
              "          const dataTable =\n",
              "            await google.colab.kernel.invokeFunction('convertToInteractive',\n",
              "                                                     [key], {});\n",
              "          if (!dataTable) return;\n",
              "\n",
              "          const docLinkHtml = 'Like what you see? Visit the ' +\n",
              "            '<a target=\"_blank\" href=https://colab.research.google.com/notebooks/data_table.ipynb>data table notebook</a>'\n",
              "            + ' to learn more about interactive tables.';\n",
              "          element.innerHTML = '';\n",
              "          dataTable['output_type'] = 'display_data';\n",
              "          await google.colab.output.renderOutput(dataTable, element);\n",
              "          const docLink = document.createElement('div');\n",
              "          docLink.innerHTML = docLinkHtml;\n",
              "          element.appendChild(docLink);\n",
              "        }\n",
              "      </script>\n",
              "    </div>\n",
              "  </div>\n",
              "  "
            ]
          },
          "metadata": {},
          "execution_count": 5
        }
      ]
    },
    {
      "cell_type": "markdown",
      "source": [
        "The code given below is to plot the interactive graph using plotly. The drop down menu gives us 3 options ie\n",
        "1. Box plot- Useful for identifying median deman at a given time and the outliers\n",
        "\n",
        "2. Scatter Plot- Helping identify the spread of the deamnd\n",
        "\n",
        "3. Bar graph - Giving a quick over view of maximum demand recorded for a given hour."
      ],
      "metadata": {
        "id": "pO9fvO6E9bBE"
      }
    },
    {
      "cell_type": "code",
      "source": [
        "import plotly.graph_objects as px\n",
        "import numpy as np\n",
        " \n",
        " \n",
        "np.random.seed(52)\n",
        " \n",
        "random_x = frequency['hour']\n",
        "random_y = frequency['Ride_Frequency']\n",
        " \n",
        "fig = px.Figure(data=[px.Scatter(\n",
        "\tx=random_x,\n",
        "\ty=random_y,\n",
        "\tmode='markers',)\n",
        "])\n",
        " \n",
        "fig.update_layout(\n",
        "\tupdatemenus=[\n",
        "\t\tdict(\n",
        "\t\tbuttons=list([\n",
        "\t\t\tdict(\n",
        "\t\t\targs=[\"type\", \"scatter\"],\n",
        "\t\t\tlabel=\"Scatter Plot\",\n",
        "\t\t\tmethod=\"restyle\"\n",
        "\t\t\t),\n",
        "                        dict(\n",
        "                        args=[\"type\", \"box\"],\n",
        "                        label=\"Box Plot\",\n",
        "                        method=\"restyle\"\n",
        "                        ),\n",
        "\t\t\tdict(\n",
        "\t\t\targs=[\"type\", \"bar\"],\n",
        "\t\t\tlabel=\"Bar Plot\",\n",
        "\t\t\tmethod=\"restyle\"\n",
        "\t\t\t)\n",
        "\t\t\t]),\n",
        "\t\t\tdirection=\"down\",\n",
        "\t\t    ),\n",
        "\t      ],\n",
        "      title = \"Number of Rides (y axis) v/s Hour of the Day(x axis)\"\n",
        ")\n",
        " \n",
        "fig.show()"
      ],
      "metadata": {
        "colab": {
          "base_uri": "https://localhost:8080/",
          "height": 542
        },
        "id": "FbbxZVhg1s1S",
        "outputId": "44fb4730-be97-4ba6-a966-411695fa7a8a"
      },
      "execution_count": null,
      "outputs": [
        {
          "output_type": "display_data",
          "data": {
            "text/html": [
              "<html>\n",
              "<head><meta charset=\"utf-8\" /></head>\n",
              "<body>\n",
              "    <div>            <script src=\"https://cdnjs.cloudflare.com/ajax/libs/mathjax/2.7.5/MathJax.js?config=TeX-AMS-MML_SVG\"></script><script type=\"text/javascript\">if (window.MathJax && window.MathJax.Hub && window.MathJax.Hub.Config) {window.MathJax.Hub.Config({SVG: {font: \"STIX-Web\"}});}</script>                <script type=\"text/javascript\">window.PlotlyConfig = {MathJaxConfig: 'local'};</script>\n",
              "        <script src=\"https://cdn.plot.ly/plotly-2.18.2.min.js\"></script>                <div id=\"abed27f2-8144-4c31-becf-7cccb2ed2eac\" class=\"plotly-graph-div\" style=\"height:525px; width:100%;\"></div>            <script type=\"text/javascript\">                                    window.PLOTLYENV=window.PLOTLYENV || {};                                    if (document.getElementById(\"abed27f2-8144-4c31-becf-7cccb2ed2eac\")) {                    Plotly.newPlot(                        \"abed27f2-8144-4c31-becf-7cccb2ed2eac\",                        [{\"mode\":\"markers\",\"x\":[0,0,0,0,0,0,0,0,0,0,0,0,0,0,0,0,0,0,0,0,0,0,0,0,0,0,0,0,0,0,0,0,0,0,0,0,0,0,0,0,0,0,0,0,0,0,0,0,0,0,0,0,0,0,0,0,0,0,0,0,0,0,0,0,0,0,0,0,0,0,0,0,1,1,1,1,1,1,1,1,1,1,1,1,1,1,1,1,1,1,1,1,1,1,1,1,1,1,1,1,1,1,1,1,1,1,1,1,1,1,1,1,1,1,1,1,1,1,1,1,1,1,1,1,1,1,1,1,1,1,1,1,1,1,1,1,1,1,1,1,1,1,1,1,2,2,2,2,2,2,2,2,2,2,2,2,2,2,2,2,2,2,2,2,2,2,2,2,2,2,2,2,2,2,2,2,2,2,2,2,2,2,2,2,2,2,2,2,2,2,2,2,2,2,2,2,2,2,2,2,2,2,2,2,2,2,2,2,2,2,2,2,2,2,2,2,3,3,3,3,3,3,3,3,3,3,3,3,3,3,3,3,3,3,3,3,3,3,3,3,3,3,3,3,3,3,3,3,3,3,3,3,3,3,3,3,3,3,3,3,3,3,3,3,3,3,3,3,3,3,3,3,3,3,3,3,3,3,3,3,3,3,3,3,3,3,3,3,4,4,4,4,4,4,4,4,4,4,4,4,4,4,4,4,4,4,4,4,4,4,4,4,4,4,4,4,4,4,4,4,4,4,4,4,4,4,4,4,4,4,4,4,4,4,4,4,4,4,4,4,4,4,4,4,4,4,4,4,4,4,4,4,4,4,4,4,4,4,4,4,5,5,5,5,5,5,5,5,5,5,5,5,5,5,5,5,5,5,5,5,5,5,5,5,5,5,5,5,5,5,5,5,5,5,5,5,5,5,5,5,5,5,5,5,5,5,5,5,5,5,5,5,5,5,5,5,5,5,5,5,5,5,5,5,5,5,5,5,5,5,5,5,6,6,6,6,6,6,6,6,6,6,6,6,6,6,6,6,6,6,6,6,6,6,6,6,6,6,6,6,6,6,6,6,6,6,6,6,6,6,6,6,6,6,6,6,6,6,6,6,6,6,6,6,6,6,6,6,6,6,6,6,6,6,6,6,6,6,6,6,6,6,6,6,7,7,7,7,7,7,7,7,7,7,7,7,7,7,7,7,7,7,7,7,7,7,7,7,7,7,7,7,7,7,7,7,7,7,7,7,7,7,7,7,7,7,7,7,7,7,7,7,7,7,7,7,7,7,7,7,7,7,7,7,7,7,7,7,7,7,7,7,7,7,7,7,8,8,8,8,8,8,8,8,8,8,8,8,8,8,8,8,8,8,8,8,8,8,8,8,8,8,8,8,8,8,8,8,8,8,8,8,8,8,8,8,8,8,8,8,8,8,8,8,8,8,8,8,8,8,8,8,8,8,8,8,8,8,8,8,8,8,8,8,8,8,8,8,9,9,9,9,9,9,9,9,9,9,9,9,9,9,9,9,9,9,9,9,9,9,9,9,9,9,9,9,9,9,9,9,9,9,9,9,9,9,9,9,9,9,9,9,9,9,9,9,9,9,9,9,9,9,9,9,9,9,9,9,9,9,9,9,9,9,9,9,9,9,9,9,10,10,10,10,10,10,10,10,10,10,10,10,10,10,10,10,10,10,10,10,10,10,10,10,10,10,10,10,10,10,10,10,10,10,10,10,10,10,10,10,10,10,10,10,10,10,10,10,10,10,10,10,10,10,10,10,10,10,10,10,10,10,10,10,10,10,10,10,10,10,10,10,11,11,11,11,11,11,11,11,11,11,11,11,11,11,11,11,11,11,11,11,11,11,11,11,11,11,11,11,11,11,11,11,11,11,11,11,11,11,11,11,11,11,11,11,11,11,11,11,11,11,11,11,11,11,11,11,11,11,11,11,11,11,11,11,11,11,11,11,11,11,11,11,12,12,12,12,12,12,12,12,12,12,12,12,12,12,12,12,12,12,12,12,12,12,12,12,12,12,12,12,12,12,12,12,12,12,12,12,12,12,12,12,12,12,12,12,12,12,12,12,12,12,12,12,12,12,12,12,12,12,12,12,12,12,12,12,12,12,12,12,12,12,12,12,13,13,13,13,13,13,13,13,13,13,13,13,13,13,13,13,13,13,13,13,13,13,13,13,13,13,13,13,13,13,13,13,13,13,13,13,13,13,13,13,13,13,13,13,13,13,13,13,13,13,13,13,13,13,13,13,13,13,13,13,13,13,13,13,13,13,13,13,13,13,13,13,14,14,14,14,14,14,14,14,14,14,14,14,14,14,14,14,14,14,14,14,14,14,14,14,14,14,14,14,14,14,14,14,14,14,14,14,14,14,14,14,14,14,14,14,14,14,14,14,14,14,14,14,14,14,14,14,14,14,14,14,14,14,14,14,14,14,14,14,14,14,14,14,15,15,15,15,15,15,15,15,15,15,15,15,15,15,15,15,15,15,15,15,15,15,15,15,15,15,15,15,15,15,15,15,15,15,15,15,15,15,15,15,15,15,15,15,15,15,15,15,15,15,15,15,15,15,15,15,15,15,15,15,15,15,15,15,15,15,15,15,15,15,15,15,16,16,16,16,16,16,16,16,16,16,16,16,16,16,16,16,16,16,16,16,16,16,16,16,16,16,16,16,16,16,16,16,16,16,16,16,16,16,16,16,16,16,16,16,16,16,16,16,16,16,16,16,16,16,16,16,16,16,16,16,16,16,16,16,16,16,16,16,16,16,16,16,17,17,17,17,17,17,17,17,17,17,17,17,17,17,17,17,17,17,17,17,17,17,17,17,17,17,17,17,17,17,17,17,17,17,17,17,17,17,17,17,17,17,17,17,17,17,17,17,17,17,17,17,17,17,17,17,17,17,17,17,17,17,17,17,17,17,17,17,17,17,17,17,18,18,18,18,18,18,18,18,18,18,18,18,18,18,18,18,18,18,18,18,18,18,18,18,18,18,18,18,18,18,18,18,18,18,18,18,18,18,18,18,18,18,18,18,18,18,18,18,18,18,18,18,18,18,18,18,18,18,18,18,18,18,18,18,18,18,18,18,18,18,18,18,19,19,19,19,19,19,19,19,19,19,19,19,19,19,19,19,19,19,19,19,19,19,19,19,19,19,19,19,19,19,19,19,19,19,19,19,19,19,19,19,19,19,19,19,19,19,19,19,19,19,19,19,19,19,19,19,19,19,19,19,19,19,19,19,19,19,19,19,19,19,19,19,20,20,20,20,20,20,20,20,20,20,20,20,20,20,20,20,20,20,20,20,20,20,20,20,20,20,20,20,20,20,20,20,20,20,20,20,20,20,20,20,20,20,20,20,20,20,20,20,20,20,20,20,20,20,20,20,20,20,20,20,20,20,20,20,20,20,20,20,20,20,20,20,21,21,21,21,21,21,21,21,21,21,21,21,21,21,21,21,21,21,21,21,21,21,21,21,21,21,21,21,21,21,21,21,21,21,21,21,21,21,21,21,21,21,21,21,21,21,21,21,21,21,21,21,21,21,21,21,21,21,21,21,21,21,21,21,21,21,21,21,21,21,21,21,22,22,22,22,22,22,22,22,22,22,22,22,22,22,22,22,22,22,22,22,22,22,22,22,22,22,22,22,22,22,22,22,22,22,22,22,22,22,22,22,22,22,22,22,22,22,22,22,22,22,22,22,22,22,22,22,22,22,22,22,22,22,22,22,22,22,22,22,22,22,22,22,23,23,23,23,23,23,23,23,23,23,23,23,23,23,23,23,23,23,23,23,23,23,23,23,23,23,23,23,23,23,23,23,23,23,23,23,23,23,23,23,23,23,23,23,23,23,23,23,23,23,23,23,23,23,23,23,23,23,23,23,23,23,23,23,23,23,23,23,23,23,23,23],\"y\":[442,376,410,471,395,431,389,413,409,387,406,468,446,357,478,441,410,450,396,369,358,478,440,397,409,426,393,396,385,523,440,351,432,442,439,373,422,432,386,415,429,464,420,463,403,418,442,375,324,430,397,407,472,358,341,345,447,403,430,423,475,361,440,402,373,412,453,427,403,387,418,449,337,341,363,393,379,408,329,379,411,367,397,340,343,382,392,375,333,427,362,323,340,362,321,399,358,333,333,392,377,385,332,358,386,363,375,363,377,419,346,366,353,332,322,310,347,341,369,417,409,378,384,348,365,380,377,379,453,318,333,318,408,346,367,299,307,357,427,390,374,411,388,337,347,365,350,404,318,380,340,405,372,386,377,353,376,331,420,337,417,409,333,361,382,339,368,383,381,423,319,351,355,465,309,357,414,375,385,404,436,372,283,355,296,440,332,365,359,298,326,370,350,362,331,356,408,367,362,357,422,374,363,310,356,337,375,339,324,404,365,396,381,330,364,367,315,333,343,399,392,311,430,314,370,389,324,416,341,340,394,406,353,358,330,326,352,294,303,392,326,373,328,350,317,338,380,400,387,312,348,357,338,355,398,350,348,321,324,386,361,328,364,325,398,351,375,375,364,295,346,392,339,386,389,378,331,387,408,347,349,355,365,355,350,310,347,299,368,368,334,390,351,349,395,362,359,366,369,378,388,316,345,351,404,401,394,338,384,407,364,394,383,361,360,349,366,412,342,371,351,350,317,359,358,390,363,358,376,323,322,355,475,339,391,281,343,331,341,349,358,361,291,397,384,345,315,387,385,399,391,386,372,377,314,340,366,365,354,347,274,329,338,336,326,285,306,315,298,349,320,339,328,315,300,301,369,287,316,317,315,286,292,363,296,327,348,313,323,387,378,342,376,353,358,270,285,367,325,331,290,241,304,355,284,256,320,297,317,410,317,275,302,305,327,268,288,297,315,302,332,319,325,352,352,308,344,338,315,313,301,343,341,367,330,398,372,356,352,309,329,366,335,305,350,309,326,312,324,387,328,372,358,371,352,389,344,351,377,301,343,383,424,310,377,332,320,348,422,326,323,333,351,326,294,353,319,336,351,297,343,340,295,426,340,341,371,379,405,391,369,374,356,367,326,338,291,372,350,364,350,310,427,343,343,295,317,362,313,312,318,310,313,357,269,333,289,348,338,319,307,322,280,310,368,294,319,312,309,316,341,353,270,343,324,334,404,328,364,325,371,330,298,301,384,277,321,338,315,345,298,373,327,317,288,291,246,307,301,262,335,240,257,320,320,278,370,358,298,317,329,337,276,307,296,343,299,307,362,364,326,361,309,320,335,287,297,338,269,307,258,340,267,318,311,310,317,335,307,343,346,382,280,293,275,343,290,265,320,314,281,299,300,312,280,311,300,314,322,297,313,288,290,280,306,299,302,294,376,348,362,280,362,248,280,336,324,241,332,321,339,324,311,304,257,309,266,334,330,338,334,372,432,376,342,380,368,519,397,410,382,350,344,388,398,366,358,332,355,322,353,398,339,398,505,306,406,409,352,356,368,319,336,394,362,368,339,354,385,306,323,401,338,411,370,383,361,399,404,375,367,393,352,336,374,343,409,423,380,354,349,356,344,370,450,369,318,370,386,319,388,360,371,365,343,330,366,369,402,347,374,442,306,387,393,383,451,407,362,417,373,363,423,398,440,385,404,378,449,388,384,392,409,363,364,385,479,432,395,438,338,389,419,380,376,408,408,416,321,405,414,456,347,339,381,349,405,371,408,346,404,389,388,327,447,420,345,433,373,416,314,381,364,401,437,419,399,377,330,442,402,446,347,360,309,344,351,440,419,357,366,403,374,410,347,337,373,320,379,322,361,486,464,423,370,372,317,418,385,443,392,358,328,442,376,374,362,395,427,388,354,335,415,360,378,383,523,342,449,361,437,377,480,360,373,397,421,353,382,394,397,353,417,449,385,379,389,440,381,327,354,368,394,434,387,339,382,390,334,410,404,463,371,406,342,383,351,413,434,379,414,345,357,401,347,357,424,405,380,399,431,416,391,362,448,410,405,380,388,343,346,371,375,362,413,372,447,368,398,374,361,332,403,473,419,372,419,388,434,377,411,413,373,384,398,392,413,389,422,364,487,402,345,396,349,428,442,368,400,373,427,321,365,333,398,384,355,415,361,384,444,332,351,361,420,477,434,344,443,453,421,367,393,479,407,410,354,370,396,406,407,378,372,362,371,386,387,381,431,403,358,404,400,352,383,350,401,317,326,385,403,415,384,437,322,351,390,338,374,351,356,381,376,356,373,364,415,469,434,369,402,423,391,374,443,381,410,369,415,422,381,390,464,409,456,388,384,393,370,421,415,372,409,379,354,416,377,343,396,360,401,414,353,375,353,352,353,385,425,385,440,350,402,379,408,385,432,353,360,384,378,309,302,404,364,449,367,402,365,422,346,407,399,460,385,400,396,403,397,396,397,318,409,316,397,385,434,438,380,363,411,391,336,369,378,379,371,351,440,386,427,373,422,431,389,357,458,405,358,326,373,263,428,398,393,385,402,353,372,440,387,402,421,375,368,430,432,386,374,301,439,322,371,393,405,365,326,433,395,396,403,353,392,452,397,416,295,334,359,353,326,397,443,295,387,368,390,354,453,388,380,404,363,368,414,429,417,334,424,428,376,371,410,437,374,412,450,365,431,362,401,333,400,344,426,392,404,446,365,318,398,414,384,388,323,425,333,395,466,382,390,397,366,392,384,382,433,448,413,369,359,410,366,378,374,395,380,433,387,340,419,356,335,393,356,305,392,413,418,358,398,388,383,381,472,438,334,420,362,464,473,349,346,437,346,389,412,386,432,296,481,407,370,426,385,399,359,359,430,400,436,383,368,395,405,417,394,385,371,410,401,368,425,369,346,400,366,353,397,378,418,367,387,382,434,344,385,409,381,406,402,473,308,439,383,333,441,394,394,324,412,374,423,390,335,389,396,422,375,398,389,340,448,326,383,409,328,396,422,364,378,379,425,393,360,374,351,348,397,365,409,407,413,376,438,299,442,366,404,386,341,429,404,406,431,384,402,397,413,423,448,404,373,444,325,288,347,398,282,343,389,337,339,373,324,329,341,319,337,333,350,325,352,338,393,383,353,348,318,343,380,438,370,405,368,353,371,364,380,349,421,362,330,261,362,342,330,348,377,389,344,363,312,371,315,330,372,313,410,283,382,406,341,354,412,323,382,362,384,289,347,329,312,373,402,386,356,286,359,363,325,388,347,336,325,321,341,309,314,282,322,321,380,338,321,379,350,329,337,369,342,325,352,318,336,342,416,387,362,337,318,323,344,341,328,301,379,329,363,303,343,380,332,395,386,342,327,287,394,339,359,405,342,341,345,283,382,334,394,305,400,341,273,384,322,304,391,386,332,286,304,302,438,318,353,311,310,353,375,275,418,363,367,340,286,340,329,312,358,387,341,368,412,380,324,389,297,422,374,372,414,352,324,342,330,357,343,344,349,370,318,398,350,338,332,346,355,299,350,356,359,379,330,360,352,316,372,367,354,347,273,365,386,385,390,366,394,324,414,433,321,338,394,351,355,379,307,428,343,356,338,369,342,432,394,409,352,353,428,323,367,367,449,320,435,412,346,406,353,293,389,387,354,381,347,403,343,381,377,293,402,376,354,366,433,332,384,393,339,367,410,378,495,417,355,386,295,456,346,396,389,323,419,372,364,375,378,401,400,385,442,372,362,386,364,370,465,328,429,429,449,413,352,409,420,428,384,432,421,435,402,409,334,426,451,409,379,410,365,501,392,434,478,447,434,364,388,409,386,387,438,388,414,399,441,416,372,376,447,382,452,398,459,350,372,434,314,447,320,384,403,399,462,409,383,465,355,390,409,425,407,448,383,424,365,388,376,462],\"type\":\"scatter\"}],                        {\"template\":{\"data\":{\"histogram2dcontour\":[{\"type\":\"histogram2dcontour\",\"colorbar\":{\"outlinewidth\":0,\"ticks\":\"\"},\"colorscale\":[[0.0,\"#0d0887\"],[0.1111111111111111,\"#46039f\"],[0.2222222222222222,\"#7201a8\"],[0.3333333333333333,\"#9c179e\"],[0.4444444444444444,\"#bd3786\"],[0.5555555555555556,\"#d8576b\"],[0.6666666666666666,\"#ed7953\"],[0.7777777777777778,\"#fb9f3a\"],[0.8888888888888888,\"#fdca26\"],[1.0,\"#f0f921\"]]}],\"choropleth\":[{\"type\":\"choropleth\",\"colorbar\":{\"outlinewidth\":0,\"ticks\":\"\"}}],\"histogram2d\":[{\"type\":\"histogram2d\",\"colorbar\":{\"outlinewidth\":0,\"ticks\":\"\"},\"colorscale\":[[0.0,\"#0d0887\"],[0.1111111111111111,\"#46039f\"],[0.2222222222222222,\"#7201a8\"],[0.3333333333333333,\"#9c179e\"],[0.4444444444444444,\"#bd3786\"],[0.5555555555555556,\"#d8576b\"],[0.6666666666666666,\"#ed7953\"],[0.7777777777777778,\"#fb9f3a\"],[0.8888888888888888,\"#fdca26\"],[1.0,\"#f0f921\"]]}],\"heatmap\":[{\"type\":\"heatmap\",\"colorbar\":{\"outlinewidth\":0,\"ticks\":\"\"},\"colorscale\":[[0.0,\"#0d0887\"],[0.1111111111111111,\"#46039f\"],[0.2222222222222222,\"#7201a8\"],[0.3333333333333333,\"#9c179e\"],[0.4444444444444444,\"#bd3786\"],[0.5555555555555556,\"#d8576b\"],[0.6666666666666666,\"#ed7953\"],[0.7777777777777778,\"#fb9f3a\"],[0.8888888888888888,\"#fdca26\"],[1.0,\"#f0f921\"]]}],\"heatmapgl\":[{\"type\":\"heatmapgl\",\"colorbar\":{\"outlinewidth\":0,\"ticks\":\"\"},\"colorscale\":[[0.0,\"#0d0887\"],[0.1111111111111111,\"#46039f\"],[0.2222222222222222,\"#7201a8\"],[0.3333333333333333,\"#9c179e\"],[0.4444444444444444,\"#bd3786\"],[0.5555555555555556,\"#d8576b\"],[0.6666666666666666,\"#ed7953\"],[0.7777777777777778,\"#fb9f3a\"],[0.8888888888888888,\"#fdca26\"],[1.0,\"#f0f921\"]]}],\"contourcarpet\":[{\"type\":\"contourcarpet\",\"colorbar\":{\"outlinewidth\":0,\"ticks\":\"\"}}],\"contour\":[{\"type\":\"contour\",\"colorbar\":{\"outlinewidth\":0,\"ticks\":\"\"},\"colorscale\":[[0.0,\"#0d0887\"],[0.1111111111111111,\"#46039f\"],[0.2222222222222222,\"#7201a8\"],[0.3333333333333333,\"#9c179e\"],[0.4444444444444444,\"#bd3786\"],[0.5555555555555556,\"#d8576b\"],[0.6666666666666666,\"#ed7953\"],[0.7777777777777778,\"#fb9f3a\"],[0.8888888888888888,\"#fdca26\"],[1.0,\"#f0f921\"]]}],\"surface\":[{\"type\":\"surface\",\"colorbar\":{\"outlinewidth\":0,\"ticks\":\"\"},\"colorscale\":[[0.0,\"#0d0887\"],[0.1111111111111111,\"#46039f\"],[0.2222222222222222,\"#7201a8\"],[0.3333333333333333,\"#9c179e\"],[0.4444444444444444,\"#bd3786\"],[0.5555555555555556,\"#d8576b\"],[0.6666666666666666,\"#ed7953\"],[0.7777777777777778,\"#fb9f3a\"],[0.8888888888888888,\"#fdca26\"],[1.0,\"#f0f921\"]]}],\"mesh3d\":[{\"type\":\"mesh3d\",\"colorbar\":{\"outlinewidth\":0,\"ticks\":\"\"}}],\"scatter\":[{\"fillpattern\":{\"fillmode\":\"overlay\",\"size\":10,\"solidity\":0.2},\"type\":\"scatter\"}],\"parcoords\":[{\"type\":\"parcoords\",\"line\":{\"colorbar\":{\"outlinewidth\":0,\"ticks\":\"\"}}}],\"scatterpolargl\":[{\"type\":\"scatterpolargl\",\"marker\":{\"colorbar\":{\"outlinewidth\":0,\"ticks\":\"\"}}}],\"bar\":[{\"error_x\":{\"color\":\"#2a3f5f\"},\"error_y\":{\"color\":\"#2a3f5f\"},\"marker\":{\"line\":{\"color\":\"#E5ECF6\",\"width\":0.5},\"pattern\":{\"fillmode\":\"overlay\",\"size\":10,\"solidity\":0.2}},\"type\":\"bar\"}],\"scattergeo\":[{\"type\":\"scattergeo\",\"marker\":{\"colorbar\":{\"outlinewidth\":0,\"ticks\":\"\"}}}],\"scatterpolar\":[{\"type\":\"scatterpolar\",\"marker\":{\"colorbar\":{\"outlinewidth\":0,\"ticks\":\"\"}}}],\"histogram\":[{\"marker\":{\"pattern\":{\"fillmode\":\"overlay\",\"size\":10,\"solidity\":0.2}},\"type\":\"histogram\"}],\"scattergl\":[{\"type\":\"scattergl\",\"marker\":{\"colorbar\":{\"outlinewidth\":0,\"ticks\":\"\"}}}],\"scatter3d\":[{\"type\":\"scatter3d\",\"line\":{\"colorbar\":{\"outlinewidth\":0,\"ticks\":\"\"}},\"marker\":{\"colorbar\":{\"outlinewidth\":0,\"ticks\":\"\"}}}],\"scattermapbox\":[{\"type\":\"scattermapbox\",\"marker\":{\"colorbar\":{\"outlinewidth\":0,\"ticks\":\"\"}}}],\"scatterternary\":[{\"type\":\"scatterternary\",\"marker\":{\"colorbar\":{\"outlinewidth\":0,\"ticks\":\"\"}}}],\"scattercarpet\":[{\"type\":\"scattercarpet\",\"marker\":{\"colorbar\":{\"outlinewidth\":0,\"ticks\":\"\"}}}],\"carpet\":[{\"aaxis\":{\"endlinecolor\":\"#2a3f5f\",\"gridcolor\":\"white\",\"linecolor\":\"white\",\"minorgridcolor\":\"white\",\"startlinecolor\":\"#2a3f5f\"},\"baxis\":{\"endlinecolor\":\"#2a3f5f\",\"gridcolor\":\"white\",\"linecolor\":\"white\",\"minorgridcolor\":\"white\",\"startlinecolor\":\"#2a3f5f\"},\"type\":\"carpet\"}],\"table\":[{\"cells\":{\"fill\":{\"color\":\"#EBF0F8\"},\"line\":{\"color\":\"white\"}},\"header\":{\"fill\":{\"color\":\"#C8D4E3\"},\"line\":{\"color\":\"white\"}},\"type\":\"table\"}],\"barpolar\":[{\"marker\":{\"line\":{\"color\":\"#E5ECF6\",\"width\":0.5},\"pattern\":{\"fillmode\":\"overlay\",\"size\":10,\"solidity\":0.2}},\"type\":\"barpolar\"}],\"pie\":[{\"automargin\":true,\"type\":\"pie\"}]},\"layout\":{\"autotypenumbers\":\"strict\",\"colorway\":[\"#636efa\",\"#EF553B\",\"#00cc96\",\"#ab63fa\",\"#FFA15A\",\"#19d3f3\",\"#FF6692\",\"#B6E880\",\"#FF97FF\",\"#FECB52\"],\"font\":{\"color\":\"#2a3f5f\"},\"hovermode\":\"closest\",\"hoverlabel\":{\"align\":\"left\"},\"paper_bgcolor\":\"white\",\"plot_bgcolor\":\"#E5ECF6\",\"polar\":{\"bgcolor\":\"#E5ECF6\",\"angularaxis\":{\"gridcolor\":\"white\",\"linecolor\":\"white\",\"ticks\":\"\"},\"radialaxis\":{\"gridcolor\":\"white\",\"linecolor\":\"white\",\"ticks\":\"\"}},\"ternary\":{\"bgcolor\":\"#E5ECF6\",\"aaxis\":{\"gridcolor\":\"white\",\"linecolor\":\"white\",\"ticks\":\"\"},\"baxis\":{\"gridcolor\":\"white\",\"linecolor\":\"white\",\"ticks\":\"\"},\"caxis\":{\"gridcolor\":\"white\",\"linecolor\":\"white\",\"ticks\":\"\"}},\"coloraxis\":{\"colorbar\":{\"outlinewidth\":0,\"ticks\":\"\"}},\"colorscale\":{\"sequential\":[[0.0,\"#0d0887\"],[0.1111111111111111,\"#46039f\"],[0.2222222222222222,\"#7201a8\"],[0.3333333333333333,\"#9c179e\"],[0.4444444444444444,\"#bd3786\"],[0.5555555555555556,\"#d8576b\"],[0.6666666666666666,\"#ed7953\"],[0.7777777777777778,\"#fb9f3a\"],[0.8888888888888888,\"#fdca26\"],[1.0,\"#f0f921\"]],\"sequentialminus\":[[0.0,\"#0d0887\"],[0.1111111111111111,\"#46039f\"],[0.2222222222222222,\"#7201a8\"],[0.3333333333333333,\"#9c179e\"],[0.4444444444444444,\"#bd3786\"],[0.5555555555555556,\"#d8576b\"],[0.6666666666666666,\"#ed7953\"],[0.7777777777777778,\"#fb9f3a\"],[0.8888888888888888,\"#fdca26\"],[1.0,\"#f0f921\"]],\"diverging\":[[0,\"#8e0152\"],[0.1,\"#c51b7d\"],[0.2,\"#de77ae\"],[0.3,\"#f1b6da\"],[0.4,\"#fde0ef\"],[0.5,\"#f7f7f7\"],[0.6,\"#e6f5d0\"],[0.7,\"#b8e186\"],[0.8,\"#7fbc41\"],[0.9,\"#4d9221\"],[1,\"#276419\"]]},\"xaxis\":{\"gridcolor\":\"white\",\"linecolor\":\"white\",\"ticks\":\"\",\"title\":{\"standoff\":15},\"zerolinecolor\":\"white\",\"automargin\":true,\"zerolinewidth\":2},\"yaxis\":{\"gridcolor\":\"white\",\"linecolor\":\"white\",\"ticks\":\"\",\"title\":{\"standoff\":15},\"zerolinecolor\":\"white\",\"automargin\":true,\"zerolinewidth\":2},\"scene\":{\"xaxis\":{\"backgroundcolor\":\"#E5ECF6\",\"gridcolor\":\"white\",\"linecolor\":\"white\",\"showbackground\":true,\"ticks\":\"\",\"zerolinecolor\":\"white\",\"gridwidth\":2},\"yaxis\":{\"backgroundcolor\":\"#E5ECF6\",\"gridcolor\":\"white\",\"linecolor\":\"white\",\"showbackground\":true,\"ticks\":\"\",\"zerolinecolor\":\"white\",\"gridwidth\":2},\"zaxis\":{\"backgroundcolor\":\"#E5ECF6\",\"gridcolor\":\"white\",\"linecolor\":\"white\",\"showbackground\":true,\"ticks\":\"\",\"zerolinecolor\":\"white\",\"gridwidth\":2}},\"shapedefaults\":{\"line\":{\"color\":\"#2a3f5f\"}},\"annotationdefaults\":{\"arrowcolor\":\"#2a3f5f\",\"arrowhead\":0,\"arrowwidth\":1},\"geo\":{\"bgcolor\":\"white\",\"landcolor\":\"#E5ECF6\",\"subunitcolor\":\"white\",\"showland\":true,\"showlakes\":true,\"lakecolor\":\"white\"},\"title\":{\"x\":0.05},\"mapbox\":{\"style\":\"light\"}}},\"updatemenus\":[{\"buttons\":[{\"args\":[\"type\",\"scatter\"],\"label\":\"Scatter Plot\",\"method\":\"restyle\"},{\"args\":[\"type\",\"box\"],\"label\":\"Box Plot\",\"method\":\"restyle\"},{\"args\":[\"type\",\"bar\"],\"label\":\"Bar Plot\",\"method\":\"restyle\"}],\"direction\":\"down\"}],\"title\":{\"text\":\"Number of Rides (y axis) v/s Hour of the Day(x axis)\"}},                        {\"responsive\": true}                    ).then(function(){\n",
              "                            \n",
              "var gd = document.getElementById('abed27f2-8144-4c31-becf-7cccb2ed2eac');\n",
              "var x = new MutationObserver(function (mutations, observer) {{\n",
              "        var display = window.getComputedStyle(gd).display;\n",
              "        if (!display || display === 'none') {{\n",
              "            console.log([gd, 'removed!']);\n",
              "            Plotly.purge(gd);\n",
              "            observer.disconnect();\n",
              "        }}\n",
              "}});\n",
              "\n",
              "// Listen for the removal of the full notebook cells\n",
              "var notebookContainer = gd.closest('#notebook-container');\n",
              "if (notebookContainer) {{\n",
              "    x.observe(notebookContainer, {childList: true});\n",
              "}}\n",
              "\n",
              "// Listen for the clearing of the current output cell\n",
              "var outputEl = gd.closest('.output');\n",
              "if (outputEl) {{\n",
              "    x.observe(outputEl, {childList: true});\n",
              "}}\n",
              "\n",
              "                        })                };                            </script>        </div>\n",
              "</body>\n",
              "</html>"
            ]
          },
          "metadata": {}
        }
      ]
    },
    {
      "cell_type": "code",
      "source": [],
      "metadata": {
        "id": "LfpotrLT8SGI"
      },
      "execution_count": null,
      "outputs": []
    },
    {
      "cell_type": "code",
      "source": [],
      "metadata": {
        "id": "33I_4C2KVvoh"
      },
      "execution_count": null,
      "outputs": []
    }
  ],
  "metadata": {
    "colab": {
      "provenance": []
    },
    "kernelspec": {
      "display_name": "Python 3",
      "name": "python3"
    },
    "language_info": {
      "name": "python"
    }
  },
  "nbformat": 4,
  "nbformat_minor": 0
}